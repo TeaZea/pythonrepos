{
 "cells": [
  {
   "cell_type": "code",
   "execution_count": 25,
   "id": "48e408bd",
   "metadata": {},
   "outputs": [],
   "source": [
    "#userguess\n",
    "\n",
    "def user_guess():\n",
    "    \n",
    "    user_guess = int(input(\"Choose a number from 1 to 9: \"))\n",
    "    return(user_guess)"
   ]
  },
  {
   "cell_type": "code",
   "execution_count": 26,
   "id": "a63b5cb9",
   "metadata": {},
   "outputs": [
    {
     "name": "stdout",
     "output_type": "stream",
     "text": [
      "Choose a number from 1 to 9: 1\n"
     ]
    },
    {
     "data": {
      "text/plain": [
       "1"
      ]
     },
     "execution_count": 26,
     "metadata": {},
     "output_type": "execute_result"
    }
   ],
   "source": [
    "user_guess()"
   ]
  },
  {
   "cell_type": "code",
   "execution_count": 39,
   "id": "0d2051cb",
   "metadata": {},
   "outputs": [],
   "source": [
    "#randomize number\n",
    "\n",
    "import random\n",
    "import string\n",
    "\n",
    "nums = list(string.digits)\n",
    "\n",
    "def r_num():\n",
    "\n",
    "    random.shuffle(nums)\n",
    "    \n",
    "    return(nums)"
   ]
  },
  {
   "cell_type": "code",
   "execution_count": 40,
   "id": "532ae16e",
   "metadata": {},
   "outputs": [
    {
     "data": {
      "text/plain": [
       "'0'"
      ]
     },
     "execution_count": 40,
     "metadata": {},
     "output_type": "execute_result"
    }
   ],
   "source": [
    "r_num()[0] #need to index first number in list for the answer"
   ]
  },
  {
   "cell_type": "code",
   "execution_count": 2,
   "id": "9b3c7596",
   "metadata": {},
   "outputs": [],
   "source": [
    "#number check\n",
    "\n",
    "def num_check():\n",
    "    \n",
    "    guess = 0\n",
    "    \n",
    "    while guess > 5:\n",
    "        return \"higher\"\n",
    "        guess = int(input(\"Choose a number from 1 to 9: \")) \n",
    "        "
   ]
  },
  {
   "cell_type": "code",
   "execution_count": 4,
   "id": "9b6b9137",
   "metadata": {
    "scrolled": true
   },
   "outputs": [],
   "source": [
    "num_check()"
   ]
  },
  {
   "cell_type": "code",
   "execution_count": 1,
   "id": "023ee0b1",
   "metadata": {},
   "outputs": [
    {
     "ename": "NameError",
     "evalue": "name 'user_guess' is not defined",
     "output_type": "error",
     "traceback": [
      "\u001b[0;31m---------------------------------------------------------------------------\u001b[0m",
      "\u001b[0;31mNameError\u001b[0m                                 Traceback (most recent call last)",
      "\u001b[0;32m/tmp/ipykernel_5082/2013309749.py\u001b[0m in \u001b[0;36m<module>\u001b[0;34m\u001b[0m\n\u001b[1;32m      1\u001b[0m \u001b[0;31m#script\u001b[0m\u001b[0;34m\u001b[0m\u001b[0;34m\u001b[0m\u001b[0m\n\u001b[0;32m----> 2\u001b[0;31m \u001b[0mguess\u001b[0m \u001b[0;34m=\u001b[0m \u001b[0muser_guess\u001b[0m\u001b[0;34m(\u001b[0m\u001b[0;34m)\u001b[0m\u001b[0;34m\u001b[0m\u001b[0;34m\u001b[0m\u001b[0m\n\u001b[0m\u001b[1;32m      3\u001b[0m \u001b[0mrandom_nums\u001b[0m \u001b[0;34m=\u001b[0m \u001b[0mr_nums\u001b[0m\u001b[0;34m\u001b[0m\u001b[0;34m\u001b[0m\u001b[0m\n",
      "\u001b[0;31mNameError\u001b[0m: name 'user_guess' is not defined"
     ]
    }
   ],
   "source": [
    "#script\n",
    "guess = user_guess()\n",
    "random_nums = r_nums"
   ]
  },
  {
   "cell_type": "code",
   "execution_count": null,
   "id": "908a2db8",
   "metadata": {},
   "outputs": [],
   "source": []
  },
  {
   "cell_type": "code",
   "execution_count": null,
   "id": "1036fc94",
   "metadata": {},
   "outputs": [],
   "source": []
  },
  {
   "cell_type": "code",
   "execution_count": null,
   "id": "23c0e6d8",
   "metadata": {},
   "outputs": [],
   "source": []
  },
  {
   "cell_type": "code",
   "execution_count": null,
   "id": "ecd56ace",
   "metadata": {},
   "outputs": [],
   "source": []
  },
  {
   "cell_type": "code",
   "execution_count": null,
   "id": "1ff4a22c",
   "metadata": {},
   "outputs": [],
   "source": []
  },
  {
   "cell_type": "code",
   "execution_count": null,
   "id": "9c90c31d",
   "metadata": {},
   "outputs": [],
   "source": []
  },
  {
   "cell_type": "code",
   "execution_count": null,
   "id": "ba5ed221",
   "metadata": {},
   "outputs": [],
   "source": []
  },
  {
   "cell_type": "code",
   "execution_count": null,
   "id": "930730fe",
   "metadata": {},
   "outputs": [],
   "source": []
  },
  {
   "cell_type": "code",
   "execution_count": null,
   "id": "c561e759",
   "metadata": {},
   "outputs": [],
   "source": []
  },
  {
   "cell_type": "code",
   "execution_count": null,
   "id": "491f6de2",
   "metadata": {},
   "outputs": [],
   "source": []
  },
  {
   "cell_type": "code",
   "execution_count": null,
   "id": "7d871882",
   "metadata": {},
   "outputs": [],
   "source": []
  },
  {
   "cell_type": "code",
   "execution_count": null,
   "id": "b1e5332d",
   "metadata": {},
   "outputs": [],
   "source": []
  },
  {
   "cell_type": "code",
   "execution_count": null,
   "id": "237400bd",
   "metadata": {},
   "outputs": [],
   "source": []
  },
  {
   "cell_type": "code",
   "execution_count": null,
   "id": "d31a2ef6",
   "metadata": {},
   "outputs": [],
   "source": []
  },
  {
   "cell_type": "code",
   "execution_count": 1,
   "id": "2a5d14d5",
   "metadata": {},
   "outputs": [],
   "source": [
    "import random\n",
    "import string\n",
    "\n",
    "nums = list(string.digits)"
   ]
  },
  {
   "cell_type": "code",
   "execution_count": 2,
   "id": "42e82c68",
   "metadata": {},
   "outputs": [
    {
     "data": {
      "text/plain": [
       "['0', '1', '2', '3', '4', '5', '6', '7', '8', '9']"
      ]
     },
     "execution_count": 2,
     "metadata": {},
     "output_type": "execute_result"
    }
   ],
   "source": [
    "nums"
   ]
  },
  {
   "cell_type": "code",
   "execution_count": 3,
   "id": "be4703ea",
   "metadata": {},
   "outputs": [],
   "source": [
    "#user guess\n",
    "\n",
    "def user_guess():\n",
    "    \n",
    "    guess = \"\"\n",
    "    \n",
    "    while guess == \"\":\n",
    "        guess = input(\"Choose a number from 1 - 9: \")\n",
    "        \n",
    "        return int(guess)\n",
    "    "
   ]
  },
  {
   "cell_type": "code",
   "execution_count": 4,
   "id": "e3a12db0",
   "metadata": {},
   "outputs": [
    {
     "name": "stdout",
     "output_type": "stream",
     "text": [
      "Choose a number from 1 - 9: 1\n"
     ]
    },
    {
     "data": {
      "text/plain": [
       "1"
      ]
     },
     "execution_count": 4,
     "metadata": {},
     "output_type": "execute_result"
    }
   ],
   "source": [
    "user_guess()"
   ]
  },
  {
   "cell_type": "code",
   "execution_count": 5,
   "id": "d642e1b7",
   "metadata": {},
   "outputs": [],
   "source": [
    "#randomize numers\n",
    "\n",
    "def ran_num():\n",
    "    \n",
    "    random.shuffle(nums)\n",
    "    \n",
    "    return(nums)[0]"
   ]
  },
  {
   "cell_type": "code",
   "execution_count": 6,
   "id": "9302e692",
   "metadata": {},
   "outputs": [
    {
     "data": {
      "text/plain": [
       "'4'"
      ]
     },
     "execution_count": 6,
     "metadata": {},
     "output_type": "execute_result"
    }
   ],
   "source": [
    "ran_num()"
   ]
  },
  {
   "cell_type": "code",
   "execution_count": 7,
   "id": "8fd11811",
   "metadata": {},
   "outputs": [],
   "source": [
    "#check\n",
    "\n",
    "def num_check(rnum):\n",
    "    \n",
    "    if user_guess < rnum:\n",
    "        print(\"higher\")\n",
    "        return input(\"Choose a number from 1 - 9: \")\n",
    "    elif user_guess > rnum:\n",
    "        print(\"lower\")\n",
    "        return input(\"Choose a number from 1 - 9: \")\n",
    "    else:\n",
    "        print(\"correct!\")"
   ]
  },
  {
   "cell_type": "code",
   "execution_count": 8,
   "id": "6e1470a9",
   "metadata": {},
   "outputs": [
    {
     "name": "stdout",
     "output_type": "stream",
     "text": [
      "Choose a number from 1 - 9: 1\n"
     ]
    },
    {
     "ename": "TypeError",
     "evalue": "'<' not supported between instances of 'function' and 'str'",
     "output_type": "error",
     "traceback": [
      "\u001b[0;31m---------------------------------------------------------------------------\u001b[0m",
      "\u001b[0;31mTypeError\u001b[0m                                 Traceback (most recent call last)",
      "\u001b[0;32m/tmp/ipykernel_5209/3546273645.py\u001b[0m in \u001b[0;36m<module>\u001b[0;34m\u001b[0m\n\u001b[1;32m     11\u001b[0m     \u001b[0mguess\u001b[0m \u001b[0;34m=\u001b[0m \u001b[0muser_guess\u001b[0m\u001b[0;34m(\u001b[0m\u001b[0;34m)\u001b[0m\u001b[0;34m\u001b[0m\u001b[0;34m\u001b[0m\u001b[0m\n\u001b[1;32m     12\u001b[0m \u001b[0;34m\u001b[0m\u001b[0m\n\u001b[0;32m---> 13\u001b[0;31m     \u001b[0mcheck\u001b[0m \u001b[0;34m=\u001b[0m \u001b[0mnum_check\u001b[0m\u001b[0;34m(\u001b[0m\u001b[0mrnum\u001b[0m\u001b[0;34m)\u001b[0m\u001b[0;34m\u001b[0m\u001b[0;34m\u001b[0m\u001b[0m\n\u001b[0m",
      "\u001b[0;32m/tmp/ipykernel_5209/315961077.py\u001b[0m in \u001b[0;36mnum_check\u001b[0;34m(rnum)\u001b[0m\n\u001b[1;32m      3\u001b[0m \u001b[0;32mdef\u001b[0m \u001b[0mnum_check\u001b[0m\u001b[0;34m(\u001b[0m\u001b[0mrnum\u001b[0m\u001b[0;34m)\u001b[0m\u001b[0;34m:\u001b[0m\u001b[0;34m\u001b[0m\u001b[0;34m\u001b[0m\u001b[0m\n\u001b[1;32m      4\u001b[0m \u001b[0;34m\u001b[0m\u001b[0m\n\u001b[0;32m----> 5\u001b[0;31m     \u001b[0;32mif\u001b[0m \u001b[0muser_guess\u001b[0m \u001b[0;34m<\u001b[0m \u001b[0mrnum\u001b[0m\u001b[0;34m:\u001b[0m\u001b[0;34m\u001b[0m\u001b[0;34m\u001b[0m\u001b[0m\n\u001b[0m\u001b[1;32m      6\u001b[0m         \u001b[0mprint\u001b[0m\u001b[0;34m(\u001b[0m\u001b[0;34m\"higher\"\u001b[0m\u001b[0;34m)\u001b[0m\u001b[0;34m\u001b[0m\u001b[0;34m\u001b[0m\u001b[0m\n\u001b[1;32m      7\u001b[0m         \u001b[0;32mreturn\u001b[0m \u001b[0minput\u001b[0m\u001b[0;34m(\u001b[0m\u001b[0;34m\"Choose a number from 1 - 9: \"\u001b[0m\u001b[0;34m)\u001b[0m\u001b[0;34m\u001b[0m\u001b[0;34m\u001b[0m\u001b[0m\n",
      "\u001b[0;31mTypeError\u001b[0m: '<' not supported between instances of 'function' and 'str'"
     ]
    }
   ],
   "source": [
    "import random\n",
    "import string\n",
    "\n",
    "nums = list(string.digits)\n",
    "game_on = True\n",
    "\n",
    "while game_on == True:\n",
    "    \n",
    "    rnum = ran_num()\n",
    "    \n",
    "    guess = user_guess()\n",
    "    \n",
    "    check = num_check(rnum)\n"
   ]
  },
  {
   "cell_type": "code",
   "execution_count": null,
   "id": "f84cf08d",
   "metadata": {},
   "outputs": [],
   "source": []
  }
 ],
 "metadata": {
  "kernelspec": {
   "display_name": "Python 3 (ipykernel)",
   "language": "python",
   "name": "python3"
  },
  "language_info": {
   "codemirror_mode": {
    "name": "ipython",
    "version": 3
   },
   "file_extension": ".py",
   "mimetype": "text/x-python",
   "name": "python",
   "nbconvert_exporter": "python",
   "pygments_lexer": "ipython3",
   "version": "3.9.7"
  }
 },
 "nbformat": 4,
 "nbformat_minor": 5
}

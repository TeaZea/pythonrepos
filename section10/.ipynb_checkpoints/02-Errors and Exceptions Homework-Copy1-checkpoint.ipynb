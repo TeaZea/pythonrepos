{
 "cells": [
  {
   "cell_type": "markdown",
   "metadata": {},
   "source": [
    "___\n",
    "\n",
    "<a href='https://www.udemy.com/user/joseportilla/'><img src='../Pierian_Data_Logo.png'/></a>\n",
    "___\n",
    "<center><em>Content Copyright by Pierian Data</em></center>"
   ]
  },
  {
   "cell_type": "markdown",
   "metadata": {},
   "source": [
    "# Errors and Exceptions Homework"
   ]
  },
  {
   "cell_type": "markdown",
   "metadata": {},
   "source": [
    "### Problem 1\n",
    "Handle the exception thrown by the code below by using <code>try</code> and <code>except</code> blocks."
   ]
  },
  {
   "cell_type": "code",
   "execution_count": 21,
   "metadata": {},
   "outputs": [
    {
     "name": "stdout",
     "output_type": "stream",
     "text": [
      "Error, Watch out\n"
     ]
    }
   ],
   "source": [
    "#SOLUTIONS CODE\n",
    "\n",
    "try:\n",
    "    for i in ['a', 'b', ',c']:\n",
    "        print(i**2)\n",
    "except:\n",
    "    print(\"Error, Watch out\")\n",
    "\n",
    "\n",
    "#MY CODE (WORKS)\n",
    "\n",
    "#for i in ['a','b','c']:\n",
    "    \n",
    "    #while True:\n",
    "        #try:\n",
    "            #print(i**2)\n",
    "        #except:\n",
    "            #print(\"Something is wrong..\")\n",
    "            #continue\n",
    "        #finally:\n",
    "            #print(\"Cannot perform math functions on strings\")\n",
    "            #break"
   ]
  },
  {
   "cell_type": "markdown",
   "metadata": {},
   "source": [
    "### Problem 2\n",
    "Handle the exception thrown by the code below by using <code>try</code> and <code>except</code> blocks. Then use a <code>finally</code> block to print 'All Done.'"
   ]
  },
  {
   "cell_type": "code",
   "execution_count": 22,
   "metadata": {},
   "outputs": [
    {
     "name": "stdout",
     "output_type": "stream",
     "text": [
      "Error!\n",
      "All Done\n"
     ]
    }
   ],
   "source": [
    "try:\n",
    "    x = 5\n",
    "    y = 0\n",
    "    z = x/y\n",
    "except:\n",
    "    print(\"Error!\")\n",
    "finally:\n",
    "    print(\"All Done\")"
   ]
  },
  {
   "cell_type": "markdown",
   "metadata": {},
   "source": [
    "### Problem 3\n",
    "Write a function that asks for an integer and prints the square of it. Use a <code>while</code> loop with a <code>try</code>, <code>except</code>, <code>else</code> block to account for incorrect inputs."
   ]
  },
  {
   "cell_type": "code",
   "execution_count": 25,
   "metadata": {},
   "outputs": [],
   "source": [
    "def ask():\n",
    "    \n",
    "    while True:\n",
    "        try: \n",
    "            n = int(input(\"Enter a number: \"))\n",
    "        except:\n",
    "            print(\"Please try again \\n\")\n",
    "            continue\n",
    "        else:\n",
    "            break\n",
    "    #print statment is outside loop so it will not print as a finally statement        \n",
    "    print(\"Your number squared is: \")\n",
    "    print(n**2)\n",
    "            \n",
    "    \n",
    "    \n",
    "    \n",
    "    #MY CODE (WORKS)\n",
    "    \n",
    "    #while True:\n",
    "        #try:\n",
    "            #result = int(input(\"Input an int: \"))\n",
    "        #except:\n",
    "            #sq = \"\"\n",
    "            #print(\"Soemthing's wrong!\")\n",
    "            #continue\n",
    "        #else:\n",
    "            #sq = result**2\n",
    "            #print(sq)\n",
    "            #break\n",
    "        #finally:\n",
    "            #print(f\"Thank you, your number squared is: {sq}\")\n",
    "            "
   ]
  },
  {
   "cell_type": "code",
   "execution_count": 26,
   "metadata": {},
   "outputs": [
    {
     "name": "stdout",
     "output_type": "stream",
     "text": [
      "Enter a number: null\n",
      "Please try again \n",
      "\n",
      "Enter a number: q\n",
      "Please try again \n",
      "\n",
      "Enter a number: 10\n",
      "Your number squared is: \n",
      "100\n"
     ]
    }
   ],
   "source": [
    "ask()"
   ]
  },
  {
   "cell_type": "markdown",
   "metadata": {},
   "source": [
    "# Great Job!"
   ]
  }
 ],
 "metadata": {
  "kernelspec": {
   "display_name": "Python 3 (ipykernel)",
   "language": "python",
   "name": "python3"
  },
  "language_info": {
   "codemirror_mode": {
    "name": "ipython",
    "version": 3
   },
   "file_extension": ".py",
   "mimetype": "text/x-python",
   "name": "python",
   "nbconvert_exporter": "python",
   "pygments_lexer": "ipython3",
   "version": "3.9.7"
  }
 },
 "nbformat": 4,
 "nbformat_minor": 1
}

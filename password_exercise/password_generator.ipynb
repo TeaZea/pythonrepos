{
 "cells": [
  {
   "cell_type": "code",
   "execution_count": 1,
   "id": "78644828",
   "metadata": {},
   "outputs": [],
   "source": [
    "#import shuffle\n",
    "#import random\n",
    "#import alphabet\n",
    "\n",
    "\n",
    "#create a list of characters for the password containing all \n",
    "#the alhabet + numbers\n",
    "\n",
    "#function asking the user to input length of password and convert to int\n",
    "\n",
    "#choose random amount of letters and numbers from characters list\n",
    "\n",
    "#shuffle the chosen ones\n",
    "\n",
    "#return new shuffled password"
   ]
  },
  {
   "cell_type": "code",
   "execution_count": 1,
   "id": "8c2031d6",
   "metadata": {},
   "outputs": [],
   "source": [
    "import random"
   ]
  },
  {
   "cell_type": "code",
   "execution_count": 2,
   "id": "0d5012f1",
   "metadata": {},
   "outputs": [],
   "source": [
    "mylist = [1,2,3,4,5]"
   ]
  },
  {
   "cell_type": "code",
   "execution_count": 3,
   "id": "0c55b3cc",
   "metadata": {},
   "outputs": [],
   "source": [
    "random.shuffle(mylist)"
   ]
  },
  {
   "cell_type": "code",
   "execution_count": 4,
   "id": "478918db",
   "metadata": {},
   "outputs": [
    {
     "data": {
      "text/plain": [
       "[3, 4, 5, 2, 1]"
      ]
     },
     "execution_count": 4,
     "metadata": {},
     "output_type": "execute_result"
    }
   ],
   "source": [
    "mylist"
   ]
  },
  {
   "cell_type": "code",
   "execution_count": 5,
   "id": "0eae5908",
   "metadata": {},
   "outputs": [],
   "source": [
    "import string"
   ]
  },
  {
   "cell_type": "code",
   "execution_count": 6,
   "id": "f565ead8",
   "metadata": {},
   "outputs": [],
   "source": [
    "chars = [string.ascii_lowercase, string.ascii_uppercase, string.digits]"
   ]
  },
  {
   "cell_type": "code",
   "execution_count": 7,
   "id": "07bf4ec1",
   "metadata": {},
   "outputs": [
    {
     "data": {
      "text/plain": [
       "['abcdefghijklmnopqrstuvwxyz', 'ABCDEFGHIJKLMNOPQRSTUVWXYZ', '0123456789']"
      ]
     },
     "execution_count": 7,
     "metadata": {},
     "output_type": "execute_result"
    }
   ],
   "source": [
    "chars"
   ]
  },
  {
   "cell_type": "code",
   "execution_count": 1,
   "id": "c51e94fd",
   "metadata": {},
   "outputs": [],
   "source": [
    "import random\n",
    "import string\n",
    "\n",
    "chars = list(string.ascii_lowercase + string.digits)\n",
    "\n",
    "def genorator():\n",
    "    \n",
    "    ran_pass = []\n",
    "    \n",
    "    length = int(input(\"How long is your password? \"))\n",
    "    \n",
    "    random.shuffle(chars)\n",
    "    \n",
    "    for i in range(length):\n",
    "        ran_pass.append(random.choice(chars))\n",
    "        \n",
    "    random.shuffle(ran_pass)\n",
    "    \n",
    "    new_pass = []\n",
    "    \n",
    "    for ele in ran_pass:\n",
    "        if ele.strip():\n",
    "            new_pass.append(ele)\n",
    "    \n",
    "    print(\" \".join(new_pass))"
   ]
  },
  {
   "cell_type": "code",
   "execution_count": 2,
   "id": "53e408ba",
   "metadata": {},
   "outputs": [
    {
     "name": "stdout",
     "output_type": "stream",
     "text": [
      "How long is your password? 10\n",
      "x d a b g s 3 r c v\n"
     ]
    }
   ],
   "source": [
    "genorator()"
   ]
  },
  {
   "cell_type": "code",
   "execution_count": null,
   "id": "54232332",
   "metadata": {},
   "outputs": [],
   "source": []
  }
 ],
 "metadata": {
  "kernelspec": {
   "display_name": "Python 3 (ipykernel)",
   "language": "python",
   "name": "python3"
  },
  "language_info": {
   "codemirror_mode": {
    "name": "ipython",
    "version": 3
   },
   "file_extension": ".py",
   "mimetype": "text/x-python",
   "name": "python",
   "nbconvert_exporter": "python",
   "pygments_lexer": "ipython3",
   "version": "3.9.7"
  }
 },
 "nbformat": 4,
 "nbformat_minor": 5
}

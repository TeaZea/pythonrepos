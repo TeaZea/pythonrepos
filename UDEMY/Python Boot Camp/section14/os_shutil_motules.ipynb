{
 "cells": [
  {
   "cell_type": "code",
   "execution_count": 1,
   "id": "4bc4c2e6",
   "metadata": {},
   "outputs": [
    {
     "data": {
      "text/plain": [
       "'/home/stefano/pythonrepos/section14'"
      ]
     },
     "execution_count": 1,
     "metadata": {},
     "output_type": "execute_result"
    }
   ],
   "source": [
    "pwd#linux/macos system"
   ]
  },
  {
   "cell_type": "code",
   "execution_count": 2,
   "id": "40be6a72",
   "metadata": {},
   "outputs": [],
   "source": [
    "f = open(\"practice.txt.\",\"w+\")\n",
    "f.write(\"this is a test string\")\n",
    "f.close()"
   ]
  },
  {
   "cell_type": "code",
   "execution_count": 3,
   "id": "5a41d843",
   "metadata": {},
   "outputs": [],
   "source": [
    "#os moudle allows you get current working dir \n",
    "#list all filse in a dir"
   ]
  },
  {
   "cell_type": "code",
   "execution_count": 4,
   "id": "a399444c",
   "metadata": {},
   "outputs": [],
   "source": [
    "import os"
   ]
  },
  {
   "cell_type": "code",
   "execution_count": 5,
   "id": "16718c14",
   "metadata": {},
   "outputs": [
    {
     "data": {
      "text/plain": [
       "'/home/stefano/pythonrepos/section14'"
      ]
     },
     "execution_count": 5,
     "metadata": {},
     "output_type": "execute_result"
    }
   ],
   "source": [
    "os.getcwd()"
   ]
  },
  {
   "cell_type": "code",
   "execution_count": 6,
   "id": "73eff9e2",
   "metadata": {},
   "outputs": [
    {
     "data": {
      "text/plain": [
       "['collections_module.ipynb',\n",
       " 'os_shuti_motules.ipynb',\n",
       " '.ipynb_checkpoints',\n",
       " 'practice.txt.']"
      ]
     },
     "execution_count": 6,
     "metadata": {},
     "output_type": "execute_result"
    }
   ],
   "source": [
    "os.listdir()"
   ]
  },
  {
   "cell_type": "code",
   "execution_count": 7,
   "id": "47e8b6a2",
   "metadata": {},
   "outputs": [
    {
     "data": {
      "text/plain": [
       "['pythonrepos',\n",
       " '.Xdefaults',\n",
       " 'Music',\n",
       " '.config',\n",
       " '.pki',\n",
       " '.ICEauthority',\n",
       " 'Videos',\n",
       " '.condarc',\n",
       " '.sudo_as_admin_successful',\n",
       " 'Desktop',\n",
       " '.xsession-errors',\n",
       " 'Downloads',\n",
       " '.bash_logout',\n",
       " '.xsession-errors.old',\n",
       " '.vscode',\n",
       " '.bash_history',\n",
       " '.dmrc',\n",
       " '.cache',\n",
       " '.continuum',\n",
       " '.python_history-15033.tmp',\n",
       " '.gnupg',\n",
       " '.local',\n",
       " '.pylint.d',\n",
       " '.vboxclient-draganddrop.pid',\n",
       " '.vboxclient-clipboard.pid',\n",
       " 'Templates',\n",
       " '.python_history',\n",
       " '.vboxclient-seamless.pid',\n",
       " '.vboxclient-display-svga-x11.pid',\n",
       " '.ipython',\n",
       " '.mozilla',\n",
       " 'anaconda3',\n",
       " '.jupyter',\n",
       " '.bashrc',\n",
       " '.Xauthority',\n",
       " 'repos',\n",
       " 'Public',\n",
       " '.conda',\n",
       " '.anaconda',\n",
       " '.ipynb_checkpoints',\n",
       " 'Complete-Python-3-Bootcamp',\n",
       " '.profile',\n",
       " 'Pictures',\n",
       " 'Documents',\n",
       " '.xscreensaver',\n",
       " '.ssh',\n",
       " '.gitconfig']"
      ]
     },
     "execution_count": 7,
     "metadata": {},
     "output_type": "execute_result"
    }
   ],
   "source": [
    "os.listdir(\"/home/stefano\")"
   ]
  },
  {
   "cell_type": "code",
   "execution_count": 10,
   "id": "80fbc08b",
   "metadata": {},
   "outputs": [],
   "source": [
    "import shutil"
   ]
  },
  {
   "cell_type": "code",
   "execution_count": 13,
   "id": "22090a59",
   "metadata": {},
   "outputs": [
    {
     "data": {
      "text/plain": [
       "['os_shutil_motules.ipynb',\n",
       " 'collections_module.ipynb',\n",
       " '.ipynb_checkpoints',\n",
       " 'practice.txt.']"
      ]
     },
     "execution_count": 13,
     "metadata": {},
     "output_type": "execute_result"
    }
   ],
   "source": [
    "os.listdir()"
   ]
  },
  {
   "cell_type": "code",
   "execution_count": 14,
   "id": "0ec87e19",
   "metadata": {},
   "outputs": [
    {
     "data": {
      "text/plain": [
       "'/home/stefano/practice.txt.'"
      ]
     },
     "execution_count": 14,
     "metadata": {},
     "output_type": "execute_result"
    }
   ],
   "source": [
    "shutil.move(\"practice.txt.\",\"/home/stefano\")"
   ]
  },
  {
   "cell_type": "code",
   "execution_count": 16,
   "id": "72149580",
   "metadata": {},
   "outputs": [
    {
     "data": {
      "text/plain": [
       "['pythonrepos',\n",
       " '.Xdefaults',\n",
       " 'Music',\n",
       " '.config',\n",
       " '.pki',\n",
       " '.ICEauthority',\n",
       " 'Videos',\n",
       " '.condarc',\n",
       " '.sudo_as_admin_successful',\n",
       " 'Desktop',\n",
       " '.xsession-errors',\n",
       " 'Downloads',\n",
       " '.bash_logout',\n",
       " '.xsession-errors.old',\n",
       " '.vscode',\n",
       " '.bash_history',\n",
       " '.dmrc',\n",
       " '.cache',\n",
       " '.continuum',\n",
       " '.python_history-15033.tmp',\n",
       " '.gnupg',\n",
       " '.local',\n",
       " '.pylint.d',\n",
       " '.vboxclient-draganddrop.pid',\n",
       " '.vboxclient-clipboard.pid',\n",
       " 'Templates',\n",
       " '.python_history',\n",
       " '.vboxclient-seamless.pid',\n",
       " '.vboxclient-display-svga-x11.pid',\n",
       " '.ipython',\n",
       " '.mozilla',\n",
       " 'anaconda3',\n",
       " '.jupyter',\n",
       " '.bashrc',\n",
       " '.Xauthority',\n",
       " 'repos',\n",
       " 'Public',\n",
       " '.conda',\n",
       " '.anaconda',\n",
       " '.ipynb_checkpoints',\n",
       " 'Complete-Python-3-Bootcamp',\n",
       " '.profile',\n",
       " 'Pictures',\n",
       " 'Documents',\n",
       " '.xscreensaver',\n",
       " '.ssh',\n",
       " 'practice.txt.',\n",
       " '.gitconfig']"
      ]
     },
     "execution_count": 16,
     "metadata": {},
     "output_type": "execute_result"
    }
   ],
   "source": [
    "os.listdir(\"/home/stefano\")"
   ]
  },
  {
   "cell_type": "code",
   "execution_count": 17,
   "id": "0aead936",
   "metadata": {},
   "outputs": [],
   "source": [
    "import send2trash"
   ]
  },
  {
   "cell_type": "code",
   "execution_count": 18,
   "id": "119f9bb8",
   "metadata": {},
   "outputs": [
    {
     "data": {
      "text/plain": [
       "['os_shutil_motules.ipynb', 'collections_module.ipynb', '.ipynb_checkpoints']"
      ]
     },
     "execution_count": 18,
     "metadata": {},
     "output_type": "execute_result"
    }
   ],
   "source": [
    "os.listdir()"
   ]
  },
  {
   "cell_type": "code",
   "execution_count": 19,
   "id": "23320dbc",
   "metadata": {},
   "outputs": [
    {
     "data": {
      "text/plain": [
       "'/home/stefano/pythonrepos/section14/practice.txt.'"
      ]
     },
     "execution_count": 19,
     "metadata": {},
     "output_type": "execute_result"
    }
   ],
   "source": [
    "shutil.move('/home/stefano/practice.txt.',os.getcwd())"
   ]
  },
  {
   "cell_type": "code",
   "execution_count": 21,
   "id": "3bc06ea9",
   "metadata": {},
   "outputs": [
    {
     "data": {
      "text/plain": [
       "['os_shutil_motules.ipynb',\n",
       " 'collections_module.ipynb',\n",
       " '.ipynb_checkpoints',\n",
       " 'practice.txt.']"
      ]
     },
     "execution_count": 21,
     "metadata": {},
     "output_type": "execute_result"
    }
   ],
   "source": [
    "os.listdir()"
   ]
  },
  {
   "cell_type": "code",
   "execution_count": 23,
   "id": "aab2f93c",
   "metadata": {},
   "outputs": [],
   "source": [
    "send2trash.send2trash(\"practice.txt.\")"
   ]
  },
  {
   "cell_type": "code",
   "execution_count": 24,
   "id": "4d87e1dc",
   "metadata": {},
   "outputs": [
    {
     "data": {
      "text/plain": [
       "['os_shutil_motules.ipynb', 'collections_module.ipynb', '.ipynb_checkpoints']"
      ]
     },
     "execution_count": 24,
     "metadata": {},
     "output_type": "execute_result"
    }
   ],
   "source": [
    "os.listdir()"
   ]
  },
  {
   "cell_type": "code",
   "execution_count": 25,
   "id": "b4616216",
   "metadata": {},
   "outputs": [],
   "source": [
    "file_path = \"/home/stefano/Complete-Python-3-Bootcamp/12-Advanced Python Modules/Example_Top_Level\""
   ]
  },
  {
   "cell_type": "code",
   "execution_count": 27,
   "id": "2526d169",
   "metadata": {},
   "outputs": [
    {
     "name": "stdout",
     "output_type": "stream",
     "text": [
      "Currently looking at /home/stefano/Complete-Python-3-Bootcamp/12-Advanced Python Modules/Example_Top_Level\n",
      "\n",
      "\n",
      "The subfolders are: \n",
      "\t Subfolder: Mid-Example-One\n",
      "\n",
      "\n",
      "The files are: \n",
      "\t File: Mid-Example.txt\n",
      "\n",
      "\n",
      "Currently looking at /home/stefano/Complete-Python-3-Bootcamp/12-Advanced Python Modules/Example_Top_Level/Mid-Example-One\n",
      "\n",
      "\n",
      "The subfolders are: \n",
      "\t Subfolder: Bottom-Level-Two\n",
      "\t Subfolder: Bottom-Level-One\n",
      "\n",
      "\n",
      "The files are: \n",
      "\t File: Mid-Level-Doc.txt\n",
      "\n",
      "\n",
      "Currently looking at /home/stefano/Complete-Python-3-Bootcamp/12-Advanced Python Modules/Example_Top_Level/Mid-Example-One/Bottom-Level-Two\n",
      "\n",
      "\n",
      "The subfolders are: \n",
      "\n",
      "\n",
      "The files are: \n",
      "\t File: Bottom-Text-Two.txt\n",
      "\n",
      "\n",
      "Currently looking at /home/stefano/Complete-Python-3-Bootcamp/12-Advanced Python Modules/Example_Top_Level/Mid-Example-One/Bottom-Level-One\n",
      "\n",
      "\n",
      "The subfolders are: \n",
      "\n",
      "\n",
      "The files are: \n",
      "\t File: One_Text.txt\n",
      "\n",
      "\n"
     ]
    }
   ],
   "source": [
    "for folder, sub_folders,files in os.walk(file_path):\n",
    "    print(f\"Currently looking at {folder}\")\n",
    "    print(\"\\n\")\n",
    "    print(\"The subfolders are: \")\n",
    "    \n",
    "    for sub_fold in sub_folders:\n",
    "        print(f\"\\t Subfolder: {sub_fold}\")\n",
    "    \n",
    "    print(\"\\n\")\n",
    "    print(\"The files are: \")\n",
    "    \n",
    "    for f in files:\n",
    "        print(f\"\\t File: {f}\")\n",
    "    \n",
    "    print(\"\\n\")\n",
    "    \n",
    "#you can use this to add logic. Like having an if statement to look for \n",
    "#certain things in the named files"
   ]
  },
  {
   "cell_type": "code",
   "execution_count": null,
   "id": "3da8bec7",
   "metadata": {},
   "outputs": [],
   "source": []
  }
 ],
 "metadata": {
  "kernelspec": {
   "display_name": "Python 3 (ipykernel)",
   "language": "python",
   "name": "python3"
  },
  "language_info": {
   "codemirror_mode": {
    "name": "ipython",
    "version": 3
   },
   "file_extension": ".py",
   "mimetype": "text/x-python",
   "name": "python",
   "nbconvert_exporter": "python",
   "pygments_lexer": "ipython3",
   "version": "3.9.7"
  }
 },
 "nbformat": 4,
 "nbformat_minor": 5
}

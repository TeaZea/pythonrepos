{
 "cells": [
  {
   "cell_type": "code",
   "execution_count": 1,
   "id": "bc7f9b74",
   "metadata": {},
   "outputs": [],
   "source": [
    "#insert password\n",
    "#after three times, user is locked out\n",
    "\n",
    "#_____\n",
    "\n",
    "\n",
    "#attribute password variable-\n",
    "#input for password-\n",
    "#if password is false, print false message\n",
    "#if password is false, continue to ask for correct password \n",
    "# ask 3 times total before stopping\n",
    "#if incorrect passwrod is given 3 times,print locked out message\n",
    "#if password true, print unlocked message\n"
   ]
  },
  {
   "cell_type": "code",
   "execution_count": 2,
   "id": "cce6777b",
   "metadata": {},
   "outputs": [],
   "source": [
    "password = \"apple\""
   ]
  },
  {
   "cell_type": "code",
   "execution_count": 3,
   "id": "f8ca2266",
   "metadata": {},
   "outputs": [
    {
     "data": {
      "text/plain": [
       "'apple'"
      ]
     },
     "execution_count": 3,
     "metadata": {},
     "output_type": "execute_result"
    }
   ],
   "source": [
    "password"
   ]
  },
  {
   "cell_type": "code",
   "execution_count": 4,
   "id": "75c91255",
   "metadata": {},
   "outputs": [],
   "source": [
    "def login():\n",
    "    \n",
    "    password = ''\n",
    "    \n",
    "    while password != \"apple\":\n",
    "        password = input(\"What's the password: \")\n",
    "        \n",
    "    return(password)"
   ]
  },
  {
   "cell_type": "code",
   "execution_count": 5,
   "id": "9ac01d2d",
   "metadata": {},
   "outputs": [
    {
     "name": "stdout",
     "output_type": "stream",
     "text": [
      "What's the password: apple\n"
     ]
    },
    {
     "data": {
      "text/plain": [
       "'apple'"
      ]
     },
     "execution_count": 5,
     "metadata": {},
     "output_type": "execute_result"
    }
   ],
   "source": [
    "login()"
   ]
  },
  {
   "cell_type": "code",
   "execution_count": 11,
   "id": "3e10dafa",
   "metadata": {},
   "outputs": [],
   "source": [
    "def check_pass(password,login):\n",
    "    \n",
    "    if password == \"apple\":\n",
    "        print(\"Correct!\")\n",
    "    else:\n",
    "        print(\"Try Again.\")"
   ]
  },
  {
   "cell_type": "code",
   "execution_count": 12,
   "id": "20178b09",
   "metadata": {},
   "outputs": [
    {
     "name": "stdout",
     "output_type": "stream",
     "text": [
      "What's the password: cherry\n",
      "What's the password: apple\n",
      "Correct!\n"
     ]
    }
   ],
   "source": [
    "#sentry\n",
    "password = \"apple\"\n",
    "\n",
    "#user entry\n",
    "query = login()\n",
    "\n",
    "#check\n",
    "check_pass(password,query)"
   ]
  },
  {
   "cell_type": "code",
   "execution_count": null,
   "id": "32169024",
   "metadata": {},
   "outputs": [],
   "source": []
  },
  {
   "cell_type": "code",
   "execution_count": null,
   "id": "3fb2c0b9",
   "metadata": {},
   "outputs": [],
   "source": []
  }
 ],
 "metadata": {
  "kernelspec": {
   "display_name": "Python 3 (ipykernel)",
   "language": "python",
   "name": "python3"
  },
  "language_info": {
   "codemirror_mode": {
    "name": "ipython",
    "version": 3
   },
   "file_extension": ".py",
   "mimetype": "text/x-python",
   "name": "python",
   "nbconvert_exporter": "python",
   "pygments_lexer": "ipython3",
   "version": "3.9.7"
  }
 },
 "nbformat": 4,
 "nbformat_minor": 5
}

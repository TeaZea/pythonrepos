{
 "cells": [
  {
   "cell_type": "markdown",
   "id": "589ab81a",
   "metadata": {},
   "source": [
    "Each character in a string has an index. You can use [] and a number index to indicate what position you want to grab."
   ]
  },
  {
   "cell_type": "markdown",
   "id": "7fd539dd",
   "metadata": {},
   "source": [
    "Slicing allows you to grab a subsection of multiple characters by using [start:stop:step].\n",
    "start - numerical index for the start of the slice.\n",
    "stop - index you will go up to, but not include in the slice.\n",
    "step - size of the 'jump'"
   ]
  },
  {
   "cell_type": "code",
   "execution_count": 1,
   "id": "061084ce",
   "metadata": {},
   "outputs": [
    {
     "data": {
      "text/plain": [
       "'hello'"
      ]
     },
     "execution_count": 1,
     "metadata": {},
     "output_type": "execute_result"
    }
   ],
   "source": [
    "'hello'"
   ]
  },
  {
   "cell_type": "code",
   "execution_count": 2,
   "id": "06f0f1f5",
   "metadata": {
    "scrolled": true
   },
   "outputs": [
    {
     "data": {
      "text/plain": [
       "'blah blah blah'"
      ]
     },
     "execution_count": 2,
     "metadata": {},
     "output_type": "execute_result"
    }
   ],
   "source": [
    "'blah blah blah'"
   ]
  },
  {
   "cell_type": "markdown",
   "id": "7ea533f0",
   "metadata": {},
   "source": [
    "Spaces count as characters in a string and therefor get an index number."
   ]
  },
  {
   "cell_type": "code",
   "execution_count": 3,
   "id": "403e63f5",
   "metadata": {},
   "outputs": [
    {
     "ename": "SyntaxError",
     "evalue": "invalid syntax (402870497.py, line 1)",
     "output_type": "error",
     "traceback": [
      "\u001b[0;36m  File \u001b[0;32m\"/tmp/ipykernel_13591/402870497.py\"\u001b[0;36m, line \u001b[0;32m1\u001b[0m\n\u001b[0;31m    'I'm going toa  run'\u001b[0m\n\u001b[0m       ^\u001b[0m\n\u001b[0;31mSyntaxError\u001b[0m\u001b[0;31m:\u001b[0m invalid syntax\n"
     ]
    }
   ],
   "source": [
    "'I'm going toa  run'"
   ]
  },
  {
   "cell_type": "code",
   "execution_count": 4,
   "id": "b59c91be",
   "metadata": {},
   "outputs": [
    {
     "data": {
      "text/plain": [
       "\"I'm going for a run\""
      ]
     },
     "execution_count": 4,
     "metadata": {},
     "output_type": "execute_result"
    }
   ],
   "source": [
    "\"I'm going for a run\""
   ]
  },
  {
   "cell_type": "code",
   "execution_count": 5,
   "id": "2174bbd4",
   "metadata": {},
   "outputs": [
    {
     "name": "stdout",
     "output_type": "stream",
     "text": [
      "hello\n"
     ]
    }
   ],
   "source": [
    "print('hello')"
   ]
  },
  {
   "cell_type": "markdown",
   "id": "3fc05c48",
   "metadata": {},
   "source": [
    "Escape sequences are special commands inside of your string."
   ]
  },
  {
   "cell_type": "code",
   "execution_count": 6,
   "id": "d005b0eb",
   "metadata": {},
   "outputs": [
    {
     "name": "stdout",
     "output_type": "stream",
     "text": [
      "Hello World\n"
     ]
    }
   ],
   "source": [
    "print('Hello World')"
   ]
  },
  {
   "cell_type": "code",
   "execution_count": 7,
   "id": "02c1e1fc",
   "metadata": {},
   "outputs": [
    {
     "name": "stdout",
     "output_type": "stream",
     "text": [
      "Hello /n World\n"
     ]
    }
   ],
   "source": [
    "print('Hello /n World')"
   ]
  },
  {
   "cell_type": "code",
   "execution_count": 8,
   "id": "014a90d0",
   "metadata": {},
   "outputs": [
    {
     "name": "stdout",
     "output_type": "stream",
     "text": [
      "Hello \n",
      " World\n"
     ]
    }
   ],
   "source": [
    "print('Hello \\n World')"
   ]
  },
  {
   "cell_type": "code",
   "execution_count": 9,
   "id": "d77c9c83",
   "metadata": {},
   "outputs": [
    {
     "name": "stdout",
     "output_type": "stream",
     "text": [
      "Hello \n",
      "World\n"
     ]
    }
   ],
   "source": [
    "print('Hello \\nWorld')"
   ]
  },
  {
   "cell_type": "code",
   "execution_count": 10,
   "id": "e4f88626",
   "metadata": {},
   "outputs": [
    {
     "name": "stdout",
     "output_type": "stream",
     "text": [
      "Hello /tWorld\n"
     ]
    }
   ],
   "source": [
    "print('Hello /tWorld')"
   ]
  },
  {
   "cell_type": "code",
   "execution_count": 11,
   "id": "fad1ff9e",
   "metadata": {},
   "outputs": [
    {
     "name": "stdout",
     "output_type": "stream",
     "text": [
      "Hello \tWorld\n"
     ]
    }
   ],
   "source": [
    "print('Hello \\tWorld')"
   ]
  },
  {
   "cell_type": "markdown",
   "id": "912fc6e5",
   "metadata": {},
   "source": [
    "len(length) calculates how many index are in a string."
   ]
  },
  {
   "cell_type": "code",
   "execution_count": 12,
   "id": "4c4163ea",
   "metadata": {},
   "outputs": [
    {
     "data": {
      "text/plain": [
       "5"
      ]
     },
     "execution_count": 12,
     "metadata": {},
     "output_type": "execute_result"
    }
   ],
   "source": [
    "len('hello')"
   ]
  },
  {
   "cell_type": "code",
   "execution_count": 13,
   "id": "8a8bd53e",
   "metadata": {},
   "outputs": [
    {
     "data": {
      "text/plain": [
       "4"
      ]
     },
     "execution_count": 13,
     "metadata": {},
     "output_type": "execute_result"
    }
   ],
   "source": [
    "len('I am')"
   ]
  },
  {
   "cell_type": "code",
   "execution_count": null,
   "id": "8cb4ad80",
   "metadata": {},
   "outputs": [],
   "source": []
  }
 ],
 "metadata": {
  "kernelspec": {
   "display_name": "Python 3 (ipykernel)",
   "language": "python",
   "name": "python3"
  },
  "language_info": {
   "codemirror_mode": {
    "name": "ipython",
    "version": 3
   },
   "file_extension": ".py",
   "mimetype": "text/x-python",
   "name": "python",
   "nbconvert_exporter": "python",
   "pygments_lexer": "ipython3",
   "version": "3.9.7"
  }
 },
 "nbformat": 4,
 "nbformat_minor": 5
}

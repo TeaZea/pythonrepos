{
 "cells": [
  {
   "cell_type": "markdown",
   "id": "dcce5167",
   "metadata": {},
   "source": [
    "Control Flow is is controling when a certain code is to execute only when a certain condition is met.\n",
    "\n",
    "Control Flow makes use of whitespace (colons and indendation)\n",
    "\n",
    "if some_conditions:\n",
    "\n",
    "    # execute some code\n",
    "    \n",
    "    \n",
    "if some_condition:\n",
    "\n",
    "    # execute some code\n",
    "    \n",
    "else:\n",
    "\n",
    "    # do something else\n",
    "    \n",
    "\n",
    "if some_condition:\n",
    "\n",
    "    # execute some code\n",
    "    \n",
    "elif some_other_condition:\n",
    "\n",
    "    #do something different\n",
    "    \n",
    "else:\n",
    "\n",
    "    # do something else"
   ]
  },
  {
   "cell_type": "code",
   "execution_count": 1,
   "id": "e3f64493",
   "metadata": {},
   "outputs": [
    {
     "name": "stdout",
     "output_type": "stream",
     "text": [
      "ITS TRUE!\n"
     ]
    }
   ],
   "source": [
    "if True:\n",
    "    print('ITS TRUE!')"
   ]
  },
  {
   "cell_type": "code",
   "execution_count": 2,
   "id": "8eacc1ac",
   "metadata": {},
   "outputs": [
    {
     "name": "stdout",
     "output_type": "stream",
     "text": [
      "IT's TRUE!\n"
     ]
    }
   ],
   "source": [
    "if 3 > 2:\n",
    "    print(\"IT's TRUE!\")"
   ]
  },
  {
   "cell_type": "code",
   "execution_count": 3,
   "id": "b82be2e4",
   "metadata": {},
   "outputs": [
    {
     "name": "stdout",
     "output_type": "stream",
     "text": [
      "Feed ME!\n"
     ]
    }
   ],
   "source": [
    "hungry = True\n",
    "\n",
    "if hungry:\n",
    "    print('Feed ME!')"
   ]
  },
  {
   "cell_type": "code",
   "execution_count": 5,
   "id": "44743cef",
   "metadata": {},
   "outputs": [
    {
     "name": "stdout",
     "output_type": "stream",
     "text": [
      "I'm not hungry\n"
     ]
    }
   ],
   "source": [
    "hungry = False\n",
    "\n",
    "if hungry:\n",
    "    print('Feed ME!')\n",
    "else:\n",
    "    print(\"I'm not hungry\")"
   ]
  },
  {
   "cell_type": "code",
   "execution_count": 7,
   "id": "88bf1da3",
   "metadata": {},
   "outputs": [
    {
     "name": "stdout",
     "output_type": "stream",
     "text": [
      "I don't know much.\n"
     ]
    }
   ],
   "source": [
    "loc = \"Bank\"\n",
    "\n",
    "if loc == \"Auto Shop\":\n",
    "    print(\"Cars are cool!\")\n",
    "else:\n",
    "    print(\"I don't know much.\")"
   ]
  },
  {
   "cell_type": "code",
   "execution_count": 10,
   "id": "fbed7bed",
   "metadata": {},
   "outputs": [
    {
     "name": "stdout",
     "output_type": "stream",
     "text": [
      "Money if cool!\n"
     ]
    }
   ],
   "source": [
    "loc = \"Bank\"\n",
    "\n",
    "if loc == \"Auto Shop\":\n",
    "    print(\"Cars are cool!\")\n",
    "elif loc == \"Bank\":\n",
    "    print(\"Money if cool!\")\n",
    "elif loc == \"Store\":\n",
    "    print(\"Welcome!\")\n",
    "else:\n",
    "    print(\"I don't know much.\")"
   ]
  },
  {
   "cell_type": "code",
   "execution_count": 11,
   "id": "b500b6aa",
   "metadata": {},
   "outputs": [
    {
     "name": "stdout",
     "output_type": "stream",
     "text": [
      "I don't know much.\n"
     ]
    }
   ],
   "source": [
    "loc = \"Concert\"\n",
    "\n",
    "if loc == \"Auto Shop\":\n",
    "    print(\"Cars are cool!\")\n",
    "elif loc == \"Bank\":\n",
    "    print(\"Money if cool!\")\n",
    "elif loc == \"Store\":\n",
    "    print(\"Welcome!\")\n",
    "else:\n",
    "    print(\"I don't know much.\")"
   ]
  },
  {
   "cell_type": "code",
   "execution_count": 13,
   "id": "784ebca8",
   "metadata": {},
   "outputs": [
    {
     "name": "stdout",
     "output_type": "stream",
     "text": [
      "Hello Sammy\n"
     ]
    }
   ],
   "source": [
    "name =\"Sammy\"\n",
    "\n",
    "if name == \"Frankie\":\n",
    "    print(\"Hello Frankie\")\n",
    "elif name == \"Sammy\":\n",
    "    print(\"Hello Sammy\")\n",
    "else:\n",
    "    print(\"What's your name?\")"
   ]
  },
  {
   "cell_type": "code",
   "execution_count": null,
   "id": "a1656e38",
   "metadata": {},
   "outputs": [],
   "source": []
  }
 ],
 "metadata": {
  "kernelspec": {
   "display_name": "Python 3 (ipykernel)",
   "language": "python",
   "name": "python3"
  },
  "language_info": {
   "codemirror_mode": {
    "name": "ipython",
    "version": 3
   },
   "file_extension": ".py",
   "mimetype": "text/x-python",
   "name": "python",
   "nbconvert_exporter": "python",
   "pygments_lexer": "ipython3",
   "version": "3.9.7"
  }
 },
 "nbformat": 4,
 "nbformat_minor": 5
}

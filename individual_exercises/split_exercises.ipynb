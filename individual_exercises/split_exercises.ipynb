{
 "cells": [
  {
   "cell_type": "markdown",
   "id": "e418b1d3",
   "metadata": {},
   "source": [
    "#Type your answer here.\n",
    "\n",
    "str=\"Hello World!\"<br>\n",
    "lst=\n",
    " \n",
    "print(lst)"
   ]
  },
  {
   "cell_type": "code",
   "execution_count": 3,
   "id": "72afb9f4",
   "metadata": {},
   "outputs": [
    {
     "name": "stdout",
     "output_type": "stream",
     "text": [
      "['Hello', 'World!']\n"
     ]
    }
   ],
   "source": [
    "str = \"Hello World!\"\n",
    "lst = str.split()\n",
    "\n",
    "print(lst)"
   ]
  },
  {
   "cell_type": "code",
   "execution_count": 4,
   "id": "dc669198",
   "metadata": {},
   "outputs": [
    {
     "name": "stdout",
     "output_type": "stream",
     "text": [
      "['101', '102', '103', '201', '202']\n"
     ]
    }
   ],
   "source": [
    "str=\"101:102:103:201:202\"\n",
    "#Type your code here.\n",
    "\n",
    "lst=str.split(\":\")\n",
    "\n",
    "print(lst)"
   ]
  },
  {
   "cell_type": "code",
   "execution_count": 5,
   "id": "9afc3ecf",
   "metadata": {},
   "outputs": [
    {
     "name": "stdout",
     "output_type": "stream",
     "text": [
      "['101', '102', '103', '201', '202']\n"
     ]
    }
   ],
   "source": [
    "str=\"101-102-103-201-202\"\n",
    "#Type your code here.\n",
    "\n",
    "lst=str.split(\"-\")\n",
    "\n",
    "print(lst)"
   ]
  },
  {
   "cell_type": "code",
   "execution_count": 9,
   "id": "adecffd5",
   "metadata": {},
   "outputs": [
    {
     "name": "stdout",
     "output_type": "stream",
     "text": [
      "Barcelona:2-Bayern Munich:2\n"
     ]
    }
   ],
   "source": [
    "#Using the split method, split the string with semi colon (;) first. Then, print only the last element.\n",
    "\n",
    "str=\"Arsenal:0-Chelsea:1;Barcelona:2-Bayern Munich:2\"\n",
    "#Type your code here.\n",
    "\n",
    "lst = str.split(\";\")\n",
    "ans_1 = lst[-1]\n",
    "\n",
    "print(ans_1)\n",
    "\n"
   ]
  },
  {
   "cell_type": "code",
   "execution_count": 31,
   "id": "f5a2dd33",
   "metadata": {},
   "outputs": [
    {
     "name": "stdout",
     "output_type": "stream",
     "text": [
      "Jms\n"
     ]
    }
   ],
   "source": [
    "# Write a program to create a new string made of an input string’s first, middle, and last character.\n",
    "\n",
    "str1 = \"James\"\n",
    "new_str = str1.split()\n",
    "\n",
    "print(new_str[0][::2])"
   ]
  },
  {
   "cell_type": "code",
   "execution_count": 32,
   "id": "9fdbacbf",
   "metadata": {},
   "outputs": [
    {
     "name": "stdout",
     "output_type": "stream",
     "text": [
      "Dip\n"
     ]
    }
   ],
   "source": [
    "# Write a program to create a new string made of the middle three characters of an input string.\n",
    "\n",
    "str1 = \"JhonDipPeta\"\n",
    "str2 = str1.split()\n",
    "\n",
    "print(str2[0][4:7])"
   ]
  },
  {
   "cell_type": "code",
   "execution_count": 33,
   "id": "8ec14e2e",
   "metadata": {},
   "outputs": [
    {
     "name": "stdout",
     "output_type": "stream",
     "text": [
      "Son\n"
     ]
    }
   ],
   "source": [
    "# Write a program to create a new string made of the middle three characters of an input string.\n",
    "\n",
    "str2 = \"JaSonAy\"\n",
    "str3 = str2.split()\n",
    "\n",
    "print(str3[0][2:5])"
   ]
  },
  {
   "cell_type": "code",
   "execution_count": null,
   "id": "7ca62621",
   "metadata": {},
   "outputs": [],
   "source": [
    "# Given two strings, s1 and s2. Write a program to create a new string s3 by appending s2 in the middle of s1.\n",
    "\n",
    "s1 = \"Ault\"\n",
    "s2 = \"Kelly\"\n",
    "\n"
   ]
  }
 ],
 "metadata": {
  "kernelspec": {
   "display_name": "Python 3 (ipykernel)",
   "language": "python",
   "name": "python3"
  },
  "language_info": {
   "codemirror_mode": {
    "name": "ipython",
    "version": 3
   },
   "file_extension": ".py",
   "mimetype": "text/x-python",
   "name": "python",
   "nbconvert_exporter": "python",
   "pygments_lexer": "ipython3",
   "version": "3.9.7"
  }
 },
 "nbformat": 4,
 "nbformat_minor": 5
}

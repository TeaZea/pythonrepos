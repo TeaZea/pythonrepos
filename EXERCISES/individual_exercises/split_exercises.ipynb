{
 "cells": [
  {
   "cell_type": "markdown",
   "id": "b364a0f5",
   "metadata": {},
   "source": [
    "#Type your answer here.\n",
    "\n",
    "str=\"Hello World!\"<br>\n",
    "lst=\n",
    " \n",
    "print(lst)"
   ]
  },
  {
   "cell_type": "code",
   "execution_count": 3,
   "id": "831b463b",
   "metadata": {},
   "outputs": [
    {
     "name": "stdout",
     "output_type": "stream",
     "text": [
      "['Hello', 'World!']\n"
     ]
    }
   ],
   "source": [
    "str = \"Hello World!\"\n",
    "lst = str.split()\n",
    "\n",
    "print(lst)"
   ]
  },
  {
   "cell_type": "code",
   "execution_count": 4,
   "id": "6a2ee433",
   "metadata": {},
   "outputs": [
    {
     "name": "stdout",
     "output_type": "stream",
     "text": [
      "['101', '102', '103', '201', '202']\n"
     ]
    }
   ],
   "source": [
    "str=\"101:102:103:201:202\"\n",
    "#Type your code here.\n",
    "\n",
    "lst=str.split(\":\")\n",
    "\n",
    "print(lst)"
   ]
  },
  {
   "cell_type": "code",
   "execution_count": 5,
   "id": "3d5caf8e",
   "metadata": {},
   "outputs": [
    {
     "name": "stdout",
     "output_type": "stream",
     "text": [
      "['101', '102', '103', '201', '202']\n"
     ]
    }
   ],
   "source": [
    "str=\"101-102-103-201-202\"\n",
    "#Type your code here.\n",
    "\n",
    "lst=str.split(\"-\")\n",
    "\n",
    "print(lst)"
   ]
  },
  {
   "cell_type": "code",
   "execution_count": 9,
   "id": "8181ca13",
   "metadata": {},
   "outputs": [
    {
     "name": "stdout",
     "output_type": "stream",
     "text": [
      "Barcelona:2-Bayern Munich:2\n"
     ]
    }
   ],
   "source": [
    "#Using the split method, split the string with semi colon (;) first. Then, print only the last element.\n",
    "\n",
    "str=\"Arsenal:0-Chelsea:1;Barcelona:2-Bayern Munich:2\"\n",
    "#Type your code here.\n",
    "\n",
    "lst = str.split(\";\")\n",
    "ans_1 = lst[-1]\n",
    "\n",
    "print(ans_1)\n",
    "\n"
   ]
  },
  {
   "cell_type": "code",
   "execution_count": 31,
   "id": "08127481",
   "metadata": {},
   "outputs": [
    {
     "name": "stdout",
     "output_type": "stream",
     "text": [
      "Jms\n"
     ]
    }
   ],
   "source": [
    "# Write a program to create a new string made of an input string’s first, middle, and last character.\n",
    "\n",
    "str1 = \"James\"\n",
    "new_str = str1.split()\n",
    "\n",
    "print(new_str[0][::2])"
   ]
  },
  {
   "cell_type": "code",
   "execution_count": 32,
   "id": "0e13320d",
   "metadata": {},
   "outputs": [
    {
     "name": "stdout",
     "output_type": "stream",
     "text": [
      "Dip\n"
     ]
    }
   ],
   "source": [
    "# Write a program to create a new string made of the middle three characters of an input string.\n",
    "\n",
    "str1 = \"JhonDipPeta\"\n",
    "str2 = str1.split()\n",
    "\n",
    "print(str2[0][4:7])"
   ]
  },
  {
   "cell_type": "code",
   "execution_count": 33,
   "id": "49a881c6",
   "metadata": {},
   "outputs": [
    {
     "name": "stdout",
     "output_type": "stream",
     "text": [
      "Son\n"
     ]
    }
   ],
   "source": [
    "# Write a program to create a new string made of the middle three characters of an input string.\n",
    "\n",
    "str2 = \"JaSonAy\"\n",
    "str3 = str2.split()\n",
    "\n",
    "print(str3[0][2:5])"
   ]
  },
  {
   "cell_type": "code",
   "execution_count": 43,
   "id": "2bbf897f",
   "metadata": {},
   "outputs": [
    {
     "ename": "AttributeError",
     "evalue": "'str' object has no attribute 'append'",
     "output_type": "error",
     "traceback": [
      "\u001b[0;31m---------------------------------------------------------------------------\u001b[0m",
      "\u001b[0;31mAttributeError\u001b[0m                            Traceback (most recent call last)",
      "\u001b[0;32m/tmp/ipykernel_2371/3427456988.py\u001b[0m in \u001b[0;36m<module>\u001b[0;34m\u001b[0m\n\u001b[1;32m      6\u001b[0m \u001b[0ms4\u001b[0m \u001b[0;34m=\u001b[0m \u001b[0ms2\u001b[0m\u001b[0;34m.\u001b[0m\u001b[0msplit\u001b[0m\u001b[0;34m(\u001b[0m\u001b[0;34m)\u001b[0m\u001b[0;34m\u001b[0m\u001b[0;34m\u001b[0m\u001b[0m\n\u001b[1;32m      7\u001b[0m \u001b[0;34m\u001b[0m\u001b[0m\n\u001b[0;32m----> 8\u001b[0;31m \u001b[0mprint\u001b[0m\u001b[0;34m(\u001b[0m\u001b[0ms3\u001b[0m\u001b[0;34m[\u001b[0m\u001b[0;36m0\u001b[0m\u001b[0;34m]\u001b[0m\u001b[0;34m[\u001b[0m\u001b[0;34m:\u001b[0m\u001b[0;36m2\u001b[0m\u001b[0;34m]\u001b[0m\u001b[0;34m.\u001b[0m\u001b[0mappend\u001b[0m\u001b[0;34m(\u001b[0m\u001b[0ms2\u001b[0m\u001b[0;34m[\u001b[0m\u001b[0;36m0\u001b[0m\u001b[0;34m]\u001b[0m\u001b[0;34m)\u001b[0m\u001b[0;34m)\u001b[0m\u001b[0;34m\u001b[0m\u001b[0;34m\u001b[0m\u001b[0m\n\u001b[0m",
      "\u001b[0;31mAttributeError\u001b[0m: 'str' object has no attribute 'append'"
     ]
    }
   ],
   "source": []
  },
  {
   "cell_type": "code",
   "execution_count": null,
   "id": "390050cc",
   "metadata": {},
   "outputs": [],
   "source": []
  }
 ],
 "metadata": {
  "kernelspec": {
   "display_name": "Python 3 (ipykernel)",
   "language": "python",
   "name": "python3"
  },
  "language_info": {
   "codemirror_mode": {
    "name": "ipython",
    "version": 3
   },
   "file_extension": ".py",
   "mimetype": "text/x-python",
   "name": "python",
   "nbconvert_exporter": "python",
   "pygments_lexer": "ipython3",
   "version": "3.9.7"
  }
 },
 "nbformat": 4,
 "nbformat_minor": 5
}

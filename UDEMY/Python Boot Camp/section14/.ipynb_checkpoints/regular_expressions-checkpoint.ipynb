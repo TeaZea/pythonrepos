{
 "cells": [
  {
   "cell_type": "code",
   "execution_count": 2,
   "id": "f47b28b2",
   "metadata": {},
   "outputs": [],
   "source": [
    "#you can use regex to search for generalized patterns/\n",
    "#specialized pattern strings"
   ]
  },
  {
   "cell_type": "code",
   "execution_count": 3,
   "id": "ad6ebdfb",
   "metadata": {},
   "outputs": [],
   "source": [
    "text = \"The agent's phone number is 408-55-1234. Call soon!\""
   ]
  },
  {
   "cell_type": "code",
   "execution_count": 5,
   "id": "83023ccc",
   "metadata": {},
   "outputs": [
    {
     "data": {
      "text/plain": [
       "True"
      ]
     },
     "execution_count": 5,
     "metadata": {},
     "output_type": "execute_result"
    }
   ],
   "source": [
    "'phone' in text"
   ]
  },
  {
   "cell_type": "code",
   "execution_count": 6,
   "id": "95602e66",
   "metadata": {},
   "outputs": [],
   "source": [
    "import re"
   ]
  },
  {
   "cell_type": "code",
   "execution_count": 7,
   "id": "f0f9b342",
   "metadata": {},
   "outputs": [],
   "source": [
    "pattern = \"phone\""
   ]
  },
  {
   "cell_type": "code",
   "execution_count": 9,
   "id": "c3fb3440",
   "metadata": {},
   "outputs": [
    {
     "data": {
      "text/plain": [
       "<re.Match object; span=(12, 17), match='phone'>"
      ]
     },
     "execution_count": 9,
     "metadata": {},
     "output_type": "execute_result"
    }
   ],
   "source": [
    "re.search(pattern,text)"
   ]
  },
  {
   "cell_type": "code",
   "execution_count": 10,
   "id": "912bae00",
   "metadata": {},
   "outputs": [],
   "source": [
    "pattern = \"NO IN TEXT\""
   ]
  },
  {
   "cell_type": "code",
   "execution_count": 11,
   "id": "5a3155ad",
   "metadata": {},
   "outputs": [],
   "source": [
    "re.search(pattern,text)"
   ]
  },
  {
   "cell_type": "code",
   "execution_count": 12,
   "id": "f1752dd1",
   "metadata": {},
   "outputs": [],
   "source": [
    "#get back none because there is no match"
   ]
  },
  {
   "cell_type": "code",
   "execution_count": 13,
   "id": "e057f425",
   "metadata": {},
   "outputs": [],
   "source": [
    "pattern = \"phone\""
   ]
  },
  {
   "cell_type": "code",
   "execution_count": 15,
   "id": "e7143683",
   "metadata": {},
   "outputs": [],
   "source": [
    "match = re.search(pattern,text)"
   ]
  },
  {
   "cell_type": "code",
   "execution_count": 16,
   "id": "73a1179b",
   "metadata": {},
   "outputs": [
    {
     "data": {
      "text/plain": [
       "<re.Match object; span=(12, 17), match='phone'>"
      ]
     },
     "execution_count": 16,
     "metadata": {},
     "output_type": "execute_result"
    }
   ],
   "source": [
    "match"
   ]
  },
  {
   "cell_type": "code",
   "execution_count": 17,
   "id": "9ea4c7f3",
   "metadata": {},
   "outputs": [
    {
     "data": {
      "text/plain": [
       "(12, 17)"
      ]
     },
     "execution_count": 17,
     "metadata": {},
     "output_type": "execute_result"
    }
   ],
   "source": [
    "match.span()#to get index location"
   ]
  },
  {
   "cell_type": "code",
   "execution_count": 18,
   "id": "e685d8fe",
   "metadata": {},
   "outputs": [
    {
     "data": {
      "text/plain": [
       "12"
      ]
     },
     "execution_count": 18,
     "metadata": {},
     "output_type": "execute_result"
    }
   ],
   "source": [
    "match.start()"
   ]
  },
  {
   "cell_type": "code",
   "execution_count": 19,
   "id": "237fafe1",
   "metadata": {},
   "outputs": [
    {
     "data": {
      "text/plain": [
       "17"
      ]
     },
     "execution_count": 19,
     "metadata": {},
     "output_type": "execute_result"
    }
   ],
   "source": [
    "match.end()"
   ]
  },
  {
   "cell_type": "code",
   "execution_count": 20,
   "id": "d2b2b512",
   "metadata": {},
   "outputs": [],
   "source": [
    "#would only get back first span if there's more than one match.\n",
    "#you'd have to use the findall() func instead"
   ]
  },
  {
   "cell_type": "code",
   "execution_count": 21,
   "id": "5594affd",
   "metadata": {},
   "outputs": [],
   "source": [
    "match = \"my phone once, my phone twice\""
   ]
  },
  {
   "cell_type": "code",
   "execution_count": 25,
   "id": "ec04d43b",
   "metadata": {},
   "outputs": [
    {
     "name": "stdout",
     "output_type": "stream",
     "text": [
      "<re.Match object; span=(12, 17), match='phone'>\n"
     ]
    }
   ],
   "source": [
    "#re.finditer() iterates through all matches. Need a for loop\n",
    "for match in re.finditer(\"phone\",text):\n",
    "    print(match)"
   ]
  },
  {
   "cell_type": "code",
   "execution_count": null,
   "id": "8bbd0800",
   "metadata": {},
   "outputs": [],
   "source": []
  },
  {
   "cell_type": "code",
   "execution_count": null,
   "id": "30f2446b",
   "metadata": {},
   "outputs": [],
   "source": []
  },
  {
   "cell_type": "code",
   "execution_count": null,
   "id": "8cf037a3",
   "metadata": {},
   "outputs": [],
   "source": []
  },
  {
   "cell_type": "code",
   "execution_count": null,
   "id": "c3af2f9a",
   "metadata": {},
   "outputs": [],
   "source": []
  },
  {
   "cell_type": "code",
   "execution_count": 26,
   "id": "8b03ad0e",
   "metadata": {},
   "outputs": [],
   "source": [
    "#SPECIAL PATTERN CODES"
   ]
  },
  {
   "cell_type": "code",
   "execution_count": 27,
   "id": "4bb4cdf7",
   "metadata": {},
   "outputs": [],
   "source": [
    "text = \"My phone numer is 408-555-1234\""
   ]
  },
  {
   "cell_type": "code",
   "execution_count": 28,
   "id": "4e8dca82",
   "metadata": {},
   "outputs": [],
   "source": [
    "phone = re.search(\"408-555-1234\",text)"
   ]
  },
  {
   "cell_type": "code",
   "execution_count": 29,
   "id": "aab49ba7",
   "metadata": {},
   "outputs": [
    {
     "data": {
      "text/plain": [
       "<re.Match object; span=(18, 30), match='408-555-1234'>"
      ]
     },
     "execution_count": 29,
     "metadata": {},
     "output_type": "execute_result"
    }
   ],
   "source": [
    "phone"
   ]
  },
  {
   "cell_type": "code",
   "execution_count": 30,
   "id": "ff84e60c",
   "metadata": {},
   "outputs": [],
   "source": [
    "# r tells python \\ is a special pattern expressions\n",
    "phone = re.search(r\"\\d\\d\\d-\\d\\d\\d-\\d\\d\\d\\d\",text)"
   ]
  },
  {
   "cell_type": "code",
   "execution_count": 31,
   "id": "7f94997d",
   "metadata": {},
   "outputs": [
    {
     "data": {
      "text/plain": [
       "<re.Match object; span=(18, 30), match='408-555-1234'>"
      ]
     },
     "execution_count": 31,
     "metadata": {},
     "output_type": "execute_result"
    }
   ],
   "source": [
    "phone"
   ]
  },
  {
   "cell_type": "code",
   "execution_count": 33,
   "id": "841959bc",
   "metadata": {},
   "outputs": [
    {
     "data": {
      "text/plain": [
       "'408-555-1234'"
      ]
     },
     "execution_count": 33,
     "metadata": {},
     "output_type": "execute_result"
    }
   ],
   "source": [
    "phone.group()# grab the phone nuber itself"
   ]
  },
  {
   "cell_type": "code",
   "execution_count": null,
   "id": "00850841",
   "metadata": {},
   "outputs": [],
   "source": []
  },
  {
   "cell_type": "code",
   "execution_count": null,
   "id": "8c31817f",
   "metadata": {},
   "outputs": [],
   "source": []
  },
  {
   "cell_type": "code",
   "execution_count": 34,
   "id": "767ddee2",
   "metadata": {},
   "outputs": [],
   "source": [
    "phone = re.search(r\"\\d{3}-\\d{3}-\\d{4}\",text)"
   ]
  },
  {
   "cell_type": "code",
   "execution_count": 35,
   "id": "6abbb542",
   "metadata": {},
   "outputs": [
    {
     "data": {
      "text/plain": [
       "<re.Match object; span=(18, 30), match='408-555-1234'>"
      ]
     },
     "execution_count": 35,
     "metadata": {},
     "output_type": "execute_result"
    }
   ],
   "source": [
    "phone"
   ]
  },
  {
   "cell_type": "code",
   "execution_count": 36,
   "id": "39b34cbe",
   "metadata": {},
   "outputs": [],
   "source": [
    "# parenthesis indicates a group pattern\n",
    "# takes multiple patten codes and compiles into a simple expression\n",
    "# still understands they're 3 seperate groupings\n",
    "\n",
    "phone_pattern = re.compile(r'(\\d{3})-(\\d{3})-(\\d{4})')"
   ]
  },
  {
   "cell_type": "code",
   "execution_count": 37,
   "id": "ea9e67f6",
   "metadata": {},
   "outputs": [],
   "source": [
    "results = re.search(phone_pattern,text)"
   ]
  },
  {
   "cell_type": "code",
   "execution_count": 38,
   "id": "baa1d876",
   "metadata": {},
   "outputs": [
    {
     "data": {
      "text/plain": [
       "'408-555-1234'"
      ]
     },
     "execution_count": 38,
     "metadata": {},
     "output_type": "execute_result"
    }
   ],
   "source": [
    "results.group()"
   ]
  },
  {
   "cell_type": "code",
   "execution_count": 39,
   "id": "851b3990",
   "metadata": {},
   "outputs": [
    {
     "data": {
      "text/plain": [
       "'408'"
      ]
     },
     "execution_count": 39,
     "metadata": {},
     "output_type": "execute_result"
    }
   ],
   "source": [
    "results.group(1) #compile allows for indexing"
   ]
  },
  {
   "cell_type": "code",
   "execution_count": null,
   "id": "f6c6fca4",
   "metadata": {},
   "outputs": [],
   "source": []
  },
  {
   "cell_type": "code",
   "execution_count": null,
   "id": "690bb65f",
   "metadata": {},
   "outputs": [],
   "source": []
  },
  {
   "cell_type": "code",
   "execution_count": null,
   "id": "6a112d22",
   "metadata": {},
   "outputs": [],
   "source": []
  },
  {
   "cell_type": "code",
   "execution_count": 40,
   "id": "5b4997cf",
   "metadata": {},
   "outputs": [],
   "source": [
    "#ADDITIONAL REGEX SYNTAX"
   ]
  },
  {
   "cell_type": "code",
   "execution_count": 41,
   "id": "1a219088",
   "metadata": {},
   "outputs": [
    {
     "data": {
      "text/plain": [
       "<re.Match object; span=(4, 7), match='cat'>"
      ]
     },
     "execution_count": 41,
     "metadata": {},
     "output_type": "execute_result"
    }
   ],
   "source": [
    "# or searches for multiple terms\n",
    "# | is the 'or' syntax\n",
    "\n",
    "re.search(r\"cat\",\"the cat is here\")"
   ]
  },
  {
   "cell_type": "code",
   "execution_count": 42,
   "id": "c526e417",
   "metadata": {},
   "outputs": [
    {
     "data": {
      "text/plain": [
       "<re.Match object; span=(4, 7), match='cat'>"
      ]
     },
     "execution_count": 42,
     "metadata": {},
     "output_type": "execute_result"
    }
   ],
   "source": [
    "re.search(r\"cat|dog\",\"the cat is here\")"
   ]
  },
  {
   "cell_type": "code",
   "execution_count": 43,
   "id": "d05f75e8",
   "metadata": {},
   "outputs": [
    {
     "data": {
      "text/plain": [
       "<re.Match object; span=(4, 7), match='dog'>"
      ]
     },
     "execution_count": 43,
     "metadata": {},
     "output_type": "execute_result"
    }
   ],
   "source": [
    "re.search(r\"cat|dog\",\"the dog is here\")"
   ]
  },
  {
   "cell_type": "code",
   "execution_count": null,
   "id": "95dae875",
   "metadata": {},
   "outputs": [],
   "source": []
  },
  {
   "cell_type": "code",
   "execution_count": null,
   "id": "855441c9",
   "metadata": {},
   "outputs": [],
   "source": [
    "#wild card is shown as a ."
   ]
  },
  {
   "cell_type": "code",
   "execution_count": 44,
   "id": "9218f574",
   "metadata": {},
   "outputs": [
    {
     "data": {
      "text/plain": [
       "['at', 'at', 'at']"
      ]
     },
     "execution_count": 44,
     "metadata": {},
     "output_type": "execute_result"
    }
   ],
   "source": [
    "re.findall(r\"at\",\"The cat in the hat sat there\")"
   ]
  },
  {
   "cell_type": "code",
   "execution_count": 45,
   "id": "305dd3b0",
   "metadata": {},
   "outputs": [
    {
     "data": {
      "text/plain": [
       "['cat', 'hat', 'sat']"
      ]
     },
     "execution_count": 45,
     "metadata": {},
     "output_type": "execute_result"
    }
   ],
   "source": [
    "re.findall(r\".at\",\"The cat in the hat sat there\")"
   ]
  },
  {
   "cell_type": "code",
   "execution_count": 46,
   "id": "24e6e754",
   "metadata": {},
   "outputs": [
    {
     "data": {
      "text/plain": [
       "['e cat', 'e hat', 'splat']"
      ]
     },
     "execution_count": 46,
     "metadata": {},
     "output_type": "execute_result"
    }
   ],
   "source": [
    "re.findall(r\"...at\",\"The cat in the hat went splat\")"
   ]
  },
  {
   "cell_type": "code",
   "execution_count": 47,
   "id": "a2e39b51",
   "metadata": {},
   "outputs": [],
   "source": [
    "#multiple wild cards grab other characters and spaces\n",
    "#use character identifiers to be more specific"
   ]
  },
  {
   "cell_type": "code",
   "execution_count": null,
   "id": "4450050c",
   "metadata": {},
   "outputs": [],
   "source": []
  },
  {
   "cell_type": "code",
   "execution_count": 49,
   "id": "8a14a32c",
   "metadata": {},
   "outputs": [],
   "source": [
    "# ^ = starts with\n",
    "# $ = ends with"
   ]
  },
  {
   "cell_type": "code",
   "execution_count": 48,
   "id": "b2672feb",
   "metadata": {},
   "outputs": [
    {
     "data": {
      "text/plain": [
       "['1']"
      ]
     },
     "execution_count": 48,
     "metadata": {},
     "output_type": "execute_result"
    }
   ],
   "source": [
    "re.findall(r\"^\\d\", \"1 is a number\")"
   ]
  },
  {
   "cell_type": "code",
   "execution_count": 50,
   "id": "97e98d00",
   "metadata": {},
   "outputs": [
    {
     "data": {
      "text/plain": [
       "['2']"
      ]
     },
     "execution_count": 50,
     "metadata": {},
     "output_type": "execute_result"
    }
   ],
   "source": [
    "re.findall(r\"\\d$\", \"The number is 2\")"
   ]
  },
  {
   "cell_type": "code",
   "execution_count": 51,
   "id": "b286d715",
   "metadata": {},
   "outputs": [],
   "source": [
    "#exclude characters is ^ within a set of []\n",
    "#common way to get ride of punctuation froma  sentence"
   ]
  },
  {
   "cell_type": "code",
   "execution_count": 52,
   "id": "7dc0d870",
   "metadata": {},
   "outputs": [],
   "source": [
    "phrase = \"There are 3 numbers 34 inside 5 this sentence\""
   ]
  },
  {
   "cell_type": "code",
   "execution_count": 57,
   "id": "637fa3fb",
   "metadata": {},
   "outputs": [],
   "source": [
    "pattern = r\"[^\\d]+\""
   ]
  },
  {
   "cell_type": "code",
   "execution_count": 58,
   "id": "92c5eadf",
   "metadata": {},
   "outputs": [
    {
     "data": {
      "text/plain": [
       "['There are ', ' numbers ', ' inside ', ' this sentence']"
      ]
     },
     "execution_count": 58,
     "metadata": {},
     "output_type": "execute_result"
    }
   ],
   "source": [
    "re.findall(pattern,phrase)"
   ]
  },
  {
   "cell_type": "code",
   "execution_count": 63,
   "id": "54a258f8",
   "metadata": {},
   "outputs": [],
   "source": [
    "test_phrase = \"This is a string! But it has punctuation. How can we remove it?\""
   ]
  },
  {
   "cell_type": "code",
   "execution_count": 65,
   "id": "7f307600",
   "metadata": {},
   "outputs": [
    {
     "data": {
      "text/plain": [
       "['This',\n",
       " 'is',\n",
       " 'a',\n",
       " 'string',\n",
       " 'But',\n",
       " 'it',\n",
       " 'has',\n",
       " 'punctuation',\n",
       " 'How',\n",
       " 'can',\n",
       " 'we',\n",
       " 'remove',\n",
       " 'it']"
      ]
     },
     "execution_count": 65,
     "metadata": {},
     "output_type": "execute_result"
    }
   ],
   "source": [
    "re.findall(r\"[^!.? ]+\",test_phrase)# space removes spaces as well"
   ]
  },
  {
   "cell_type": "code",
   "execution_count": 66,
   "id": "f8eaa448",
   "metadata": {},
   "outputs": [],
   "source": [
    "clean = re.findall(r\"[^!.? ]+\",test_phrase)"
   ]
  },
  {
   "cell_type": "code",
   "execution_count": 67,
   "id": "666d22d6",
   "metadata": {},
   "outputs": [
    {
     "data": {
      "text/plain": [
       "'This is a string But it has punctuation How can we remove it'"
      ]
     },
     "execution_count": 67,
     "metadata": {},
     "output_type": "execute_result"
    }
   ],
   "source": [
    "\" \".join(clean)"
   ]
  },
  {
   "cell_type": "code",
   "execution_count": null,
   "id": "2fd9a82d",
   "metadata": {},
   "outputs": [],
   "source": []
  },
  {
   "cell_type": "code",
   "execution_count": null,
   "id": "c5540820",
   "metadata": {},
   "outputs": [],
   "source": []
  },
  {
   "cell_type": "code",
   "execution_count": null,
   "id": "74716228",
   "metadata": {},
   "outputs": [],
   "source": []
  },
  {
   "cell_type": "code",
   "execution_count": null,
   "id": "7aa8ab46",
   "metadata": {},
   "outputs": [],
   "source": []
  },
  {
   "cell_type": "code",
   "execution_count": 68,
   "id": "d46cc2a4",
   "metadata": {},
   "outputs": [],
   "source": [
    "# [] used to group things together, both for exclusion AND inclusion"
   ]
  },
  {
   "cell_type": "code",
   "execution_count": 69,
   "id": "f3c4badd",
   "metadata": {},
   "outputs": [],
   "source": [
    "text = \"Only find the hyphen-words in this sentence. But you don't know how long-ish they are\""
   ]
  },
  {
   "cell_type": "code",
   "execution_count": 70,
   "id": "f40443fc",
   "metadata": {},
   "outputs": [],
   "source": [
    "#given text, find words that have a dash in the middle of them\n",
    "#groupd of alphanumeric dash alphanumeric\n",
    "\n",
    "pattern = r\"[\\w]+\""
   ]
  },
  {
   "cell_type": "code",
   "execution_count": 71,
   "id": "2cc6dd65",
   "metadata": {},
   "outputs": [
    {
     "data": {
      "text/plain": [
       "['Only',\n",
       " 'find',\n",
       " 'the',\n",
       " 'hyphen',\n",
       " 'words',\n",
       " 'in',\n",
       " 'this',\n",
       " 'sentence',\n",
       " 'But',\n",
       " 'you',\n",
       " 'don',\n",
       " 't',\n",
       " 'know',\n",
       " 'how',\n",
       " 'long',\n",
       " 'ish',\n",
       " 'they',\n",
       " 'are']"
      ]
     },
     "execution_count": 71,
     "metadata": {},
     "output_type": "execute_result"
    }
   ],
   "source": [
    "re.findall(pattern,text)"
   ]
  },
  {
   "cell_type": "code",
   "execution_count": 72,
   "id": "552925f9",
   "metadata": {},
   "outputs": [],
   "source": [
    "pattern = r\"[\\w]+-[\\w]+\""
   ]
  },
  {
   "cell_type": "code",
   "execution_count": 73,
   "id": "a2dee2fd",
   "metadata": {},
   "outputs": [
    {
     "data": {
      "text/plain": [
       "['hyphen-words', 'long-ish']"
      ]
     },
     "execution_count": 73,
     "metadata": {},
     "output_type": "execute_result"
    }
   ],
   "source": [
    "re.findall(pattern,text)"
   ]
  },
  {
   "cell_type": "code",
   "execution_count": null,
   "id": "c80dec54",
   "metadata": {},
   "outputs": [],
   "source": []
  },
  {
   "cell_type": "code",
   "execution_count": null,
   "id": "307e7d85",
   "metadata": {},
   "outputs": [],
   "source": []
  },
  {
   "cell_type": "code",
   "execution_count": 75,
   "id": "f52e8994",
   "metadata": {},
   "outputs": [],
   "source": [
    "# () to find multiple options\n",
    "\n",
    "text = \"Hello, would you like some catfish?\"\n",
    "texttwo = \"Hello, would you like to take a catnap?\"\n",
    "textthree = \"Hello, have you seen this caterpillar?\""
   ]
  },
  {
   "cell_type": "code",
   "execution_count": 79,
   "id": "0e2ef83f",
   "metadata": {},
   "outputs": [
    {
     "data": {
      "text/plain": [
       "<re.Match object; span=(27, 34), match='catfish'>"
      ]
     },
     "execution_count": 79,
     "metadata": {},
     "output_type": "execute_result"
    }
   ],
   "source": [
    "re.search(r\"cat(fish|nap|erpillar)\",text)"
   ]
  },
  {
   "cell_type": "code",
   "execution_count": 80,
   "id": "fb5d31c3",
   "metadata": {},
   "outputs": [
    {
     "data": {
      "text/plain": [
       "<re.Match object; span=(32, 38), match='catnap'>"
      ]
     },
     "execution_count": 80,
     "metadata": {},
     "output_type": "execute_result"
    }
   ],
   "source": [
    "re.search(r\"cat(fish|nap|claw)\",texttwo)"
   ]
  },
  {
   "cell_type": "code",
   "execution_count": 81,
   "id": "29dd8d28",
   "metadata": {},
   "outputs": [
    {
     "data": {
      "text/plain": [
       "<re.Match object; span=(26, 37), match='caterpillar'>"
      ]
     },
     "execution_count": 81,
     "metadata": {},
     "output_type": "execute_result"
    }
   ],
   "source": [
    "re.search(r\"cat(fish|nap|erpillar)\",textthree)"
   ]
  },
  {
   "cell_type": "code",
   "execution_count": null,
   "id": "fae2a387",
   "metadata": {},
   "outputs": [],
   "source": []
  }
 ],
 "metadata": {
  "kernelspec": {
   "display_name": "Python 3 (ipykernel)",
   "language": "python",
   "name": "python3"
  },
  "language_info": {
   "codemirror_mode": {
    "name": "ipython",
    "version": 3
   },
   "file_extension": ".py",
   "mimetype": "text/x-python",
   "name": "python",
   "nbconvert_exporter": "python",
   "pygments_lexer": "ipython3",
   "version": "3.9.7"
  }
 },
 "nbformat": 4,
 "nbformat_minor": 5
}

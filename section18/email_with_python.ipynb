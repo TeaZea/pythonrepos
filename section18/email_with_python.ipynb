{
 "cells": [
  {
   "cell_type": "code",
   "execution_count": 1,
   "id": "cce72f2b",
   "metadata": {},
   "outputs": [],
   "source": [
    "#SENDING EMAILS"
   ]
  },
  {
   "cell_type": "code",
   "execution_count": 2,
   "id": "561c12a2",
   "metadata": {},
   "outputs": [],
   "source": [
    "import smtplib"
   ]
  },
  {
   "cell_type": "code",
   "execution_count": 3,
   "id": "8ecdb0f4",
   "metadata": {},
   "outputs": [],
   "source": [
    "#make server object\n",
    "smtp_object = smtplib.SMTP(\"smtp.gmail.com\",587)\n",
    "#need a port number too, 465 works too.\n",
    "#another object is leave it blank"
   ]
  },
  {
   "cell_type": "code",
   "execution_count": 4,
   "id": "a39e3383",
   "metadata": {},
   "outputs": [
    {
     "data": {
      "text/plain": [
       "(250,\n",
       " b'smtp.gmail.com at your service, [108.168.60.221]\\nSIZE 35882577\\n8BITMIME\\nSTARTTLS\\nENHANCEDSTATUSCODES\\nPIPELINING\\nCHUNKING\\nSMTPUTF8')"
      ]
     },
     "execution_count": 4,
     "metadata": {},
     "output_type": "execute_result"
    }
   ],
   "source": [
    "#greets the server, should be done right after the object\n",
    "smtp_object.ehlo()"
   ]
  },
  {
   "cell_type": "code",
   "execution_count": 5,
   "id": "67de0636",
   "metadata": {},
   "outputs": [
    {
     "data": {
      "text/plain": [
       "(220, b'2.0.0 Ready to start TLS')"
      ]
     },
     "execution_count": 5,
     "metadata": {},
     "output_type": "execute_result"
    }
   ],
   "source": [
    "#all emails sent are encrypted. Need to initiate the encryption\n",
    "smtp_object.starttls()"
   ]
  },
  {
   "cell_type": "code",
   "execution_count": 6,
   "id": "896ce60e",
   "metadata": {},
   "outputs": [],
   "source": [
    "#set up emails and password\n",
    "#never save the raw string in the script. Should use an input function\n",
    "\n",
    "import getpass\n",
    "\n",
    "#getpass will hide your password from viewing your screen"
   ]
  },
  {
   "cell_type": "code",
   "execution_count": 7,
   "id": "ebcd8f50",
   "metadata": {},
   "outputs": [
    {
     "name": "stdout",
     "output_type": "stream",
     "text": [
      "Password please: ········\n"
     ]
    }
   ],
   "source": [
    "password = getpass.getpass(\"Password please: \")"
   ]
  },
  {
   "cell_type": "code",
   "execution_count": 8,
   "id": "0f1fdf25",
   "metadata": {},
   "outputs": [
    {
     "name": "stdout",
     "output_type": "stream",
     "text": [
      "Email: ········\n",
      "Password please: ········\n"
     ]
    },
    {
     "ename": "TypeError",
     "evalue": "can only concatenate str (not \"bytes\") to str",
     "output_type": "error",
     "traceback": [
      "\u001b[0;31m---------------------------------------------------------------------------\u001b[0m",
      "\u001b[0;31mTypeError\u001b[0m                                 Traceback (most recent call last)",
      "Input \u001b[0;32mIn [8]\u001b[0m, in \u001b[0;36m<cell line: 5>\u001b[0;34m()\u001b[0m\n\u001b[1;32m      3\u001b[0m email \u001b[38;5;241m=\u001b[39m getpass\u001b[38;5;241m.\u001b[39mgetpass(\u001b[38;5;124m\"\u001b[39m\u001b[38;5;124mEmail: \u001b[39m\u001b[38;5;124m\"\u001b[39m)\n\u001b[1;32m      4\u001b[0m password \u001b[38;5;241m=\u001b[39m getpass\u001b[38;5;241m.\u001b[39mgetpass(\u001b[38;5;124m\"\u001b[39m\u001b[38;5;124mPassword please: \u001b[39m\u001b[38;5;124m\"\u001b[39m)\n\u001b[0;32m----> 5\u001b[0m \u001b[43msmtp_object\u001b[49m\u001b[38;5;241;43m.\u001b[39;49m\u001b[43mlogin\u001b[49m\u001b[43m(\u001b[49m\u001b[43memail\u001b[49m\u001b[43m,\u001b[49m\u001b[43mpassword\u001b[49m\u001b[43m)\u001b[49m\n",
      "File \u001b[0;32m~/anaconda3/lib/python3.9/smtplib.py:739\u001b[0m, in \u001b[0;36mSMTP.login\u001b[0;34m(self, user, password, initial_response_ok)\u001b[0m\n\u001b[1;32m    737\u001b[0m method_name \u001b[38;5;241m=\u001b[39m \u001b[38;5;124m'\u001b[39m\u001b[38;5;124mauth_\u001b[39m\u001b[38;5;124m'\u001b[39m \u001b[38;5;241m+\u001b[39m authmethod\u001b[38;5;241m.\u001b[39mlower()\u001b[38;5;241m.\u001b[39mreplace(\u001b[38;5;124m'\u001b[39m\u001b[38;5;124m-\u001b[39m\u001b[38;5;124m'\u001b[39m, \u001b[38;5;124m'\u001b[39m\u001b[38;5;124m_\u001b[39m\u001b[38;5;124m'\u001b[39m)\n\u001b[1;32m    738\u001b[0m \u001b[38;5;28;01mtry\u001b[39;00m:\n\u001b[0;32m--> 739\u001b[0m     (code, resp) \u001b[38;5;241m=\u001b[39m \u001b[38;5;28;43mself\u001b[39;49m\u001b[38;5;241;43m.\u001b[39;49m\u001b[43mauth\u001b[49m\u001b[43m(\u001b[49m\n\u001b[1;32m    740\u001b[0m \u001b[43m        \u001b[49m\u001b[43mauthmethod\u001b[49m\u001b[43m,\u001b[49m\u001b[43m \u001b[49m\u001b[38;5;28;43mgetattr\u001b[39;49m\u001b[43m(\u001b[49m\u001b[38;5;28;43mself\u001b[39;49m\u001b[43m,\u001b[49m\u001b[43m \u001b[49m\u001b[43mmethod_name\u001b[49m\u001b[43m)\u001b[49m\u001b[43m,\u001b[49m\n\u001b[1;32m    741\u001b[0m \u001b[43m        \u001b[49m\u001b[43minitial_response_ok\u001b[49m\u001b[38;5;241;43m=\u001b[39;49m\u001b[43minitial_response_ok\u001b[49m\u001b[43m)\u001b[49m\n\u001b[1;32m    742\u001b[0m     \u001b[38;5;66;03m# 235 == 'Authentication successful'\u001b[39;00m\n\u001b[1;32m    743\u001b[0m     \u001b[38;5;66;03m# 503 == 'Error: already authenticated'\u001b[39;00m\n\u001b[1;32m    744\u001b[0m     \u001b[38;5;28;01mif\u001b[39;00m code \u001b[38;5;129;01min\u001b[39;00m (\u001b[38;5;241m235\u001b[39m, \u001b[38;5;241m503\u001b[39m):\n",
      "File \u001b[0;32m~/anaconda3/lib/python3.9/smtplib.py:642\u001b[0m, in \u001b[0;36mSMTP.auth\u001b[0;34m(self, mechanism, authobject, initial_response_ok)\u001b[0m\n\u001b[1;32m    640\u001b[0m \u001b[38;5;28;01mif\u001b[39;00m initial_response \u001b[38;5;129;01mis\u001b[39;00m \u001b[38;5;129;01mnot\u001b[39;00m \u001b[38;5;28;01mNone\u001b[39;00m:\n\u001b[1;32m    641\u001b[0m     response \u001b[38;5;241m=\u001b[39m encode_base64(initial_response\u001b[38;5;241m.\u001b[39mencode(\u001b[38;5;124m'\u001b[39m\u001b[38;5;124mascii\u001b[39m\u001b[38;5;124m'\u001b[39m), eol\u001b[38;5;241m=\u001b[39m\u001b[38;5;124m'\u001b[39m\u001b[38;5;124m'\u001b[39m)\n\u001b[0;32m--> 642\u001b[0m     (code, resp) \u001b[38;5;241m=\u001b[39m \u001b[38;5;28mself\u001b[39m\u001b[38;5;241m.\u001b[39mdocmd(\u001b[38;5;124m\"\u001b[39m\u001b[38;5;124mAUTH\u001b[39m\u001b[38;5;124m\"\u001b[39m, \u001b[43mmechanism\u001b[49m\u001b[43m \u001b[49m\u001b[38;5;241;43m+\u001b[39;49m\u001b[43m \u001b[49m\u001b[38;5;124;43m\"\u001b[39;49m\u001b[38;5;124;43m \u001b[39;49m\u001b[38;5;124;43m\"\u001b[39;49m\u001b[43m \u001b[49m\u001b[38;5;241;43m+\u001b[39;49m\u001b[43m \u001b[49m\u001b[43mresponse\u001b[49m)\n\u001b[1;32m    643\u001b[0m     \u001b[38;5;28mself\u001b[39m\u001b[38;5;241m.\u001b[39m_auth_challenge_count \u001b[38;5;241m=\u001b[39m \u001b[38;5;241m1\u001b[39m\n\u001b[1;32m    644\u001b[0m \u001b[38;5;28;01melse\u001b[39;00m:\n",
      "\u001b[0;31mTypeError\u001b[0m: can only concatenate str (not \"bytes\") to str"
     ]
    }
   ],
   "source": [
    "#generate an app password\n",
    "#enabled through 2-step authentication\n",
    "email = getpass.getpass(\"Email: \")\n",
    "password = getpass.getpass(\"Password please: \")\n",
    "smtp_object.login(email,password)"
   ]
  },
  {
   "cell_type": "code",
   "execution_count": null,
   "id": "0604b861",
   "metadata": {},
   "outputs": [],
   "source": [
    "from_address = email\n",
    "to_address = email\n",
    "subject = input(\"enter the subject line: \")\n",
    "message = input(\"enter the body message: \")\n",
    "msg = \"Subject: \" +subject+ \"/n\" +message\n",
    "\n",
    "smtp_object.sendmail(from_address,to_address,msg)"
   ]
  },
  {
   "cell_type": "code",
   "execution_count": null,
   "id": "11dfbee3",
   "metadata": {},
   "outputs": [],
   "source": [
    "#empty dictionary means successful"
   ]
  },
  {
   "cell_type": "code",
   "execution_count": 9,
   "id": "4461bb26",
   "metadata": {},
   "outputs": [
    {
     "data": {
      "text/plain": [
       "(221,\n",
       " b'2.0.0 closing connection m18-20020a5e8d12000000b0065a47e16f3dsm455478ioj.15 - gsmtp')"
      ]
     },
     "execution_count": 9,
     "metadata": {},
     "output_type": "execute_result"
    }
   ],
   "source": [
    "#quit and close session\n",
    "smtp_object.quit()"
   ]
  },
  {
   "cell_type": "code",
   "execution_count": null,
   "id": "ca17c1e0",
   "metadata": {},
   "outputs": [],
   "source": []
  },
  {
   "cell_type": "code",
   "execution_count": null,
   "id": "fa6579af",
   "metadata": {},
   "outputs": [],
   "source": []
  },
  {
   "cell_type": "code",
   "execution_count": null,
   "id": "bcd77a2c",
   "metadata": {},
   "outputs": [],
   "source": []
  },
  {
   "cell_type": "code",
   "execution_count": null,
   "id": "2cea92c0",
   "metadata": {},
   "outputs": [],
   "source": [
    "#RECEIVING EMAILS"
   ]
  },
  {
   "cell_type": "code",
   "execution_count": 10,
   "id": "8467dd1d",
   "metadata": {},
   "outputs": [],
   "source": [
    "import imaplib"
   ]
  },
  {
   "cell_type": "code",
   "execution_count": 11,
   "id": "df3a828c",
   "metadata": {},
   "outputs": [],
   "source": [
    "#create an instance of imaplib\n",
    "M = imaplib.IMAP4_SSL(\"imap.gmail.com\")"
   ]
  },
  {
   "cell_type": "code",
   "execution_count": 12,
   "id": "f588b918",
   "metadata": {},
   "outputs": [],
   "source": [
    "import getpass"
   ]
  },
  {
   "cell_type": "code",
   "execution_count": 13,
   "id": "59fed3b7",
   "metadata": {},
   "outputs": [
    {
     "name": "stdout",
     "output_type": "stream",
     "text": [
      "Email: ········\n",
      "Password: ········\n"
     ]
    }
   ],
   "source": [
    "email = getpass.getpass(\"Email: \")\n",
    "password = getpass.getpass(\"Password: \")"
   ]
  },
  {
   "cell_type": "code",
   "execution_count": 14,
   "id": "f490df88",
   "metadata": {},
   "outputs": [
    {
     "data": {
      "text/plain": [
       "('OK', [b'sena.stefano@gmail.com authenticated (Success)'])"
      ]
     },
     "execution_count": 14,
     "metadata": {},
     "output_type": "execute_result"
    }
   ],
   "source": [
    "M.login(email,password)"
   ]
  },
  {
   "cell_type": "code",
   "execution_count": 15,
   "id": "f8fc0fe2",
   "metadata": {},
   "outputs": [
    {
     "data": {
      "text/plain": [
       "('OK',\n",
       " [b'(\\\\HasNoChildren) \"/\" \"Apple\"',\n",
       "  b'(\\\\HasNoChildren) \"/\" \"B\"',\n",
       "  b'(\\\\HasNoChildren) \"/\" \"B\\'s 30th\"',\n",
       "  b'(\\\\HasNoChildren) \"/\" \"CAF\"',\n",
       "  b'(\\\\HasNoChildren) \"/\" \"Express Employment\"',\n",
       "  b'(\\\\HasNoChildren) \"/\" \"INBOX\"',\n",
       "  b'(\\\\HasNoChildren) \"/\" \"INGDirect\"',\n",
       "  b'(\\\\HasNoChildren) \"/\" \"Lasik\"',\n",
       "  b'(\\\\HasNoChildren) \"/\" \"Microsoft\"',\n",
       "  b'(\\\\HasNoChildren) \"/\" \"Notes\"',\n",
       "  b'(\\\\HasNoChildren) \"/\" \"Pamensky Lotto\"',\n",
       "  b'(\\\\HasChildren) \"/\" \"Pamensky Pay\"',\n",
       "  b'(\\\\HasNoChildren) \"/\" \"Pamensky Pay/Benefits stuff\"',\n",
       "  b'(\\\\HasChildren) \"/\" \"Personal\"',\n",
       "  b'(\\\\HasNoChildren) \"/\" \"Personal/Logins\"',\n",
       "  b'(\\\\HasNoChildren) \"/\" \"Rogers\"',\n",
       "  b'(\\\\HasNoChildren) \"/\" \"TD\"',\n",
       "  b'(\\\\HasNoChildren) \"/\" \"Wealthsimple\"',\n",
       "  b'(\\\\HasNoChildren) \"/\" \"Wedding\"',\n",
       "  b'(\\\\HasChildren \\\\Noselect) \"/\" \"[Gmail]\"',\n",
       "  b'(\\\\All \\\\HasNoChildren) \"/\" \"[Gmail]/All Mail\"',\n",
       "  b'(\\\\Drafts \\\\HasNoChildren) \"/\" \"[Gmail]/Drafts\"',\n",
       "  b'(\\\\HasNoChildren \\\\Important) \"/\" \"[Gmail]/Important\"',\n",
       "  b'(\\\\HasNoChildren \\\\Sent) \"/\" \"[Gmail]/Sent Mail\"',\n",
       "  b'(\\\\HasNoChildren \\\\Junk) \"/\" \"[Gmail]/Spam\"',\n",
       "  b'(\\\\Flagged \\\\HasNoChildren) \"/\" \"[Gmail]/Starred\"',\n",
       "  b'(\\\\HasNoChildren \\\\Trash) \"/\" \"[Gmail]/Trash\"'])"
      ]
     },
     "execution_count": 15,
     "metadata": {},
     "output_type": "execute_result"
    }
   ],
   "source": [
    "M.list()"
   ]
  },
  {
   "cell_type": "code",
   "execution_count": 16,
   "id": "e862edf0",
   "metadata": {},
   "outputs": [
    {
     "data": {
      "text/plain": [
       "('OK', [b'975'])"
      ]
     },
     "execution_count": 16,
     "metadata": {},
     "output_type": "execute_result"
    }
   ],
   "source": [
    "M.select(\"inbox\")"
   ]
  },
  {
   "cell_type": "code",
   "execution_count": 17,
   "id": "e3f1d2ac",
   "metadata": {},
   "outputs": [],
   "source": [
    "typ, data = M.search(None,'SUBJECT \"Wolf Python\"')"
   ]
  },
  {
   "cell_type": "code",
   "execution_count": 18,
   "id": "49869b26",
   "metadata": {},
   "outputs": [
    {
     "data": {
      "text/plain": [
       "'OK'"
      ]
     },
     "execution_count": 18,
     "metadata": {},
     "output_type": "execute_result"
    }
   ],
   "source": [
    "typ"
   ]
  },
  {
   "cell_type": "code",
   "execution_count": 21,
   "id": "ed847978",
   "metadata": {},
   "outputs": [],
   "source": [
    "email_id = data[0]"
   ]
  },
  {
   "cell_type": "code",
   "execution_count": 22,
   "id": "c63d5cb4",
   "metadata": {},
   "outputs": [],
   "source": [
    "result,email_data = M.fetch(email_id,'(RFC822)')"
   ]
  },
  {
   "cell_type": "code",
   "execution_count": 23,
   "id": "f85be57c",
   "metadata": {},
   "outputs": [
    {
     "data": {
      "text/plain": [
       "[(b'960 (RFC822 {548}',\n",
       "  b'MIME-Version: 1.0\\r\\nDate: Wed, 4 May 2022 10:05:30 -0400\\r\\nMessage-ID: <CAK1R4CyJpEyWZcg_9sob_ZSnyksjqm6dFnnOOCQeT86eiCevcQ@mail.gmail.com>\\r\\nSubject: Wolf Python\\r\\nFrom: Stefano S <sena.stefano@gmail.com>\\r\\nTo: Stefano Sena <sena.stefano@gmail.com>\\r\\nContent-Type: multipart/alternative; boundary=\"00000000000042ba9b05de301e0b\"\\r\\n\\r\\n--00000000000042ba9b05de301e0b\\r\\nContent-Type: text/plain; charset=\"UTF-8\"\\r\\n\\r\\ntest\\r\\n\\r\\n--00000000000042ba9b05de301e0b\\r\\nContent-Type: text/html; charset=\"UTF-8\"\\r\\n\\r\\n<div dir=\"ltr\">test</div>\\r\\n\\r\\n--00000000000042ba9b05de301e0b--'),\n",
       " b' FLAGS (\\\\Seen))']"
      ]
     },
     "execution_count": 23,
     "metadata": {},
     "output_type": "execute_result"
    }
   ],
   "source": [
    "email_data"
   ]
  },
  {
   "cell_type": "code",
   "execution_count": 24,
   "id": "33b0cfdf",
   "metadata": {},
   "outputs": [],
   "source": [
    "raw_email = email_data[0][1]"
   ]
  },
  {
   "cell_type": "code",
   "execution_count": 25,
   "id": "c1d9a9c5",
   "metadata": {},
   "outputs": [],
   "source": [
    "raw_email_string = raw_email.decode(\"utf-8\")"
   ]
  },
  {
   "cell_type": "code",
   "execution_count": 26,
   "id": "f79ff41b",
   "metadata": {},
   "outputs": [],
   "source": [
    "#grabs the message from the string\n",
    "import email"
   ]
  },
  {
   "cell_type": "code",
   "execution_count": 27,
   "id": "dd329c2a",
   "metadata": {},
   "outputs": [],
   "source": [
    "email_message = email.message_from_string(raw_email_string)"
   ]
  },
  {
   "cell_type": "code",
   "execution_count": 29,
   "id": "45d9baea",
   "metadata": {},
   "outputs": [
    {
     "name": "stdout",
     "output_type": "stream",
     "text": [
      "b'test\\r\\n'\n"
     ]
    }
   ],
   "source": [
    "for part in email_message.walk():\n",
    "    \n",
    "    #if the content == text\n",
    "    if part.get_content_type() == \"text/plain\":\n",
    "        #grab the text and decode it and set it to variable body\n",
    "        body = part.get_payload(decode=True)\n",
    "        #print body variable\n",
    "        print(body)"
   ]
  },
  {
   "cell_type": "code",
   "execution_count": null,
   "id": "9c36cfac",
   "metadata": {},
   "outputs": [],
   "source": []
  }
 ],
 "metadata": {
  "kernelspec": {
   "display_name": "Python 3 (ipykernel)",
   "language": "python",
   "name": "python3"
  },
  "language_info": {
   "codemirror_mode": {
    "name": "ipython",
    "version": 3
   },
   "file_extension": ".py",
   "mimetype": "text/x-python",
   "name": "python",
   "nbconvert_exporter": "python",
   "pygments_lexer": "ipython3",
   "version": "3.9.7"
  }
 },
 "nbformat": 4,
 "nbformat_minor": 5
}

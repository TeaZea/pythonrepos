{
 "cells": [
  {
   "cell_type": "code",
   "execution_count": 1,
   "id": "eda224e3",
   "metadata": {},
   "outputs": [],
   "source": [
    "#import shuffle\n",
    "#import random\n",
    "#import alphabet\n",
    "\n",
    "\n",
    "#create a list of characters for the password containing all \n",
    "#the alhabet + numbers\n",
    "\n",
    "#function asking the user to input length of password and convert to int\n",
    "\n",
    "#choose random amount of letters and numbers from characters list\n",
    "\n",
    "#shuffle the chosen ones\n",
    "\n",
    "#return new shuffled password"
   ]
  },
  {
   "cell_type": "code",
   "execution_count": 1,
   "id": "77a6958e",
   "metadata": {},
   "outputs": [],
   "source": [
    "import random"
   ]
  },
  {
   "cell_type": "code",
   "execution_count": 2,
   "id": "38a62b1a",
   "metadata": {},
   "outputs": [],
   "source": [
    "mylist = [1,2,3,4,5]"
   ]
  },
  {
   "cell_type": "code",
   "execution_count": 3,
   "id": "041f8ad9",
   "metadata": {},
   "outputs": [],
   "source": [
    "random.shuffle(mylist)"
   ]
  },
  {
   "cell_type": "code",
   "execution_count": 4,
   "id": "956195cd",
   "metadata": {},
   "outputs": [
    {
     "data": {
      "text/plain": [
       "[3, 4, 5, 2, 1]"
      ]
     },
     "execution_count": 4,
     "metadata": {},
     "output_type": "execute_result"
    }
   ],
   "source": [
    "mylist"
   ]
  },
  {
   "cell_type": "code",
   "execution_count": 5,
   "id": "be2088fe",
   "metadata": {},
   "outputs": [],
   "source": [
    "import string"
   ]
  },
  {
   "cell_type": "code",
   "execution_count": 6,
   "id": "e1f2a593",
   "metadata": {},
   "outputs": [],
   "source": [
    "chars = [string.ascii_lowercase, string.ascii_uppercase, string.digits]"
   ]
  },
  {
   "cell_type": "code",
   "execution_count": 7,
   "id": "9d2cc0e9",
   "metadata": {},
   "outputs": [
    {
     "data": {
      "text/plain": [
       "['abcdefghijklmnopqrstuvwxyz', 'ABCDEFGHIJKLMNOPQRSTUVWXYZ', '0123456789']"
      ]
     },
     "execution_count": 7,
     "metadata": {},
     "output_type": "execute_result"
    }
   ],
   "source": [
    "chars"
   ]
  },
  {
   "cell_type": "code",
   "execution_count": 19,
   "id": "ee041d0b",
   "metadata": {},
   "outputs": [],
   "source": [
    "import random\n",
    "import string\n",
    "\n",
    "chars = list(string.ascii_lowercase + string.digits)\n",
    "\n",
    "def genorator():\n",
    "    \n",
    "    ran_pass = []\n",
    "    \n",
    "    length = int(input(\"How long is your password? \"))\n",
    "    \n",
    "    random.shuffle(chars)\n",
    "    \n",
    "    for i in range(length):\n",
    "        ran_pass.append(random.choice(chars))\n",
    "        \n",
    "    random.shuffle(ran_pass)\n",
    "    \n",
    "    print(\" \".join(ran_pass))"
   ]
  },
  {
   "cell_type": "code",
   "execution_count": 20,
   "id": "784c5717",
   "metadata": {},
   "outputs": [
    {
     "name": "stdout",
     "output_type": "stream",
     "text": [
      "How long is your password? 20\n",
      "i v 4 h o 2 6 w k r a 9 o j z m n u 3 e\n"
     ]
    }
   ],
   "source": [
    "genorator()"
   ]
  },
  {
   "cell_type": "code",
   "execution_count": null,
   "id": "18aa3ff5",
   "metadata": {},
   "outputs": [],
   "source": []
  }
 ],
 "metadata": {
  "kernelspec": {
   "display_name": "Python 3 (ipykernel)",
   "language": "python",
   "name": "python3"
  },
  "language_info": {
   "codemirror_mode": {
    "name": "ipython",
    "version": 3
   },
   "file_extension": ".py",
   "mimetype": "text/x-python",
   "name": "python",
   "nbconvert_exporter": "python",
   "pygments_lexer": "ipython3",
   "version": "3.9.7"
  }
 },
 "nbformat": 4,
 "nbformat_minor": 5
}

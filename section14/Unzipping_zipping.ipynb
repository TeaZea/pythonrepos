{
 "cells": [
  {
   "cell_type": "code",
   "execution_count": 1,
   "id": "98a9d204",
   "metadata": {},
   "outputs": [],
   "source": [
    "#zip file built in module"
   ]
  },
  {
   "cell_type": "code",
   "execution_count": 2,
   "id": "4a09eb85",
   "metadata": {},
   "outputs": [],
   "source": [
    "f = open(\"fileone.txt\",\"w+\")\n",
    "f.write(\"ONE FILE\")\n",
    "f.close()"
   ]
  },
  {
   "cell_type": "code",
   "execution_count": 3,
   "id": "b0d96b82",
   "metadata": {},
   "outputs": [],
   "source": [
    "f = open(\"filetwo.txt\",\"w+\")\n",
    "f.write(\"TWO FILE\")\n",
    "f.close()"
   ]
  },
  {
   "cell_type": "code",
   "execution_count": 4,
   "id": "dad20645",
   "metadata": {},
   "outputs": [],
   "source": [
    "import zipfile"
   ]
  },
  {
   "cell_type": "code",
   "execution_count": 5,
   "id": "c6f307e6",
   "metadata": {},
   "outputs": [],
   "source": [
    "comp_file = zipfile.ZipFile(\"comp_file.zip\",\"w\")#create directory"
   ]
  },
  {
   "cell_type": "code",
   "execution_count": 6,
   "id": "399f2468",
   "metadata": {},
   "outputs": [],
   "source": [
    "#copy and zip file into the dir\n",
    "comp_file.write(\"fileone.txt\",compress_type=zipfile.ZIP_DEFLATED)"
   ]
  },
  {
   "cell_type": "code",
   "execution_count": 7,
   "id": "9923e3a6",
   "metadata": {},
   "outputs": [],
   "source": [
    "#copy and zip file into the dir\n",
    "comp_file.write(\"filetwo.txt\",compress_type=zipfile.ZIP_DEFLATED)"
   ]
  },
  {
   "cell_type": "code",
   "execution_count": 8,
   "id": "07ce816d",
   "metadata": {},
   "outputs": [],
   "source": [
    "comp_file.close()"
   ]
  },
  {
   "cell_type": "code",
   "execution_count": 9,
   "id": "fdc745db",
   "metadata": {},
   "outputs": [],
   "source": [
    "#create object\n",
    "zip_obj = zipfile.ZipFile(\"comp_file.zip\",\"r\")"
   ]
  },
  {
   "cell_type": "code",
   "execution_count": 11,
   "id": "cc255fe7",
   "metadata": {},
   "outputs": [],
   "source": [
    "#extract to a dir\n",
    "zip_obj.extractall(\"extracted_content\")"
   ]
  },
  {
   "cell_type": "code",
   "execution_count": null,
   "id": "b7871fd4",
   "metadata": {},
   "outputs": [],
   "source": []
  },
  {
   "cell_type": "code",
   "execution_count": null,
   "id": "e87cc08e",
   "metadata": {},
   "outputs": [],
   "source": []
  },
  {
   "cell_type": "code",
   "execution_count": 13,
   "id": "5942d6e4",
   "metadata": {},
   "outputs": [
    {
     "data": {
      "text/plain": [
       "'/home/stefano/pythonrepos/section14'"
      ]
     },
     "execution_count": 13,
     "metadata": {},
     "output_type": "execute_result"
    }
   ],
   "source": [
    "pwd"
   ]
  },
  {
   "cell_type": "code",
   "execution_count": 12,
   "id": "fb19cedc",
   "metadata": {},
   "outputs": [],
   "source": [
    "#SHELL UTILITY\n",
    "\n",
    "import shutil"
   ]
  },
  {
   "cell_type": "code",
   "execution_count": 14,
   "id": "04cf9ba8",
   "metadata": {},
   "outputs": [],
   "source": [
    "dir_to_zip = \"/home/stefano/pythonrepos/section14/extracted_content\""
   ]
  },
  {
   "cell_type": "code",
   "execution_count": 15,
   "id": "c2b3f491",
   "metadata": {},
   "outputs": [],
   "source": [
    "output_filename = \"example\""
   ]
  },
  {
   "cell_type": "code",
   "execution_count": 16,
   "id": "4a0ffe74",
   "metadata": {},
   "outputs": [
    {
     "data": {
      "text/plain": [
       "'/home/stefano/pythonrepos/section14/example.zip'"
      ]
     },
     "execution_count": 16,
     "metadata": {},
     "output_type": "execute_result"
    }
   ],
   "source": [
    "shutil.make_archive(output_filename,\"zip\",dir_to_zip)"
   ]
  },
  {
   "cell_type": "code",
   "execution_count": 17,
   "id": "ed2884ed",
   "metadata": {},
   "outputs": [],
   "source": [
    "#extract\n",
    "shutil.unpack_archive(\"example.zip\",\"final_unzip\",\"zip\")"
   ]
  },
  {
   "cell_type": "code",
   "execution_count": null,
   "id": "c714b08e",
   "metadata": {},
   "outputs": [],
   "source": []
  }
 ],
 "metadata": {
  "kernelspec": {
   "display_name": "Python 3 (ipykernel)",
   "language": "python",
   "name": "python3"
  },
  "language_info": {
   "codemirror_mode": {
    "name": "ipython",
    "version": 3
   },
   "file_extension": ".py",
   "mimetype": "text/x-python",
   "name": "python",
   "nbconvert_exporter": "python",
   "pygments_lexer": "ipython3",
   "version": "3.9.7"
  }
 },
 "nbformat": 4,
 "nbformat_minor": 5
}

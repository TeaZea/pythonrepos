{
 "cells": [
  {
   "cell_type": "code",
   "execution_count": null,
   "id": "48e408bd",
   "metadata": {},
   "outputs": [],
   "source": [
    "#userguess\n",
    "\n",
    "def user_guess():\n",
    "    \n",
    "    user_guess = int(input(\"Choose a number from 1 to 9: \"))\n",
    "    return(user_guess)"
   ]
  },
  {
   "cell_type": "code",
   "execution_count": null,
   "id": "a63b5cb9",
   "metadata": {},
   "outputs": [],
   "source": [
    "user_guess()"
   ]
  },
  {
   "cell_type": "code",
   "execution_count": null,
   "id": "0d2051cb",
   "metadata": {},
   "outputs": [],
   "source": [
    "#randomize number\n",
    "\n",
    "import random\n",
    "import string\n",
    "\n",
    "nums = list(string.digits)\n",
    "\n",
    "def r_num():\n",
    "\n",
    "    random.shuffle(nums)\n",
    "    \n",
    "    return(nums)"
   ]
  },
  {
   "cell_type": "code",
   "execution_count": null,
   "id": "532ae16e",
   "metadata": {},
   "outputs": [],
   "source": [
    "r_num()[0] #need to index first number in list for the answer"
   ]
  },
  {
   "cell_type": "code",
   "execution_count": null,
   "id": "9b3c7596",
   "metadata": {},
   "outputs": [],
   "source": [
    "#number check\n",
    "\n",
    "def num_check():\n",
    "    \n",
    "    guess = 0\n",
    "    \n",
    "    while guess > 5:\n",
    "        return \"higher\"\n",
    "        guess = int(input(\"Choose a number from 1 to 9: \")) \n",
    "        "
   ]
  },
  {
   "cell_type": "code",
   "execution_count": null,
   "id": "9b6b9137",
   "metadata": {
    "scrolled": true
   },
   "outputs": [],
   "source": [
    "num_check()"
   ]
  },
  {
   "cell_type": "code",
   "execution_count": null,
   "id": "023ee0b1",
   "metadata": {},
   "outputs": [],
   "source": [
    "#script\n",
    "guess = user_guess()\n",
    "random_nums = r_nums"
   ]
  },
  {
   "cell_type": "code",
   "execution_count": null,
   "id": "908a2db8",
   "metadata": {},
   "outputs": [],
   "source": []
  },
  {
   "cell_type": "code",
   "execution_count": null,
   "id": "1036fc94",
   "metadata": {},
   "outputs": [],
   "source": []
  },
  {
   "cell_type": "code",
   "execution_count": null,
   "id": "23c0e6d8",
   "metadata": {},
   "outputs": [],
   "source": []
  },
  {
   "cell_type": "code",
   "execution_count": null,
   "id": "ecd56ace",
   "metadata": {},
   "outputs": [],
   "source": []
  },
  {
   "cell_type": "code",
   "execution_count": null,
   "id": "1ff4a22c",
   "metadata": {},
   "outputs": [],
   "source": []
  },
  {
   "cell_type": "code",
   "execution_count": null,
   "id": "9c90c31d",
   "metadata": {},
   "outputs": [],
   "source": []
  },
  {
   "cell_type": "code",
   "execution_count": null,
   "id": "ba5ed221",
   "metadata": {},
   "outputs": [],
   "source": []
  },
  {
   "cell_type": "code",
   "execution_count": null,
   "id": "930730fe",
   "metadata": {},
   "outputs": [],
   "source": []
  },
  {
   "cell_type": "code",
   "execution_count": null,
   "id": "c561e759",
   "metadata": {},
   "outputs": [],
   "source": []
  },
  {
   "cell_type": "code",
   "execution_count": null,
   "id": "491f6de2",
   "metadata": {},
   "outputs": [],
   "source": []
  },
  {
   "cell_type": "code",
   "execution_count": null,
   "id": "7d871882",
   "metadata": {},
   "outputs": [],
   "source": []
  },
  {
   "cell_type": "code",
   "execution_count": null,
   "id": "b1e5332d",
   "metadata": {},
   "outputs": [],
   "source": []
  },
  {
   "cell_type": "code",
   "execution_count": null,
   "id": "237400bd",
   "metadata": {},
   "outputs": [],
   "source": []
  },
  {
   "cell_type": "code",
   "execution_count": null,
   "id": "d31a2ef6",
   "metadata": {},
   "outputs": [],
   "source": []
  },
  {
   "cell_type": "code",
   "execution_count": 1,
   "id": "2a5d14d5",
   "metadata": {},
   "outputs": [],
   "source": [
    "import random\n",
    "import string\n",
    "\n",
    "nums = list(string.digits)"
   ]
  },
  {
   "cell_type": "code",
   "execution_count": 2,
   "id": "42e82c68",
   "metadata": {},
   "outputs": [
    {
     "data": {
      "text/plain": [
       "['0', '1', '2', '3', '4', '5', '6', '7', '8', '9']"
      ]
     },
     "execution_count": 2,
     "metadata": {},
     "output_type": "execute_result"
    }
   ],
   "source": [
    "nums"
   ]
  },
  {
   "cell_type": "code",
   "execution_count": 9,
   "id": "be4703ea",
   "metadata": {},
   "outputs": [
    {
     "ename": "SyntaxError",
     "evalue": "'break' outside loop (150790406.py, line 11)",
     "output_type": "error",
     "traceback": [
      "\u001b[0;36m  File \u001b[0;32m\"/tmp/ipykernel_4664/150790406.py\"\u001b[0;36m, line \u001b[0;32m11\u001b[0m\n\u001b[0;31m    break\u001b[0m\n\u001b[0m    ^\u001b[0m\n\u001b[0;31mSyntaxError\u001b[0m\u001b[0;31m:\u001b[0m 'break' outside loop\n"
     ]
    }
   ],
   "source": [
    "#user guess\n",
    "\n",
    "def user_guess():\n",
    "    \n",
    "    guess = \"\"\n",
    "    \n",
    "    while guess == \"\":\n",
    "        guess = int(input(\"Choose a number from 1 - 9: \"))\n",
    "        return int(user_guess())\n",
    "    else:\n",
    "        break\n",
    "    "
   ]
  },
  {
   "cell_type": "code",
   "execution_count": null,
   "id": "e3a12db0",
   "metadata": {},
   "outputs": [],
   "source": [
    "user_guess()"
   ]
  },
  {
   "cell_type": "code",
   "execution_count": null,
   "id": "d642e1b7",
   "metadata": {},
   "outputs": [],
   "source": [
    "#randomize numers\n",
    "\n",
    "def ran_num():\n",
    "    \n",
    "    random.shuffle(nums)\n",
    "    \n",
    "    return(nums)[0]"
   ]
  },
  {
   "cell_type": "code",
   "execution_count": null,
   "id": "9302e692",
   "metadata": {},
   "outputs": [],
   "source": [
    "ran_num()"
   ]
  },
  {
   "cell_type": "code",
   "execution_count": null,
   "id": "8fd11811",
   "metadata": {},
   "outputs": [],
   "source": [
    "#check\n",
    "\n",
    "def num_check(rnum):\n",
    "    \n",
    "    if user_guess() < rnum:\n",
    "        print(\"higher\")\n",
    "        return int(input(\"Choose a number from 1 - 9: \"))\n",
    "    elif user_guess() > rnum:\n",
    "        print(\"lower\")\n",
    "        return int(input(\"Choose a number from 1 - 9: \"))\n",
    "    else:\n",
    "        print(\"correct!\")"
   ]
  },
  {
   "cell_type": "code",
   "execution_count": null,
   "id": "6e1470a9",
   "metadata": {},
   "outputs": [],
   "source": [
    "import random\n",
    "import string\n",
    "\n",
    "nums = list(string.digits)\n",
    "game_on = True\n",
    "\n",
    "while game_on == True:\n",
    "    \n",
    "    rnum = ran_num()\n",
    "    \n",
    "    guess = user_guess()\n",
    "    \n",
    "    check = num_check(rnum)\n"
   ]
  },
  {
   "cell_type": "code",
   "execution_count": null,
   "id": "f84cf08d",
   "metadata": {},
   "outputs": [],
   "source": []
  },
  {
   "cell_type": "code",
   "execution_count": null,
   "id": "91dba106",
   "metadata": {},
   "outputs": [],
   "source": []
  },
  {
   "cell_type": "code",
   "execution_count": null,
   "id": "157baf88",
   "metadata": {},
   "outputs": [],
   "source": []
  },
  {
   "cell_type": "code",
   "execution_count": null,
   "id": "0a3c6584",
   "metadata": {},
   "outputs": [],
   "source": []
  },
  {
   "cell_type": "code",
   "execution_count": null,
   "id": "4af735ff",
   "metadata": {},
   "outputs": [],
   "source": []
  },
  {
   "cell_type": "code",
   "execution_count": null,
   "id": "df92a689",
   "metadata": {},
   "outputs": [],
   "source": []
  }
 ],
 "metadata": {
  "kernelspec": {
   "display_name": "Python 3 (ipykernel)",
   "language": "python",
   "name": "python3"
  },
  "language_info": {
   "codemirror_mode": {
    "name": "ipython",
    "version": 3
   },
   "file_extension": ".py",
   "mimetype": "text/x-python",
   "name": "python",
   "nbconvert_exporter": "python",
   "pygments_lexer": "ipython3",
   "version": "3.9.7"
  }
 },
 "nbformat": 4,
 "nbformat_minor": 5
}

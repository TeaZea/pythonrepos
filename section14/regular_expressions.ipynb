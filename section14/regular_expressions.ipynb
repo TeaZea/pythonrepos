{
 "cells": [
  {
   "cell_type": "code",
   "execution_count": 2,
   "id": "19d5606b",
   "metadata": {},
   "outputs": [],
   "source": [
    "#you can use regex to search for generalized patterns/\n",
    "#specialized pattern strings"
   ]
  },
  {
   "cell_type": "code",
   "execution_count": 3,
   "id": "666941e3",
   "metadata": {},
   "outputs": [],
   "source": [
    "text = \"The agent's phone number is 408-55-1234. Call soon!\""
   ]
  },
  {
   "cell_type": "code",
   "execution_count": 5,
   "id": "731a16cb",
   "metadata": {},
   "outputs": [
    {
     "data": {
      "text/plain": [
       "True"
      ]
     },
     "execution_count": 5,
     "metadata": {},
     "output_type": "execute_result"
    }
   ],
   "source": [
    "'phone' in text"
   ]
  },
  {
   "cell_type": "code",
   "execution_count": 6,
   "id": "50260bbd",
   "metadata": {},
   "outputs": [],
   "source": [
    "import re"
   ]
  },
  {
   "cell_type": "code",
   "execution_count": 7,
   "id": "1fa5b47c",
   "metadata": {},
   "outputs": [],
   "source": [
    "pattern = \"phone\""
   ]
  },
  {
   "cell_type": "code",
   "execution_count": 9,
   "id": "47885c0a",
   "metadata": {},
   "outputs": [
    {
     "data": {
      "text/plain": [
       "<re.Match object; span=(12, 17), match='phone'>"
      ]
     },
     "execution_count": 9,
     "metadata": {},
     "output_type": "execute_result"
    }
   ],
   "source": [
    "re.search(pattern,text)"
   ]
  },
  {
   "cell_type": "code",
   "execution_count": 10,
   "id": "aefbe37d",
   "metadata": {},
   "outputs": [],
   "source": [
    "pattern = \"NO IN TEXT\""
   ]
  },
  {
   "cell_type": "code",
   "execution_count": 11,
   "id": "24456c39",
   "metadata": {},
   "outputs": [],
   "source": [
    "re.search(pattern,text)"
   ]
  },
  {
   "cell_type": "code",
   "execution_count": 12,
   "id": "edb33598",
   "metadata": {},
   "outputs": [],
   "source": [
    "#get back none because there is no match"
   ]
  },
  {
   "cell_type": "code",
   "execution_count": 13,
   "id": "cca8b314",
   "metadata": {},
   "outputs": [],
   "source": [
    "pattern = \"phone\""
   ]
  },
  {
   "cell_type": "code",
   "execution_count": 15,
   "id": "bfd340b0",
   "metadata": {},
   "outputs": [],
   "source": [
    "match = re.search(pattern,text)"
   ]
  },
  {
   "cell_type": "code",
   "execution_count": 16,
   "id": "ee4f95e8",
   "metadata": {},
   "outputs": [
    {
     "data": {
      "text/plain": [
       "<re.Match object; span=(12, 17), match='phone'>"
      ]
     },
     "execution_count": 16,
     "metadata": {},
     "output_type": "execute_result"
    }
   ],
   "source": [
    "match"
   ]
  },
  {
   "cell_type": "code",
   "execution_count": 17,
   "id": "f2f5cb83",
   "metadata": {},
   "outputs": [
    {
     "data": {
      "text/plain": [
       "(12, 17)"
      ]
     },
     "execution_count": 17,
     "metadata": {},
     "output_type": "execute_result"
    }
   ],
   "source": [
    "match.span()#to get index location"
   ]
  },
  {
   "cell_type": "code",
   "execution_count": 18,
   "id": "2749cf89",
   "metadata": {},
   "outputs": [
    {
     "data": {
      "text/plain": [
       "12"
      ]
     },
     "execution_count": 18,
     "metadata": {},
     "output_type": "execute_result"
    }
   ],
   "source": [
    "match.start()"
   ]
  },
  {
   "cell_type": "code",
   "execution_count": 19,
   "id": "72523c9b",
   "metadata": {},
   "outputs": [
    {
     "data": {
      "text/plain": [
       "17"
      ]
     },
     "execution_count": 19,
     "metadata": {},
     "output_type": "execute_result"
    }
   ],
   "source": [
    "match.end()"
   ]
  },
  {
   "cell_type": "code",
   "execution_count": 20,
   "id": "54925116",
   "metadata": {},
   "outputs": [],
   "source": [
    "#would only get back first span if there's more than one match.\n",
    "#you'd have to use the findall() func instead"
   ]
  },
  {
   "cell_type": "code",
   "execution_count": 21,
   "id": "72b4eddf",
   "metadata": {},
   "outputs": [],
   "source": [
    "match = \"my phone once, my phone twice\""
   ]
  },
  {
   "cell_type": "code",
   "execution_count": 25,
   "id": "85cc9814",
   "metadata": {},
   "outputs": [
    {
     "name": "stdout",
     "output_type": "stream",
     "text": [
      "<re.Match object; span=(12, 17), match='phone'>\n"
     ]
    }
   ],
   "source": [
    "#re.finditer() iterates through all matches. Need a for loop\n",
    "for match in re.finditer(\"phone\",text):\n",
    "    print(match)"
   ]
  },
  {
   "cell_type": "code",
   "execution_count": null,
   "id": "6c79e16d",
   "metadata": {},
   "outputs": [],
   "source": []
  },
  {
   "cell_type": "code",
   "execution_count": null,
   "id": "7b16b8d6",
   "metadata": {},
   "outputs": [],
   "source": []
  },
  {
   "cell_type": "code",
   "execution_count": null,
   "id": "fb076044",
   "metadata": {},
   "outputs": [],
   "source": []
  },
  {
   "cell_type": "code",
   "execution_count": null,
   "id": "0e9140f3",
   "metadata": {},
   "outputs": [],
   "source": []
  },
  {
   "cell_type": "code",
   "execution_count": 26,
   "id": "81288de8",
   "metadata": {},
   "outputs": [],
   "source": [
    "#SPECIAL PATTERN CODES"
   ]
  },
  {
   "cell_type": "code",
   "execution_count": 27,
   "id": "1a2714a0",
   "metadata": {},
   "outputs": [],
   "source": [
    "text = \"My phone numer is 408-555-1234\""
   ]
  },
  {
   "cell_type": "code",
   "execution_count": 28,
   "id": "7126ebc0",
   "metadata": {},
   "outputs": [],
   "source": [
    "phone = re.search(\"408-555-1234\",text)"
   ]
  },
  {
   "cell_type": "code",
   "execution_count": 29,
   "id": "ccc369ba",
   "metadata": {},
   "outputs": [
    {
     "data": {
      "text/plain": [
       "<re.Match object; span=(18, 30), match='408-555-1234'>"
      ]
     },
     "execution_count": 29,
     "metadata": {},
     "output_type": "execute_result"
    }
   ],
   "source": [
    "phone"
   ]
  },
  {
   "cell_type": "code",
   "execution_count": 30,
   "id": "b258b753",
   "metadata": {},
   "outputs": [],
   "source": [
    "# r tells python \\ is a special pattern expressions\n",
    "phone = re.search(r\"\\d\\d\\d-\\d\\d\\d-\\d\\d\\d\\d\",text)"
   ]
  },
  {
   "cell_type": "code",
   "execution_count": 31,
   "id": "fd617d96",
   "metadata": {},
   "outputs": [
    {
     "data": {
      "text/plain": [
       "<re.Match object; span=(18, 30), match='408-555-1234'>"
      ]
     },
     "execution_count": 31,
     "metadata": {},
     "output_type": "execute_result"
    }
   ],
   "source": [
    "phone"
   ]
  },
  {
   "cell_type": "code",
   "execution_count": 33,
   "id": "c0a72f54",
   "metadata": {},
   "outputs": [
    {
     "data": {
      "text/plain": [
       "'408-555-1234'"
      ]
     },
     "execution_count": 33,
     "metadata": {},
     "output_type": "execute_result"
    }
   ],
   "source": [
    "phone.group()# grab the phone nuber itself"
   ]
  },
  {
   "cell_type": "code",
   "execution_count": null,
   "id": "bbee8a02",
   "metadata": {},
   "outputs": [],
   "source": []
  },
  {
   "cell_type": "code",
   "execution_count": null,
   "id": "7aaa51a3",
   "metadata": {},
   "outputs": [],
   "source": []
  },
  {
   "cell_type": "code",
   "execution_count": 34,
   "id": "1e5649e4",
   "metadata": {},
   "outputs": [],
   "source": [
    "phone = re.search(r\"\\d{3}-\\d{3}-\\d{4}\",text)"
   ]
  },
  {
   "cell_type": "code",
   "execution_count": 35,
   "id": "a172d14d",
   "metadata": {},
   "outputs": [
    {
     "data": {
      "text/plain": [
       "<re.Match object; span=(18, 30), match='408-555-1234'>"
      ]
     },
     "execution_count": 35,
     "metadata": {},
     "output_type": "execute_result"
    }
   ],
   "source": [
    "phone"
   ]
  },
  {
   "cell_type": "code",
   "execution_count": 36,
   "id": "64aac740",
   "metadata": {},
   "outputs": [],
   "source": [
    "# parenthesis indicates a group pattern\n",
    "# takes multiple patten codes and compiles into a simple expression\n",
    "# still understands they're 3 seperate groupings\n",
    "\n",
    "phone_pattern = re.compile(r'(\\d{3})-(\\d{3})-(\\d{4})')"
   ]
  },
  {
   "cell_type": "code",
   "execution_count": 37,
   "id": "5ee51d2f",
   "metadata": {},
   "outputs": [],
   "source": [
    "results = re.search(phone_pattern,text)"
   ]
  },
  {
   "cell_type": "code",
   "execution_count": 38,
   "id": "00567512",
   "metadata": {},
   "outputs": [
    {
     "data": {
      "text/plain": [
       "'408-555-1234'"
      ]
     },
     "execution_count": 38,
     "metadata": {},
     "output_type": "execute_result"
    }
   ],
   "source": [
    "results.group()"
   ]
  },
  {
   "cell_type": "code",
   "execution_count": 39,
   "id": "545514bb",
   "metadata": {},
   "outputs": [
    {
     "data": {
      "text/plain": [
       "'408'"
      ]
     },
     "execution_count": 39,
     "metadata": {},
     "output_type": "execute_result"
    }
   ],
   "source": [
    "results.group(1) #compile allows for indexing"
   ]
  },
  {
   "cell_type": "code",
   "execution_count": null,
   "id": "056f4f30",
   "metadata": {},
   "outputs": [],
   "source": []
  },
  {
   "cell_type": "code",
   "execution_count": null,
   "id": "765022f3",
   "metadata": {},
   "outputs": [],
   "source": []
  },
  {
   "cell_type": "code",
   "execution_count": null,
   "id": "570539ba",
   "metadata": {},
   "outputs": [],
   "source": []
  },
  {
   "cell_type": "code",
   "execution_count": 40,
   "id": "3a299a0e",
   "metadata": {},
   "outputs": [],
   "source": [
    "#ADDITIONAL REGEX SYNTAX"
   ]
  },
  {
   "cell_type": "code",
   "execution_count": 41,
   "id": "51a41f8c",
   "metadata": {},
   "outputs": [
    {
     "data": {
      "text/plain": [
       "<re.Match object; span=(4, 7), match='cat'>"
      ]
     },
     "execution_count": 41,
     "metadata": {},
     "output_type": "execute_result"
    }
   ],
   "source": [
    "# or searches for multiple terms\n",
    "# | is the 'or' syntax\n",
    "\n",
    "re.search(r\"cat\",\"the cat is here\")"
   ]
  },
  {
   "cell_type": "code",
   "execution_count": 42,
   "id": "e7bacc2f",
   "metadata": {},
   "outputs": [
    {
     "data": {
      "text/plain": [
       "<re.Match object; span=(4, 7), match='cat'>"
      ]
     },
     "execution_count": 42,
     "metadata": {},
     "output_type": "execute_result"
    }
   ],
   "source": [
    "re.search(r\"cat|dog\",\"the cat is here\")"
   ]
  },
  {
   "cell_type": "code",
   "execution_count": 43,
   "id": "6e996b8a",
   "metadata": {},
   "outputs": [
    {
     "data": {
      "text/plain": [
       "<re.Match object; span=(4, 7), match='dog'>"
      ]
     },
     "execution_count": 43,
     "metadata": {},
     "output_type": "execute_result"
    }
   ],
   "source": [
    "re.search(r\"cat|dog\",\"the dog is here\")"
   ]
  },
  {
   "cell_type": "code",
   "execution_count": null,
   "id": "86e94b7e",
   "metadata": {},
   "outputs": [],
   "source": []
  },
  {
   "cell_type": "code",
   "execution_count": null,
   "id": "171576b8",
   "metadata": {},
   "outputs": [],
   "source": [
    "#wild card is shown as a ."
   ]
  },
  {
   "cell_type": "code",
   "execution_count": 44,
   "id": "d23bb938",
   "metadata": {},
   "outputs": [
    {
     "data": {
      "text/plain": [
       "['at', 'at', 'at']"
      ]
     },
     "execution_count": 44,
     "metadata": {},
     "output_type": "execute_result"
    }
   ],
   "source": [
    "re.findall(r\"at\",\"The cat in the hat sat there\")"
   ]
  },
  {
   "cell_type": "code",
   "execution_count": 45,
   "id": "7ea84340",
   "metadata": {},
   "outputs": [
    {
     "data": {
      "text/plain": [
       "['cat', 'hat', 'sat']"
      ]
     },
     "execution_count": 45,
     "metadata": {},
     "output_type": "execute_result"
    }
   ],
   "source": [
    "re.findall(r\".at\",\"The cat in the hat sat there\")"
   ]
  },
  {
   "cell_type": "code",
   "execution_count": 46,
   "id": "1a109cc0",
   "metadata": {},
   "outputs": [
    {
     "data": {
      "text/plain": [
       "['e cat', 'e hat', 'splat']"
      ]
     },
     "execution_count": 46,
     "metadata": {},
     "output_type": "execute_result"
    }
   ],
   "source": [
    "re.findall(r\"...at\",\"The cat in the hat went splat\")"
   ]
  },
  {
   "cell_type": "code",
   "execution_count": 47,
   "id": "bb55e427",
   "metadata": {},
   "outputs": [],
   "source": [
    "#multiple wild cards grab other characters and spaces\n",
    "#use character identifiers to be more specific"
   ]
  },
  {
   "cell_type": "code",
   "execution_count": null,
   "id": "c756c665",
   "metadata": {},
   "outputs": [],
   "source": []
  },
  {
   "cell_type": "code",
   "execution_count": 49,
   "id": "c3de8db7",
   "metadata": {},
   "outputs": [],
   "source": [
    "# ^ = starts with\n",
    "# $ = ends with"
   ]
  },
  {
   "cell_type": "code",
   "execution_count": 48,
   "id": "038880c1",
   "metadata": {},
   "outputs": [
    {
     "data": {
      "text/plain": [
       "['1']"
      ]
     },
     "execution_count": 48,
     "metadata": {},
     "output_type": "execute_result"
    }
   ],
   "source": [
    "re.findall(r\"^\\d\", \"1 is a number\")"
   ]
  },
  {
   "cell_type": "code",
   "execution_count": 50,
   "id": "e9e9294c",
   "metadata": {},
   "outputs": [
    {
     "data": {
      "text/plain": [
       "['2']"
      ]
     },
     "execution_count": 50,
     "metadata": {},
     "output_type": "execute_result"
    }
   ],
   "source": [
    "re.findall(r\"\\d$\", \"The number is 2\")"
   ]
  },
  {
   "cell_type": "code",
   "execution_count": 51,
   "id": "7db72be0",
   "metadata": {},
   "outputs": [],
   "source": [
    "#exclude characters is ^ within a set of []\n",
    "#common way to get ride of punctuation froma  sentence"
   ]
  },
  {
   "cell_type": "code",
   "execution_count": 52,
   "id": "6eb15a42",
   "metadata": {},
   "outputs": [],
   "source": [
    "phrase = \"There are 3 numbers 34 inside 5 this sentence\""
   ]
  },
  {
   "cell_type": "code",
   "execution_count": 57,
   "id": "e20f2a86",
   "metadata": {},
   "outputs": [],
   "source": [
    "pattern = r\"[^\\d]+\""
   ]
  },
  {
   "cell_type": "code",
   "execution_count": 58,
   "id": "5209fcdf",
   "metadata": {},
   "outputs": [
    {
     "data": {
      "text/plain": [
       "['There are ', ' numbers ', ' inside ', ' this sentence']"
      ]
     },
     "execution_count": 58,
     "metadata": {},
     "output_type": "execute_result"
    }
   ],
   "source": [
    "re.findall(pattern,phrase)"
   ]
  },
  {
   "cell_type": "code",
   "execution_count": 63,
   "id": "d6b0a3ac",
   "metadata": {},
   "outputs": [],
   "source": [
    "test_phrase = \"This is a string! But it has punctuation. How can we remove it?\""
   ]
  },
  {
   "cell_type": "code",
   "execution_count": 65,
   "id": "3b42b797",
   "metadata": {},
   "outputs": [
    {
     "data": {
      "text/plain": [
       "['This',\n",
       " 'is',\n",
       " 'a',\n",
       " 'string',\n",
       " 'But',\n",
       " 'it',\n",
       " 'has',\n",
       " 'punctuation',\n",
       " 'How',\n",
       " 'can',\n",
       " 'we',\n",
       " 'remove',\n",
       " 'it']"
      ]
     },
     "execution_count": 65,
     "metadata": {},
     "output_type": "execute_result"
    }
   ],
   "source": [
    "re.findall(r\"[^!.? ]+\",test_phrase)# space removes spaces as well"
   ]
  },
  {
   "cell_type": "code",
   "execution_count": 66,
   "id": "c1252981",
   "metadata": {},
   "outputs": [],
   "source": [
    "clean = re.findall(r\"[^!.? ]+\",test_phrase)"
   ]
  },
  {
   "cell_type": "code",
   "execution_count": 67,
   "id": "f508dc32",
   "metadata": {},
   "outputs": [
    {
     "data": {
      "text/plain": [
       "'This is a string But it has punctuation How can we remove it'"
      ]
     },
     "execution_count": 67,
     "metadata": {},
     "output_type": "execute_result"
    }
   ],
   "source": [
    "\" \".join(clean)"
   ]
  },
  {
   "cell_type": "code",
   "execution_count": null,
   "id": "b3f3ade8",
   "metadata": {},
   "outputs": [],
   "source": []
  },
  {
   "cell_type": "code",
   "execution_count": null,
   "id": "e2ab9780",
   "metadata": {},
   "outputs": [],
   "source": []
  },
  {
   "cell_type": "code",
   "execution_count": null,
   "id": "6b6c8b0c",
   "metadata": {},
   "outputs": [],
   "source": []
  },
  {
   "cell_type": "code",
   "execution_count": null,
   "id": "cc228669",
   "metadata": {},
   "outputs": [],
   "source": []
  },
  {
   "cell_type": "code",
   "execution_count": 68,
   "id": "997256f6",
   "metadata": {},
   "outputs": [],
   "source": [
    "# [] used to group things together, both for exclusion AND inclusion"
   ]
  },
  {
   "cell_type": "code",
   "execution_count": 69,
   "id": "b1c8db37",
   "metadata": {},
   "outputs": [],
   "source": [
    "text = \"Only find the hyphen-words in this sentence. But you don't know how long-ish they are\""
   ]
  },
  {
   "cell_type": "code",
   "execution_count": 70,
   "id": "5298a1f7",
   "metadata": {},
   "outputs": [],
   "source": [
    "#given text, find words that have a dash in the middle of them\n",
    "#groupd of alphanumeric dash alphanumeric\n",
    "\n",
    "pattern = r\"[\\w]+\""
   ]
  },
  {
   "cell_type": "code",
   "execution_count": 71,
   "id": "67c09e4c",
   "metadata": {},
   "outputs": [
    {
     "data": {
      "text/plain": [
       "['Only',\n",
       " 'find',\n",
       " 'the',\n",
       " 'hyphen',\n",
       " 'words',\n",
       " 'in',\n",
       " 'this',\n",
       " 'sentence',\n",
       " 'But',\n",
       " 'you',\n",
       " 'don',\n",
       " 't',\n",
       " 'know',\n",
       " 'how',\n",
       " 'long',\n",
       " 'ish',\n",
       " 'they',\n",
       " 'are']"
      ]
     },
     "execution_count": 71,
     "metadata": {},
     "output_type": "execute_result"
    }
   ],
   "source": [
    "re.findall(pattern,text)"
   ]
  },
  {
   "cell_type": "code",
   "execution_count": 72,
   "id": "395dc846",
   "metadata": {},
   "outputs": [],
   "source": [
    "pattern = r\"[\\w]+-[\\w]+\""
   ]
  },
  {
   "cell_type": "code",
   "execution_count": 73,
   "id": "0872f71c",
   "metadata": {},
   "outputs": [
    {
     "data": {
      "text/plain": [
       "['hyphen-words', 'long-ish']"
      ]
     },
     "execution_count": 73,
     "metadata": {},
     "output_type": "execute_result"
    }
   ],
   "source": [
    "re.findall(pattern,text)"
   ]
  },
  {
   "cell_type": "code",
   "execution_count": null,
   "id": "6ec5e5a8",
   "metadata": {},
   "outputs": [],
   "source": []
  },
  {
   "cell_type": "code",
   "execution_count": null,
   "id": "92872eb9",
   "metadata": {},
   "outputs": [],
   "source": []
  },
  {
   "cell_type": "code",
   "execution_count": 75,
   "id": "a1ff5377",
   "metadata": {},
   "outputs": [],
   "source": [
    "# () to find multiple options\n",
    "\n",
    "text = \"Hello, would you like some catfish?\"\n",
    "texttwo = \"Hello, would you like to take a catnap?\"\n",
    "textthree = \"Hello, have you seen this caterpillar?\""
   ]
  },
  {
   "cell_type": "code",
   "execution_count": 79,
   "id": "d85b7363",
   "metadata": {},
   "outputs": [
    {
     "data": {
      "text/plain": [
       "<re.Match object; span=(27, 34), match='catfish'>"
      ]
     },
     "execution_count": 79,
     "metadata": {},
     "output_type": "execute_result"
    }
   ],
   "source": [
    "re.search(r\"cat(fish|nap|erpillar)\",text)"
   ]
  },
  {
   "cell_type": "code",
   "execution_count": 80,
   "id": "21010d94",
   "metadata": {},
   "outputs": [
    {
     "data": {
      "text/plain": [
       "<re.Match object; span=(32, 38), match='catnap'>"
      ]
     },
     "execution_count": 80,
     "metadata": {},
     "output_type": "execute_result"
    }
   ],
   "source": [
    "re.search(r\"cat(fish|nap|claw)\",texttwo)"
   ]
  },
  {
   "cell_type": "code",
   "execution_count": 81,
   "id": "86aa2a62",
   "metadata": {},
   "outputs": [
    {
     "data": {
      "text/plain": [
       "<re.Match object; span=(26, 37), match='caterpillar'>"
      ]
     },
     "execution_count": 81,
     "metadata": {},
     "output_type": "execute_result"
    }
   ],
   "source": [
    "re.search(r\"cat(fish|nap|erpillar)\",textthree)"
   ]
  },
  {
   "cell_type": "code",
   "execution_count": null,
   "id": "18533fe0",
   "metadata": {},
   "outputs": [],
   "source": []
  }
 ],
 "metadata": {
  "kernelspec": {
   "display_name": "Python 3 (ipykernel)",
   "language": "python",
   "name": "python3"
  },
  "language_info": {
   "codemirror_mode": {
    "name": "ipython",
    "version": 3
   },
   "file_extension": ".py",
   "mimetype": "text/x-python",
   "name": "python",
   "nbconvert_exporter": "python",
   "pygments_lexer": "ipython3",
   "version": "3.9.7"
  }
 },
 "nbformat": 4,
 "nbformat_minor": 5
}

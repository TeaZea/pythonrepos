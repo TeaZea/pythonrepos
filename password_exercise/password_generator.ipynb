{
 "cells": [
  {
   "cell_type": "code",
   "execution_count": 1,
   "id": "bf799a99",
   "metadata": {},
   "outputs": [],
   "source": [
    "#import shuffle\n",
    "#import random\n",
    "#import alphabet\n",
    "\n",
    "\n",
    "#create a list of characters for the password containing all \n",
    "#the alhabet + numbers\n",
    "\n",
    "#function asking the user to input length of password and convert to int\n",
    "\n",
    "#choose random amount of letters and numbers from characters list\n",
    "\n",
    "#shuffle the chosen ones\n",
    "\n",
    "#return new shuffled password"
   ]
  },
  {
   "cell_type": "code",
   "execution_count": 1,
   "id": "9dbc3a04",
   "metadata": {},
   "outputs": [],
   "source": [
    "import random"
   ]
  },
  {
   "cell_type": "code",
   "execution_count": 2,
   "id": "8b669b6b",
   "metadata": {},
   "outputs": [],
   "source": [
    "mylist = [1,2,3,4,5]"
   ]
  },
  {
   "cell_type": "code",
   "execution_count": 3,
   "id": "349eb09a",
   "metadata": {},
   "outputs": [],
   "source": [
    "random.shuffle(mylist)"
   ]
  },
  {
   "cell_type": "code",
   "execution_count": 4,
   "id": "3ac2b679",
   "metadata": {},
   "outputs": [
    {
     "data": {
      "text/plain": [
       "[3, 4, 5, 2, 1]"
      ]
     },
     "execution_count": 4,
     "metadata": {},
     "output_type": "execute_result"
    }
   ],
   "source": [
    "mylist"
   ]
  },
  {
   "cell_type": "code",
   "execution_count": 5,
   "id": "32b2001c",
   "metadata": {},
   "outputs": [],
   "source": [
    "import string"
   ]
  },
  {
   "cell_type": "code",
   "execution_count": 6,
   "id": "42bb3652",
   "metadata": {},
   "outputs": [],
   "source": [
    "chars = [string.ascii_lowercase, string.ascii_uppercase, string.digits]"
   ]
  },
  {
   "cell_type": "code",
   "execution_count": 7,
   "id": "94a24788",
   "metadata": {},
   "outputs": [
    {
     "data": {
      "text/plain": [
       "['abcdefghijklmnopqrstuvwxyz', 'ABCDEFGHIJKLMNOPQRSTUVWXYZ', '0123456789']"
      ]
     },
     "execution_count": 7,
     "metadata": {},
     "output_type": "execute_result"
    }
   ],
   "source": [
    "chars"
   ]
  },
  {
   "cell_type": "code",
   "execution_count": 12,
   "id": "ec3974ad",
   "metadata": {},
   "outputs": [
    {
     "ename": "TypeError",
     "evalue": "list expected at most 1 argument, got 2",
     "output_type": "error",
     "traceback": [
      "\u001b[0;31m---------------------------------------------------------------------------\u001b[0m",
      "\u001b[0;31mTypeError\u001b[0m                                 Traceback (most recent call last)",
      "\u001b[0;32m/tmp/ipykernel_5046/3642858318.py\u001b[0m in \u001b[0;36m<module>\u001b[0;34m\u001b[0m\n\u001b[1;32m      2\u001b[0m \u001b[0;32mimport\u001b[0m \u001b[0mstring\u001b[0m\u001b[0;34m\u001b[0m\u001b[0;34m\u001b[0m\u001b[0m\n\u001b[1;32m      3\u001b[0m \u001b[0;34m\u001b[0m\u001b[0m\n\u001b[0;32m----> 4\u001b[0;31m \u001b[0mchars\u001b[0m \u001b[0;34m=\u001b[0m \u001b[0mlist\u001b[0m\u001b[0;34m(\u001b[0m\u001b[0mstring\u001b[0m\u001b[0;34m.\u001b[0m\u001b[0mascii_lowercase\u001b[0m\u001b[0;34m,\u001b[0m \u001b[0mstring\u001b[0m\u001b[0;34m.\u001b[0m\u001b[0mdigits\u001b[0m\u001b[0;34m)\u001b[0m\u001b[0;34m\u001b[0m\u001b[0;34m\u001b[0m\u001b[0m\n\u001b[0m\u001b[1;32m      5\u001b[0m \u001b[0;34m\u001b[0m\u001b[0m\n\u001b[1;32m      6\u001b[0m \u001b[0;32mdef\u001b[0m \u001b[0mgenorator\u001b[0m\u001b[0;34m(\u001b[0m\u001b[0;34m)\u001b[0m\u001b[0;34m:\u001b[0m\u001b[0;34m\u001b[0m\u001b[0;34m\u001b[0m\u001b[0m\n",
      "\u001b[0;31mTypeError\u001b[0m: list expected at most 1 argument, got 2"
     ]
    }
   ],
   "source": [
    "import random\n",
    "import string\n",
    "\n",
    "chars = list(string.ascii_lowercase)\n",
    "nums = list(string.digits)\n",
    "\n",
    "def genorator():\n",
    "    \n",
    "    ran_pass = []\n",
    "    \n",
    "    length = int(input(\"How long is your password?\"))\n",
    "    lth_chars = int(input(\"How many letters in your password: \"))\n",
    "    lth_nums = int(input(\"How many numbers in your password: \"))\n",
    "    \n",
    "    shuffle.random(chars)\n",
    "    shuffle.random(nums)\n",
    "    \n",
    "    for i in range(length):\n",
    "        ran_pass.append(random.choice(chars))\n",
    "        \n",
    "    random.shuffle(ran_pass)\n",
    "    \n",
    "    print(\" \".join(ran_pass))"
   ]
  },
  {
   "cell_type": "code",
   "execution_count": 9,
   "id": "59750afb",
   "metadata": {},
   "outputs": [
    {
     "name": "stdout",
     "output_type": "stream",
     "text": [
      "What's the length of your password: 10\n"
     ]
    }
   ],
   "source": [
    "genorator()"
   ]
  },
  {
   "cell_type": "code",
   "execution_count": null,
   "id": "5523925d",
   "metadata": {},
   "outputs": [],
   "source": []
  }
 ],
 "metadata": {
  "kernelspec": {
   "display_name": "Python 3 (ipykernel)",
   "language": "python",
   "name": "python3"
  },
  "language_info": {
   "codemirror_mode": {
    "name": "ipython",
    "version": 3
   },
   "file_extension": ".py",
   "mimetype": "text/x-python",
   "name": "python",
   "nbconvert_exporter": "python",
   "pygments_lexer": "ipython3",
   "version": "3.9.7"
  }
 },
 "nbformat": 4,
 "nbformat_minor": 5
}

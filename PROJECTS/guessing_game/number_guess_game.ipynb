{
 "cells": [
  {
   "cell_type": "code",
   "execution_count": null,
   "id": "48e408bd",
   "metadata": {},
   "outputs": [],
   "source": [
    "#userguess\n",
    "\n",
    "def user_guess():\n",
    "    \n",
    "    user_guess = int(input(\"Choose a number from 1 to 9: \"))\n",
    "    return(user_guess)"
   ]
  },
  {
   "cell_type": "code",
   "execution_count": null,
   "id": "a63b5cb9",
   "metadata": {},
   "outputs": [],
   "source": [
    "user_guess()"
   ]
  },
  {
   "cell_type": "code",
   "execution_count": null,
   "id": "0d2051cb",
   "metadata": {},
   "outputs": [],
   "source": [
    "#randomize number\n",
    "\n",
    "import random\n",
    "import string\n",
    "\n",
    "nums = list(string.digits)\n",
    "\n",
    "def r_num():\n",
    "\n",
    "    random.shuffle(nums)\n",
    "    \n",
    "    return(nums)"
   ]
  },
  {
   "cell_type": "code",
   "execution_count": null,
   "id": "532ae16e",
   "metadata": {},
   "outputs": [],
   "source": [
    "r_num()[0] #need to index first number in list for the answer"
   ]
  },
  {
   "cell_type": "code",
   "execution_count": null,
   "id": "9b3c7596",
   "metadata": {},
   "outputs": [],
   "source": [
    "#number check\n",
    "\n",
    "def num_check():\n",
    "    \n",
    "    guess = 0\n",
    "    \n",
    "    while guess > 5:\n",
    "        return \"higher\"\n",
    "        guess = int(input(\"Choose a number from 1 to 9: \")) \n",
    "        "
   ]
  },
  {
   "cell_type": "code",
   "execution_count": null,
   "id": "9b6b9137",
   "metadata": {
    "scrolled": true
   },
   "outputs": [],
   "source": [
    "num_check()"
   ]
  },
  {
   "cell_type": "code",
   "execution_count": null,
   "id": "023ee0b1",
   "metadata": {},
   "outputs": [],
   "source": [
    "#script\n",
    "guess = user_guess()\n",
    "random_nums = r_nums"
   ]
  },
  {
   "cell_type": "code",
   "execution_count": null,
   "id": "908a2db8",
   "metadata": {},
   "outputs": [],
   "source": []
  },
  {
   "cell_type": "code",
   "execution_count": null,
   "id": "1036fc94",
   "metadata": {},
   "outputs": [],
   "source": []
  },
  {
   "cell_type": "code",
   "execution_count": null,
   "id": "23c0e6d8",
   "metadata": {},
   "outputs": [],
   "source": []
  },
  {
   "cell_type": "code",
   "execution_count": null,
   "id": "ecd56ace",
   "metadata": {},
   "outputs": [],
   "source": []
  },
  {
   "cell_type": "code",
   "execution_count": null,
   "id": "1ff4a22c",
   "metadata": {},
   "outputs": [],
   "source": []
  },
  {
   "cell_type": "code",
   "execution_count": null,
   "id": "9c90c31d",
   "metadata": {},
   "outputs": [],
   "source": []
  },
  {
   "cell_type": "code",
   "execution_count": null,
   "id": "ba5ed221",
   "metadata": {},
   "outputs": [],
   "source": []
  },
  {
   "cell_type": "code",
   "execution_count": null,
   "id": "930730fe",
   "metadata": {},
   "outputs": [],
   "source": []
  },
  {
   "cell_type": "code",
   "execution_count": null,
   "id": "c561e759",
   "metadata": {},
   "outputs": [],
   "source": []
  },
  {
   "cell_type": "code",
   "execution_count": null,
   "id": "491f6de2",
   "metadata": {},
   "outputs": [],
   "source": []
  },
  {
   "cell_type": "code",
   "execution_count": null,
   "id": "7d871882",
   "metadata": {},
   "outputs": [],
   "source": []
  },
  {
   "cell_type": "code",
   "execution_count": null,
   "id": "b1e5332d",
   "metadata": {},
   "outputs": [],
   "source": []
  },
  {
   "cell_type": "code",
   "execution_count": null,
   "id": "237400bd",
   "metadata": {},
   "outputs": [],
   "source": []
  },
  {
   "cell_type": "code",
   "execution_count": null,
   "id": "d31a2ef6",
   "metadata": {},
   "outputs": [],
   "source": []
  },
  {
   "cell_type": "code",
   "execution_count": 1,
   "id": "2a5d14d5",
   "metadata": {},
   "outputs": [],
   "source": [
    "import random\n",
    "import string\n",
    "\n",
    "nums = list(string.digits)"
   ]
  },
  {
   "cell_type": "code",
   "execution_count": 2,
   "id": "42e82c68",
   "metadata": {},
   "outputs": [
    {
     "data": {
      "text/plain": [
       "['0', '1', '2', '3', '4', '5', '6', '7', '8', '9']"
      ]
     },
     "execution_count": 2,
     "metadata": {},
     "output_type": "execute_result"
    }
   ],
   "source": [
    "nums"
   ]
  },
  {
   "cell_type": "code",
   "execution_count": 4,
   "id": "be4703ea",
   "metadata": {},
   "outputs": [],
   "source": [
    "#user guess\n",
    "\n",
    "def user_guess():\n",
    "    \n",
    "    guess = \"\"\n",
    "    \n",
    "    if guess == \"\":\n",
    "        guess = int(input(\"Choose a number from 1 - 9: \"))\n",
    "    else:\n",
    "        return int(user_guess())        \n",
    "\n",
    "    "
   ]
  },
  {
   "cell_type": "code",
   "execution_count": 5,
   "id": "e3a12db0",
   "metadata": {},
   "outputs": [
    {
     "name": "stdout",
     "output_type": "stream",
     "text": [
      "Choose a number from 1 - 9: 1\n"
     ]
    }
   ],
   "source": [
    "user_guess()"
   ]
  },
  {
   "cell_type": "code",
   "execution_count": 6,
   "id": "d642e1b7",
   "metadata": {},
   "outputs": [],
   "source": [
    "#randomize numers\n",
    "\n",
    "def ran_num():\n",
    "    \n",
    "    random.shuffle(nums)\n",
    "    \n",
    "    return(nums)[0]"
   ]
  },
  {
   "cell_type": "code",
   "execution_count": 7,
   "id": "9302e692",
   "metadata": {},
   "outputs": [
    {
     "data": {
      "text/plain": [
       "'6'"
      ]
     },
     "execution_count": 7,
     "metadata": {},
     "output_type": "execute_result"
    }
   ],
   "source": [
    "ran_num()"
   ]
  },
  {
   "cell_type": "code",
   "execution_count": 8,
   "id": "8fd11811",
   "metadata": {},
   "outputs": [],
   "source": [
    "#check\n",
    "\n",
    "def num_check(rnum):\n",
    "    \n",
    "    if user_guess() < rnum:\n",
    "        print(\"higher\")\n",
    "        return int(input(\"Choose a number from 1 - 9: \"))\n",
    "    elif user_guess() > rnum:\n",
    "        print(\"lower\")\n",
    "        return int(input(\"Choose a number from 1 - 9: \"))\n",
    "    else:\n",
    "        print(\"correct!\")"
   ]
  },
  {
   "cell_type": "code",
   "execution_count": 9,
   "id": "6e1470a9",
   "metadata": {},
   "outputs": [
    {
     "name": "stdout",
     "output_type": "stream",
     "text": [
      "Choose a number from 1 - 9: 1\n",
      "Choose a number from 1 - 9: 2\n"
     ]
    },
    {
     "ename": "TypeError",
     "evalue": "'<' not supported between instances of 'NoneType' and 'str'",
     "output_type": "error",
     "traceback": [
      "\u001b[0;31m---------------------------------------------------------------------------\u001b[0m",
      "\u001b[0;31mTypeError\u001b[0m                                 Traceback (most recent call last)",
      "\u001b[0;32m/tmp/ipykernel_5296/3546273645.py\u001b[0m in \u001b[0;36m<module>\u001b[0;34m\u001b[0m\n\u001b[1;32m     11\u001b[0m     \u001b[0mguess\u001b[0m \u001b[0;34m=\u001b[0m \u001b[0muser_guess\u001b[0m\u001b[0;34m(\u001b[0m\u001b[0;34m)\u001b[0m\u001b[0;34m\u001b[0m\u001b[0;34m\u001b[0m\u001b[0m\n\u001b[1;32m     12\u001b[0m \u001b[0;34m\u001b[0m\u001b[0m\n\u001b[0;32m---> 13\u001b[0;31m     \u001b[0mcheck\u001b[0m \u001b[0;34m=\u001b[0m \u001b[0mnum_check\u001b[0m\u001b[0;34m(\u001b[0m\u001b[0mrnum\u001b[0m\u001b[0;34m)\u001b[0m\u001b[0;34m\u001b[0m\u001b[0;34m\u001b[0m\u001b[0m\n\u001b[0m",
      "\u001b[0;32m/tmp/ipykernel_5296/1074232408.py\u001b[0m in \u001b[0;36mnum_check\u001b[0;34m(rnum)\u001b[0m\n\u001b[1;32m      3\u001b[0m \u001b[0;32mdef\u001b[0m \u001b[0mnum_check\u001b[0m\u001b[0;34m(\u001b[0m\u001b[0mrnum\u001b[0m\u001b[0;34m)\u001b[0m\u001b[0;34m:\u001b[0m\u001b[0;34m\u001b[0m\u001b[0;34m\u001b[0m\u001b[0m\n\u001b[1;32m      4\u001b[0m \u001b[0;34m\u001b[0m\u001b[0m\n\u001b[0;32m----> 5\u001b[0;31m     \u001b[0;32mif\u001b[0m \u001b[0muser_guess\u001b[0m\u001b[0;34m(\u001b[0m\u001b[0;34m)\u001b[0m \u001b[0;34m<\u001b[0m \u001b[0mrnum\u001b[0m\u001b[0;34m:\u001b[0m\u001b[0;34m\u001b[0m\u001b[0;34m\u001b[0m\u001b[0m\n\u001b[0m\u001b[1;32m      6\u001b[0m         \u001b[0mprint\u001b[0m\u001b[0;34m(\u001b[0m\u001b[0;34m\"higher\"\u001b[0m\u001b[0;34m)\u001b[0m\u001b[0;34m\u001b[0m\u001b[0;34m\u001b[0m\u001b[0m\n\u001b[1;32m      7\u001b[0m         \u001b[0;32mreturn\u001b[0m \u001b[0mint\u001b[0m\u001b[0;34m(\u001b[0m\u001b[0minput\u001b[0m\u001b[0;34m(\u001b[0m\u001b[0;34m\"Choose a number from 1 - 9: \"\u001b[0m\u001b[0;34m)\u001b[0m\u001b[0;34m)\u001b[0m\u001b[0;34m\u001b[0m\u001b[0;34m\u001b[0m\u001b[0m\n",
      "\u001b[0;31mTypeError\u001b[0m: '<' not supported between instances of 'NoneType' and 'str'"
     ]
    }
   ],
   "source": [
    "import random\n",
    "import string\n",
    "\n",
    "nums = list(string.digits)\n",
    "game_on = True\n",
    "\n",
    "while game_on == True:\n",
    "    \n",
    "    rnum = ran_num()\n",
    "    \n",
    "    guess = user_guess()\n",
    "    \n",
    "    check = num_check(rnum)\n"
   ]
  },
  {
   "cell_type": "code",
   "execution_count": null,
   "id": "f84cf08d",
   "metadata": {},
   "outputs": [],
   "source": []
  },
  {
   "cell_type": "code",
   "execution_count": null,
   "id": "80ec3ef5",
   "metadata": {},
   "outputs": [],
   "source": []
  },
  {
   "cell_type": "code",
   "execution_count": null,
   "id": "b6eb2e6b",
   "metadata": {},
   "outputs": [],
   "source": []
  },
  {
   "cell_type": "code",
   "execution_count": null,
   "id": "aacaa145",
   "metadata": {},
   "outputs": [],
   "source": []
  },
  {
   "cell_type": "code",
   "execution_count": null,
   "id": "cc55f6cc",
   "metadata": {},
   "outputs": [],
   "source": []
  },
  {
   "cell_type": "code",
   "execution_count": 11,
   "id": "e3dd041b",
   "metadata": {},
   "outputs": [
    {
     "name": "stdout",
     "output_type": "stream",
     "text": [
      "hi\n"
     ]
    }
   ],
   "source": [
    "print(\"hi\")"
   ]
  },
  {
   "cell_type": "code",
   "execution_count": 20,
   "id": "a1e888ca",
   "metadata": {},
   "outputs": [
    {
     "ename": "TypeError",
     "evalue": "int() argument must be a string, a bytes-like object or a number, not 'list'",
     "output_type": "error",
     "traceback": [
      "\u001b[0;31m---------------------------------------------------------------------------\u001b[0m",
      "\u001b[0;31mTypeError\u001b[0m                                 Traceback (most recent call last)",
      "\u001b[0;32m/tmp/ipykernel_5296/1126356453.py\u001b[0m in \u001b[0;36m<module>\u001b[0;34m\u001b[0m\n\u001b[1;32m      4\u001b[0m \u001b[0;34m\u001b[0m\u001b[0m\n\u001b[1;32m      5\u001b[0m \u001b[0;31m#number list\u001b[0m\u001b[0;34m\u001b[0m\u001b[0;34m\u001b[0m\u001b[0m\n\u001b[0;32m----> 6\u001b[0;31m \u001b[0mnums\u001b[0m \u001b[0;34m=\u001b[0m \u001b[0mint\u001b[0m\u001b[0;34m(\u001b[0m\u001b[0mlist\u001b[0m\u001b[0;34m(\u001b[0m\u001b[0mstring\u001b[0m\u001b[0;34m.\u001b[0m\u001b[0mdigits\u001b[0m\u001b[0;34m)\u001b[0m\u001b[0;34m)\u001b[0m\u001b[0;34m\u001b[0m\u001b[0;34m\u001b[0m\u001b[0m\n\u001b[0m\u001b[1;32m      7\u001b[0m \u001b[0;34m\u001b[0m\u001b[0m\n\u001b[1;32m      8\u001b[0m \u001b[0;31m#shuffle the list, return the first number\u001b[0m\u001b[0;34m\u001b[0m\u001b[0;34m\u001b[0m\u001b[0m\n",
      "\u001b[0;31mTypeError\u001b[0m: int() argument must be a string, a bytes-like object or a number, not 'list'"
     ]
    }
   ],
   "source": [
    "#import\n",
    "import random\n",
    "import string\n",
    "\n",
    "#number list\n",
    "nums = int(list(string.digits))\n",
    "\n",
    "#shuffle the list, return the first number\n",
    "def ran_num():\n",
    "    \n",
    "    random.shuffle(nums)\n",
    "    \n",
    "    return(nums)[0]\n",
    "\n",
    "guess = int(input(\"Guess a number from 1 - 9: \"))\n",
    "\n",
    "while nums != \"guess\":\n",
    "    if guess < nums:\n",
    "        print(\"Guess is too low\")\n",
    "        guess = int(input(\"\\n Guess a number from 1 - 9: \"))\n",
    "    elif guess > nums:\n",
    "        print(\"Guess is too high\")\n",
    "        guess = int(input(\"\\n Guess a number from 1 - 9: \"))\n",
    "    else:\n",
    "        print(\"Correct!\")\n",
    "        break"
   ]
  },
  {
   "cell_type": "code",
   "execution_count": null,
   "id": "1852470a",
   "metadata": {},
   "outputs": [],
   "source": []
  },
  {
   "cell_type": "code",
   "execution_count": null,
   "id": "ef66157d",
   "metadata": {},
   "outputs": [],
   "source": []
  },
  {
   "cell_type": "code",
   "execution_count": null,
   "id": "5b0c3b71",
   "metadata": {},
   "outputs": [],
   "source": []
  },
  {
   "cell_type": "code",
   "execution_count": null,
   "id": "58700d9a",
   "metadata": {},
   "outputs": [],
   "source": []
  },
  {
   "cell_type": "code",
   "execution_count": null,
   "id": "aaf35cbb",
   "metadata": {},
   "outputs": [],
   "source": []
  },
  {
   "cell_type": "code",
   "execution_count": null,
   "id": "bd496a57",
   "metadata": {},
   "outputs": [],
   "source": []
  },
  {
   "cell_type": "code",
   "execution_count": null,
   "id": "e5ea2264",
   "metadata": {},
   "outputs": [],
   "source": []
  },
  {
   "cell_type": "code",
   "execution_count": null,
   "id": "8ff45900",
   "metadata": {},
   "outputs": [],
   "source": []
  },
  {
   "cell_type": "code",
   "execution_count": null,
   "id": "40247e67",
   "metadata": {},
   "outputs": [],
   "source": []
  },
  {
   "cell_type": "code",
   "execution_count": null,
   "id": "b6ef1206",
   "metadata": {},
   "outputs": [],
   "source": []
  },
  {
   "cell_type": "code",
   "execution_count": null,
   "id": "7404d871",
   "metadata": {},
   "outputs": [],
   "source": []
  },
  {
   "cell_type": "code",
   "execution_count": null,
   "id": "344f6515",
   "metadata": {},
   "outputs": [],
   "source": []
  },
  {
   "cell_type": "code",
   "execution_count": null,
   "id": "72d9c198",
   "metadata": {},
   "outputs": [],
   "source": []
  },
  {
   "cell_type": "code",
   "execution_count": null,
   "id": "b5579a90",
   "metadata": {},
   "outputs": [],
   "source": []
  },
  {
   "cell_type": "code",
   "execution_count": null,
   "id": "b165462f",
   "metadata": {},
   "outputs": [],
   "source": []
  },
  {
   "cell_type": "code",
   "execution_count": null,
   "id": "0ddd73b9",
   "metadata": {},
   "outputs": [],
   "source": []
  },
  {
   "cell_type": "code",
   "execution_count": null,
   "id": "57d0a710",
   "metadata": {},
   "outputs": [],
   "source": []
  },
  {
   "cell_type": "code",
   "execution_count": null,
   "id": "48fe5d5e",
   "metadata": {},
   "outputs": [],
   "source": []
  },
  {
   "cell_type": "code",
   "execution_count": 22,
   "id": "f85863ef",
   "metadata": {},
   "outputs": [
    {
     "name": "stdout",
     "output_type": "stream",
     "text": [
      "Guess a number from 1 - 9: 2\n",
      "Guess is too low\n",
      "\n",
      " Guess a number from 1 - 9: 5\n",
      "Guess is too low\n",
      "\n",
      " Guess a number from 1 - 9: 6\n",
      "Guess is too low\n",
      "\n",
      " Guess a number from 1 - 9: 9\n",
      "Guess is too high\n",
      "\n",
      " Guess a number from 1 - 9: 8\n",
      "Guess is too high\n",
      "\n",
      " Guess a number from 1 - 9: 7\n",
      "Correct!\n"
     ]
    }
   ],
   "source": [
    "#import\n",
    "import random\n",
    "\n",
    "#random number unsing randint\n",
    "nums = random.randint(1,9)\n",
    "\n",
    "guess = int(input(\"Guess a number from 1 - 9: \"))\n",
    "\n",
    "#while loop for game\n",
    "while nums != \"guess\":\n",
    "    if guess < nums:\n",
    "        print(\"Guess is too low\")\n",
    "        guess = int(input(\"\\n Guess a number from 1 - 9: \"))\n",
    "    elif guess > nums:\n",
    "        print(\"Guess is too high\")\n",
    "        guess = int(input(\"\\n Guess a number from 1 - 9: \"))\n",
    "    else:\n",
    "        print(\"Correct!\")\n",
    "        break"
   ]
  },
  {
   "cell_type": "code",
   "execution_count": null,
   "id": "4abf0bda",
   "metadata": {},
   "outputs": [],
   "source": []
  }
 ],
 "metadata": {
  "kernelspec": {
   "display_name": "Python 3 (ipykernel)",
   "language": "python",
   "name": "python3"
  },
  "language_info": {
   "codemirror_mode": {
    "name": "ipython",
    "version": 3
   },
   "file_extension": ".py",
   "mimetype": "text/x-python",
   "name": "python",
   "nbconvert_exporter": "python",
   "pygments_lexer": "ipython3",
   "version": "3.9.7"
  }
 },
 "nbformat": 4,
 "nbformat_minor": 5
}

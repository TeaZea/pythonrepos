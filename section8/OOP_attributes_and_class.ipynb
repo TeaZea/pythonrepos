{
 "cells": [
  {
   "cell_type": "code",
   "execution_count": 1,
   "id": "02e0b280",
   "metadata": {},
   "outputs": [],
   "source": [
    "mylist = [1,2,3]"
   ]
  },
  {
   "cell_type": "code",
   "execution_count": 2,
   "id": "60b9adb0",
   "metadata": {},
   "outputs": [],
   "source": [
    "myset = set()"
   ]
  },
  {
   "cell_type": "markdown",
   "id": "861796f0",
   "metadata": {},
   "source": [
    "above are examples of built- in objects. OOP creates user defined objects."
   ]
  },
  {
   "cell_type": "code",
   "execution_count": 4,
   "id": "9ba23517",
   "metadata": {},
   "outputs": [],
   "source": [
    "#class is the blueprint defined the nature of future object. Inside is\n",
    "#an instance of the object\n",
    "\n",
    "class Sample(): #created a class that doesn't do anythung\n",
    "    pass"
   ]
  },
  {
   "cell_type": "code",
   "execution_count": 5,
   "id": "6b9c5162",
   "metadata": {},
   "outputs": [],
   "source": [
    "my_sample = Sample() #created an instance of the class"
   ]
  },
  {
   "cell_type": "code",
   "execution_count": 6,
   "id": "d5a83d52",
   "metadata": {},
   "outputs": [
    {
     "data": {
      "text/plain": [
       "__main__.Sample"
      ]
     },
     "execution_count": 6,
     "metadata": {},
     "output_type": "execute_result"
    }
   ],
   "source": [
    "type(my_sample)"
   ]
  },
  {
   "cell_type": "code",
   "execution_count": 17,
   "id": "d3246bb8",
   "metadata": {},
   "outputs": [],
   "source": [
    "class Dog():\n",
    "    #functions inside classes are called methods\n",
    "    def __init__(self,mybreed,name,spots):#pass attributes that are attributed to dog\n",
    "        \n",
    "        #ATTRIBUTES:\n",
    "        #take in the argument\n",
    "        #assign it using self.attribute_name\n",
    "        \n",
    "        #expect strings\n",
    "        self.breed = mybreed\n",
    "        self.name = name\n",
    "        \n",
    "        #expect boolean True/False\n",
    "        self.spots = spots"
   ]
  },
  {
   "cell_type": "code",
   "execution_count": 18,
   "id": "39540e96",
   "metadata": {},
   "outputs": [],
   "source": [
    "my_dog = Dog(mybreed=\"Lab\",name=\"Sammy\",spots=False)"
   ]
  },
  {
   "cell_type": "code",
   "execution_count": 19,
   "id": "8596f24b",
   "metadata": {},
   "outputs": [
    {
     "data": {
      "text/plain": [
       "__main__.Dog"
      ]
     },
     "execution_count": 19,
     "metadata": {},
     "output_type": "execute_result"
    }
   ],
   "source": [
    "type(my_dog)"
   ]
  },
  {
   "cell_type": "code",
   "execution_count": 20,
   "id": "1bcfffb2",
   "metadata": {},
   "outputs": [
    {
     "data": {
      "text/plain": [
       "'Lab'"
      ]
     },
     "execution_count": 20,
     "metadata": {},
     "output_type": "execute_result"
    }
   ],
   "source": [
    "my_dog.breed"
   ]
  },
  {
   "cell_type": "code",
   "execution_count": 21,
   "id": "f8836e87",
   "metadata": {},
   "outputs": [
    {
     "data": {
      "text/plain": [
       "'Sammy'"
      ]
     },
     "execution_count": 21,
     "metadata": {},
     "output_type": "execute_result"
    }
   ],
   "source": [
    "my_dog.name"
   ]
  },
  {
   "cell_type": "code",
   "execution_count": 22,
   "id": "f7be8cdf",
   "metadata": {},
   "outputs": [
    {
     "data": {
      "text/plain": [
       "False"
      ]
     },
     "execution_count": 22,
     "metadata": {},
     "output_type": "execute_result"
    }
   ],
   "source": [
    "my_dog.spots"
   ]
  },
  {
   "cell_type": "code",
   "execution_count": null,
   "id": "ddd5223b",
   "metadata": {},
   "outputs": [],
   "source": []
  }
 ],
 "metadata": {
  "kernelspec": {
   "display_name": "Python 3 (ipykernel)",
   "language": "python",
   "name": "python3"
  },
  "language_info": {
   "codemirror_mode": {
    "name": "ipython",
    "version": 3
   },
   "file_extension": ".py",
   "mimetype": "text/x-python",
   "name": "python",
   "nbconvert_exporter": "python",
   "pygments_lexer": "ipython3",
   "version": "3.9.7"
  }
 },
 "nbformat": 4,
 "nbformat_minor": 5
}

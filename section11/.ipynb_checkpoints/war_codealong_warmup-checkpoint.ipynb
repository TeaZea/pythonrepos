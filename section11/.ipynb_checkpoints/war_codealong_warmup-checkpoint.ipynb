{
 "cells": [
  {
   "cell_type": "code",
   "execution_count": 15,
   "id": "cd8c29d6",
   "metadata": {},
   "outputs": [],
   "source": [
    "#create card class\n",
    "#3 main properties: suit, rank, value\n",
    "\n",
    "#global variables\n",
    "import random\n",
    "suits = ('Hearts', 'Diamonds', 'Spades', 'Clubs')\n",
    "ranks = ('Two', 'Three', 'Four', 'Five', 'Six', 'Seven', 'Eight', 'Nine', 'Ten', 'Jack', 'Queen', 'King', 'Ace')\n",
    "values = {'Two':2, 'Three':3, 'Four':4, 'Five':5, 'Six':6, 'Seven':7, 'Eight':8, \n",
    "            'Nine':9, 'Ten':10, 'Jack':11, 'Queen':12, 'King':13, 'Ace':14}"
   ]
  },
  {
   "cell_type": "code",
   "execution_count": 16,
   "id": "d0513bf8",
   "metadata": {},
   "outputs": [],
   "source": [
    "class Card:\n",
    "    def __init__(self,suit,rank):\n",
    "        \n",
    "        self.suit = suit\n",
    "        self.rank = rank\n",
    "        self.value = values[rank]\n",
    "        \n",
    "    def __str__(self):\n",
    "        return self.rank + \" of \" + self.suit"
   ]
  },
  {
   "cell_type": "code",
   "execution_count": 17,
   "id": "c3b19a6b",
   "metadata": {},
   "outputs": [],
   "source": [
    "two_hearts = Card(\"Hearts\",\"Two\")"
   ]
  },
  {
   "cell_type": "code",
   "execution_count": 18,
   "id": "e06fe7da",
   "metadata": {},
   "outputs": [
    {
     "data": {
      "text/plain": [
       "<__main__.Card at 0x7f731c2866d0>"
      ]
     },
     "execution_count": 18,
     "metadata": {},
     "output_type": "execute_result"
    }
   ],
   "source": [
    "two_hearts"
   ]
  },
  {
   "cell_type": "code",
   "execution_count": 19,
   "id": "b2d66cff",
   "metadata": {},
   "outputs": [
    {
     "name": "stdout",
     "output_type": "stream",
     "text": [
      "Two of Hearts\n"
     ]
    }
   ],
   "source": [
    "print(two_hearts)"
   ]
  },
  {
   "cell_type": "code",
   "execution_count": 20,
   "id": "67c1bdcc",
   "metadata": {},
   "outputs": [
    {
     "data": {
      "text/plain": [
       "'Two'"
      ]
     },
     "execution_count": 20,
     "metadata": {},
     "output_type": "execute_result"
    }
   ],
   "source": [
    "two_hearts.rank"
   ]
  },
  {
   "cell_type": "code",
   "execution_count": 21,
   "id": "e74cf8d6",
   "metadata": {},
   "outputs": [
    {
     "data": {
      "text/plain": [
       "'Hearts'"
      ]
     },
     "execution_count": 21,
     "metadata": {},
     "output_type": "execute_result"
    }
   ],
   "source": [
    "two_hearts.suit"
   ]
  },
  {
   "cell_type": "code",
   "execution_count": 22,
   "id": "81e15a1b",
   "metadata": {},
   "outputs": [
    {
     "data": {
      "text/plain": [
       "2"
      ]
     },
     "execution_count": 22,
     "metadata": {},
     "output_type": "execute_result"
    }
   ],
   "source": [
    "values[two_hearts.rank]"
   ]
  },
  {
   "cell_type": "code",
   "execution_count": 23,
   "id": "a265f678",
   "metadata": {},
   "outputs": [],
   "source": [
    "three_of_clubs = Card(\"Clubs\",\"Three\")"
   ]
  },
  {
   "cell_type": "code",
   "execution_count": 24,
   "id": "d4b524bc",
   "metadata": {},
   "outputs": [
    {
     "data": {
      "text/plain": [
       "'Clubs'"
      ]
     },
     "execution_count": 24,
     "metadata": {},
     "output_type": "execute_result"
    }
   ],
   "source": [
    "three_of_clubs.suit"
   ]
  },
  {
   "cell_type": "code",
   "execution_count": 25,
   "id": "78a517bd",
   "metadata": {},
   "outputs": [
    {
     "data": {
      "text/plain": [
       "'Three'"
      ]
     },
     "execution_count": 25,
     "metadata": {},
     "output_type": "execute_result"
    }
   ],
   "source": [
    "three_of_clubs.rank"
   ]
  },
  {
   "cell_type": "code",
   "execution_count": 26,
   "id": "e1151a5d",
   "metadata": {},
   "outputs": [
    {
     "data": {
      "text/plain": [
       "3"
      ]
     },
     "execution_count": 26,
     "metadata": {},
     "output_type": "execute_result"
    }
   ],
   "source": [
    "three_of_clubs.value"
   ]
  },
  {
   "cell_type": "code",
   "execution_count": 27,
   "id": "26e2e741",
   "metadata": {},
   "outputs": [
    {
     "data": {
      "text/plain": [
       "True"
      ]
     },
     "execution_count": 27,
     "metadata": {},
     "output_type": "execute_result"
    }
   ],
   "source": [
    "two_hearts.value < three_of_clubs.value"
   ]
  },
  {
   "cell_type": "code",
   "execution_count": 28,
   "id": "362a5e80",
   "metadata": {},
   "outputs": [],
   "source": [
    "#Deck Class\n",
    "#1-need to instantiate a new deck of 52 card objects and hold them as a list\n",
    "#2-shuffle a deck through a method call\n",
    "#3-Deak cards from deck object\n",
    "\n",
    "#deck class HOLDS a list of card objects"
   ]
  },
  {
   "cell_type": "code",
   "execution_count": 29,
   "id": "756eeb62",
   "metadata": {},
   "outputs": [],
   "source": [
    "class Deck():\n",
    "    \n",
    "    def __init__(self):\n",
    "        \n",
    "        self.all_cards = []\n",
    "        \n",
    "        for suit in suits:\n",
    "            for rank in ranks:\n",
    "                #create the card oject\n",
    "                created_card = Card(suit,rank)\n",
    "                self.all_cards.append(created_card)\n",
    "    \n",
    "    #new method for shuffleing the deck\n",
    "    def shuffle(self):\n",
    "        random.shuffle(self.all_cards)\n",
    "        \n",
    "    #'dealing' one card\n",
    "    def deal_one(self):\n",
    "        return self.all_cards.pop()"
   ]
  },
  {
   "cell_type": "code",
   "execution_count": 30,
   "id": "8154a86e",
   "metadata": {},
   "outputs": [],
   "source": [
    "new_deck = Deck()"
   ]
  },
  {
   "cell_type": "code",
   "execution_count": 31,
   "id": "ae599c6b",
   "metadata": {},
   "outputs": [],
   "source": [
    "new_deck.shuffle()"
   ]
  },
  {
   "cell_type": "code",
   "execution_count": 32,
   "id": "5fd02ea9",
   "metadata": {},
   "outputs": [],
   "source": [
    "mycard = new_deck.deal_one()"
   ]
  },
  {
   "cell_type": "code",
   "execution_count": 33,
   "id": "946b8a12",
   "metadata": {},
   "outputs": [
    {
     "data": {
      "text/plain": [
       "<__main__.Card at 0x7f731c272640>"
      ]
     },
     "execution_count": 33,
     "metadata": {},
     "output_type": "execute_result"
    }
   ],
   "source": [
    "mycard"
   ]
  },
  {
   "cell_type": "code",
   "execution_count": 34,
   "id": "3a2d53c1",
   "metadata": {},
   "outputs": [
    {
     "name": "stdout",
     "output_type": "stream",
     "text": [
      "Five of Spades\n"
     ]
    }
   ],
   "source": [
    "print(mycard)"
   ]
  },
  {
   "cell_type": "code",
   "execution_count": 35,
   "id": "3a8ddcf3",
   "metadata": {},
   "outputs": [
    {
     "data": {
      "text/plain": [
       "51"
      ]
     },
     "execution_count": 35,
     "metadata": {},
     "output_type": "execute_result"
    }
   ],
   "source": [
    "len(new_deck.all_cards)"
   ]
  },
  {
   "cell_type": "code",
   "execution_count": 36,
   "id": "a37d9b96",
   "metadata": {},
   "outputs": [],
   "source": [
    "#allcards now has 51 because we popped a card off"
   ]
  },
  {
   "cell_type": "code",
   "execution_count": 37,
   "id": "0575191a",
   "metadata": {},
   "outputs": [],
   "source": [
    "bottom_card = new_deck.all_cards[-1]"
   ]
  },
  {
   "cell_type": "code",
   "execution_count": 38,
   "id": "df9cba06",
   "metadata": {},
   "outputs": [
    {
     "name": "stdout",
     "output_type": "stream",
     "text": [
      "Five of Hearts\n"
     ]
    }
   ],
   "source": [
    "print(bottom_card)"
   ]
  },
  {
   "cell_type": "code",
   "execution_count": 39,
   "id": "0a263602",
   "metadata": {},
   "outputs": [],
   "source": [
    "new_deck.shuffle()"
   ]
  },
  {
   "cell_type": "code",
   "execution_count": 40,
   "id": "7a4fe307",
   "metadata": {},
   "outputs": [
    {
     "name": "stdout",
     "output_type": "stream",
     "text": [
      "Eight of Clubs\n"
     ]
    }
   ],
   "source": [
    "print(new_deck.all_cards[0])"
   ]
  },
  {
   "cell_type": "code",
   "execution_count": 41,
   "id": "be8c8786",
   "metadata": {},
   "outputs": [],
   "source": [
    "#Player Class\n",
    "\n",
    "#holding cards in a list\n",
    "#should be able to add or remove cards from their list of card object\n",
    "#add to the 'bottom' remove from the 'top' (.append(), .exdend(new) and pop())\n",
    "#.extend() merges lists, .appends() will nest lists and is only for singles\n",
    "#be able to add a single or multiple cards to their list\n",
    "\n",
    "class Player():\n",
    "    \n",
    "    def __init__(self,name):\n",
    "        \n",
    "        self.name = name\n",
    "        self.all_cards = []#'current hand'\n",
    "        \n",
    "    def remove_one(self):\n",
    "        return self.all_cards.pop(0)\n",
    "    \n",
    "    def add_cards(self,new_cards):\n",
    "        #multiple card objects\n",
    "        if type(new_cards) == type([]):\n",
    "            self.all_cards.extend(new_cards)\n",
    "        #single cards\n",
    "        else:\n",
    "            self.all_cards.append(new_cards)\n",
    "    \n",
    "    def __str__(self):\n",
    "        return f'Player {self.name} has {len(self.all_cards)} cards.'\n"
   ]
  },
  {
   "cell_type": "code",
   "execution_count": 42,
   "id": "480ef5c5",
   "metadata": {},
   "outputs": [],
   "source": [
    "new_player = Player(\"Jose\")"
   ]
  },
  {
   "cell_type": "code",
   "execution_count": 43,
   "id": "317c3a71",
   "metadata": {},
   "outputs": [
    {
     "name": "stdout",
     "output_type": "stream",
     "text": [
      "Player Jose has 0 cards.\n"
     ]
    }
   ],
   "source": [
    "print(new_player)"
   ]
  },
  {
   "cell_type": "code",
   "execution_count": 45,
   "id": "79dea260",
   "metadata": {},
   "outputs": [
    {
     "name": "stdout",
     "output_type": "stream",
     "text": [
      "Five of Spades\n"
     ]
    }
   ],
   "source": [
    "print(mycard)"
   ]
  },
  {
   "cell_type": "code",
   "execution_count": 47,
   "id": "0c175700",
   "metadata": {},
   "outputs": [],
   "source": [
    "new_player.add_cards(mycard)"
   ]
  },
  {
   "cell_type": "code",
   "execution_count": 48,
   "id": "6e00f915",
   "metadata": {},
   "outputs": [
    {
     "name": "stdout",
     "output_type": "stream",
     "text": [
      "Player Jose has 1 cards.\n"
     ]
    }
   ],
   "source": [
    "print(new_player)"
   ]
  },
  {
   "cell_type": "code",
   "execution_count": 49,
   "id": "0716d2ab",
   "metadata": {},
   "outputs": [
    {
     "name": "stdout",
     "output_type": "stream",
     "text": [
      "Five of Spades\n"
     ]
    }
   ],
   "source": [
    "print(new_player.all_cards[0])"
   ]
  },
  {
   "cell_type": "code",
   "execution_count": 50,
   "id": "ed6d4671",
   "metadata": {},
   "outputs": [],
   "source": [
    "new_player.add_cards([mycard,mycard,mycard])"
   ]
  },
  {
   "cell_type": "code",
   "execution_count": 52,
   "id": "15d886f5",
   "metadata": {},
   "outputs": [
    {
     "name": "stdout",
     "output_type": "stream",
     "text": [
      "Player Jose has 4 cards.\n"
     ]
    }
   ],
   "source": [
    "print(new_player)"
   ]
  },
  {
   "cell_type": "code",
   "execution_count": 53,
   "id": "d1ddcf16",
   "metadata": {},
   "outputs": [
    {
     "data": {
      "text/plain": [
       "<__main__.Card at 0x7f731c272640>"
      ]
     },
     "execution_count": 53,
     "metadata": {},
     "output_type": "execute_result"
    }
   ],
   "source": [
    "new_player.remove_one()"
   ]
  },
  {
   "cell_type": "code",
   "execution_count": 54,
   "id": "c9f14494",
   "metadata": {},
   "outputs": [
    {
     "name": "stdout",
     "output_type": "stream",
     "text": [
      "Player Jose has 3 cards.\n"
     ]
    }
   ],
   "source": [
    "print(new_player)"
   ]
  },
  {
   "cell_type": "code",
   "execution_count": 56,
   "id": "961e5916",
   "metadata": {},
   "outputs": [],
   "source": [
    "#GAME LOGIC\n",
    "\n",
    "#usually think about logic along with the classes, simultaniously\n",
    "#deck class, needs to be shuffled and dealt evenly between two player classes\n",
    "#win check after every round (check for 0 cards. Deck has cards == game_on)\n",
    "\n",
    "\n",
    "#while game_on:\n",
    "\n",
    "#each player pops a card.\n",
    "#comparisson between the two cards. If no war, a player .extends their list of cards tot he bottom\n",
    "\n",
    "\n",
    "#if war happens, while_at_war loop goes here\n",
    "#draw three extra cards and do comparrison\n",
    "#when a player wins, .extend the new list to the old one to the bottom of the deck\n",
    "\n",
    "\n",
    "#if player deck reaches 0 == game_off\n",
    "\n",
    "\n",
    "\n",
    "\n",
    "#GAME SETUP\n",
    "\n",
    "player_one = Player(\"One\")\n",
    "player_two = Player(\"Two\")\n",
    "\n",
    "new_deck = Deck()\n",
    "new_deck.shuffle()\n",
    "\n",
    "#split deck between palyers\n",
    "#half of 52 is 26, adding two cards for each itteration in this loop\n",
    "for x in range(26):\n",
    "    player_one.add_cards(new_deck.deal_one())\n",
    "    player_two.add_cards(new_deck.deal_one())"
   ]
  },
  {
   "cell_type": "code",
   "execution_count": 57,
   "id": "d38ae70a",
   "metadata": {},
   "outputs": [
    {
     "data": {
      "text/plain": [
       "26"
      ]
     },
     "execution_count": 57,
     "metadata": {},
     "output_type": "execute_result"
    }
   ],
   "source": [
    "#test to see if above cell worked\n",
    "len(player_one.all_cards)"
   ]
  },
  {
   "cell_type": "code",
   "execution_count": null,
   "id": "2933ad69",
   "metadata": {},
   "outputs": [],
   "source": [
    "#statement saying the game is indeed.. on\n",
    "game_on = True"
   ]
  },
  {
   "cell_type": "code",
   "execution_count": null,
   "id": "e2f98007",
   "metadata": {},
   "outputs": [],
   "source": [
    "#WHILE LOOP GAME_ON MAIN LOGIC\n",
    "round_num = 0\n",
    "\n",
    "while game_on:\n",
    "    round_num += 1\n",
    "    print(f\"Round {round_num}\")\n",
    "    \n",
    "    #check if player is out of cards\n",
    "    if len(player_one.all_cards) == 0:\n",
    "        print(\"Player One, out of cards! Player Two wins!\")\n",
    "        game_on = False\n",
    "        break\n",
    "\n",
    "    if len(player_two.all_cards) == 0:\n",
    "        print(\"Player Two, out of cards! Player One wins!\")\n",
    "        game_on = False\n",
    "        break\n",
    "\n",
    "    #START A NEW ROUND\n",
    "    \n",
    "    player_one_cards = [] #this is going to be cards IN play\n",
    "    player_one_cards.append(player_one.remove_one())\n",
    "    \n",
    "    player_two_cards = []\n",
    "    player_two_cards.append(player_two.remove_one())\n",
    "    \n",
    "    \n",
    "#if: one > two - .extend() list of one's cards (because adding more than one thing)\n",
    "#at_war = False\n",
    "\n",
    "#elif: one < two - .extend() list of one's cards (because adding more than one thing)\n",
    "#at_war = False\n",
    "\n",
    "#if and elif != True, then assume at_war = True\n",
    "\n",
    "#else: check if players have enough cards, draw addition cards, start the loop over again\n",
    "\n",
    "\n",
    "#COMPARATIVE OPERATOR AND WHILE AT WAR LOOP GAME LOGIC\n",
    "\n",
    "    at_war = True\n",
    "    \n",
    "    while at_war:\n",
    "        if play_one_cards[-1].value > player_two_cards[-1].value:\n",
    "            "
   ]
  }
 ],
 "metadata": {
  "kernelspec": {
   "display_name": "Python 3 (ipykernel)",
   "language": "python",
   "name": "python3"
  },
  "language_info": {
   "codemirror_mode": {
    "name": "ipython",
    "version": 3
   },
   "file_extension": ".py",
   "mimetype": "text/x-python",
   "name": "python",
   "nbconvert_exporter": "python",
   "pygments_lexer": "ipython3",
   "version": "3.9.7"
  }
 },
 "nbformat": 4,
 "nbformat_minor": 5
}

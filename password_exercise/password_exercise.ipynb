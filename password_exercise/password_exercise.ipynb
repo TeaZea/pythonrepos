{
 "cells": [
  {
   "cell_type": "code",
   "execution_count": null,
   "id": "0d1e6825",
   "metadata": {},
   "outputs": [],
   "source": [
    "#ask for a password 3 times. On the fourth time, lockout user.\n",
    "\n",
    "#create a password varriable\n",
    "\n",
    "#get input from user asking for password\n",
    "\n",
    "#check if password is correct\n",
    "#have a message for successful login\n",
    "\n",
    "#check if password attempts is <= 3. If True, continue, if False, break\n",
    "#have a message to try again\n",
    "\n"
   ]
  },
  {
   "cell_type": "code",
   "execution_count": null,
   "id": "b905dbb8",
   "metadata": {},
   "outputs": [],
   "source": [
    "#password\n",
    "password = \"apple\""
   ]
  },
  {
   "cell_type": "code",
   "execution_count": null,
   "id": "d68c16ff",
   "metadata": {},
   "outputs": [],
   "source": [
    "#user input for password\n",
    "\n",
    "def login():\n",
    "    user_login = input(\"what's the password: \")\n",
    "        \n",
    "    return user_login"
   ]
  },
  {
   "cell_type": "code",
   "execution_count": null,
   "id": "2fbd5653",
   "metadata": {},
   "outputs": [],
   "source": [
    "login()"
   ]
  },
  {
   "cell_type": "code",
   "execution_count": null,
   "id": "ea6e923b",
   "metadata": {},
   "outputs": [],
   "source": [
    "#check if password is correct\n",
    "\n",
    "def check_password():\n",
    "    \n",
    "    password = \"\"\n",
    "    \n",
    "    while password != \"apple\":\n",
    "        login = input(\"What's the password: \")\n",
    "        if password == \"apple\":\n",
    "            print(\"Correct!\")\n"
   ]
  },
  {
   "cell_type": "code",
   "execution_count": null,
   "id": "4517566d",
   "metadata": {},
   "outputs": [],
   "source": [
    "check_password()"
   ]
  },
  {
   "cell_type": "code",
   "execution_count": null,
   "id": "4a72f6a0",
   "metadata": {},
   "outputs": [],
   "source": [
    "#three tries\n",
    "\n",
    "def three_tries():\n",
    "    flag = 0\n"
   ]
  },
  {
   "cell_type": "code",
   "execution_count": null,
   "id": "17440c71",
   "metadata": {},
   "outputs": [],
   "source": [
    "three_tries()"
   ]
  },
  {
   "cell_type": "code",
   "execution_count": null,
   "id": "f827c548",
   "metadata": {},
   "outputs": [],
   "source": []
  },
  {
   "cell_type": "code",
   "execution_count": null,
   "id": "5510567e",
   "metadata": {},
   "outputs": [],
   "source": []
  },
  {
   "cell_type": "code",
   "execution_count": null,
   "id": "094a11c0",
   "metadata": {},
   "outputs": [],
   "source": []
  },
  {
   "cell_type": "code",
   "execution_count": null,
   "id": "52d5a069",
   "metadata": {},
   "outputs": [],
   "source": []
  },
  {
   "cell_type": "code",
   "execution_count": null,
   "id": "01dd5df1",
   "metadata": {},
   "outputs": [],
   "source": []
  },
  {
   "cell_type": "code",
   "execution_count": null,
   "id": "04253d61",
   "metadata": {},
   "outputs": [],
   "source": []
  },
  {
   "cell_type": "code",
   "execution_count": null,
   "id": "3c182b5c",
   "metadata": {},
   "outputs": [],
   "source": []
  },
  {
   "cell_type": "code",
   "execution_count": null,
   "id": "bfa9c78f",
   "metadata": {},
   "outputs": [],
   "source": []
  },
  {
   "cell_type": "code",
   "execution_count": null,
   "id": "18587a7a",
   "metadata": {},
   "outputs": [],
   "source": []
  },
  {
   "cell_type": "code",
   "execution_count": null,
   "id": "aed70b79",
   "metadata": {},
   "outputs": [],
   "source": []
  },
  {
   "cell_type": "code",
   "execution_count": null,
   "id": "465a91a4",
   "metadata": {},
   "outputs": [],
   "source": []
  },
  {
   "cell_type": "code",
   "execution_count": null,
   "id": "d4482982",
   "metadata": {},
   "outputs": [],
   "source": []
  },
  {
   "cell_type": "code",
   "execution_count": null,
   "id": "4560193b",
   "metadata": {},
   "outputs": [],
   "source": []
  },
  {
   "cell_type": "code",
   "execution_count": null,
   "id": "3dc03f62",
   "metadata": {},
   "outputs": [],
   "source": [
    "#tries = 0\n",
    "#defining factor is the number of tries it takes ebfore lockout occurs\n",
    "tries = 0\n",
    "\n",
    "guess = input(\"Input Password: \")\n",
    "\n",
    "while tries != 3:\n",
    "    if guess != \"apple\":\n",
    "        print(\"Incorrect!\")\n",
    "        guess = input(\"Input Password: \")\n",
    "        tries += 1\n",
    "    else:\n",
    "        print(\"Logged in.\")\n",
    "        break\n",
    "        \n",
    "if tries == 3:\n",
    "    print(\"You are locked out!\")\n",
    "    "
   ]
  },
  {
   "cell_type": "code",
   "execution_count": null,
   "id": "8ca8db46",
   "metadata": {},
   "outputs": [],
   "source": [
    "#tries = 0\n",
    "#defining factor is the number of tries it takes ebfore lockout occurs\n",
    "tries = 0\n",
    "\n",
    "guess = input(\"Input Password: \")\n",
    "\n",
    "while tries != 3:\n",
    "    if guess != \"apple\":\n",
    "        print(\"Incorrect!\")\n",
    "        guess = input(\"Input Password: \")\n",
    "        tries += 1\n",
    "    elif tries == 3:\n",
    "        print(\"You are locked out!\")\n",
    "        break\n",
    "    else:\n",
    "        print(\"Logged in.\")\n",
    "        break\n",
    "    "
   ]
  },
  {
   "cell_type": "code",
   "execution_count": null,
   "id": "c874bdc3",
   "metadata": {},
   "outputs": [],
   "source": [
    "#tries = 0\n",
    "#defining factor is the number of tries it takes ebfore lockout occurs\n",
    "tries = 0\n",
    "\n",
    "guess = input(\"Input Password: \")\n",
    "\n",
    "while tries < 3:\n",
    "    if guess != \"apple\":\n",
    "        print(\"Incorrect!\")\n",
    "        guess = input(\"Input Password: \")\n",
    "        tries += 1\n",
    "        continue\n",
    "    else:\n",
    "        print(\"Logged in.\")\n",
    "        break\n",
    "\n",
    "while tries < 3:\n",
    "    continue\n",
    "else:\n",
    "    print(\"Locked out!\")"
   ]
  },
  {
   "cell_type": "code",
   "execution_count": null,
   "id": "a066c77f",
   "metadata": {},
   "outputs": [],
   "source": [
    "#tries = 0\n",
    "#defining factor is the number of tries it takes ebfore lockout occurs\n",
    "tries = 0\n",
    "\n",
    "guess = input(\"Input Password: \")\n",
    "\n",
    "while tries < 3:\n",
    "    if guess != \"apple\":\n",
    "        print(\"Incorrect!\")\n",
    "        guess = input(\"Input Password: \")\n",
    "        tries += 1\n",
    "        continue\n",
    "    else:\n",
    "        print(\"Logged in.\")\n",
    "        break\n",
    "\n",
    "tries > 3\n",
    "print(\"Locked Out\")"
   ]
  },
  {
   "cell_type": "code",
   "execution_count": 6,
   "id": "d1fee43f",
   "metadata": {},
   "outputs": [
    {
     "name": "stdout",
     "output_type": "stream",
     "text": [
      "Input Password: 1\n",
      "Incorrect!\n",
      "Input Password: 2\n",
      "Incorrect!\n",
      "Input Password: 3\n",
      "Incorrect!\n",
      "Input Password: 4\n"
     ]
    }
   ],
   "source": [
    "#tries = 0\n",
    "#defining factor is the number of tries it takes ebfore lockout occurs\n",
    "tries = 0\n",
    "\n",
    "guess = input(\"Input Password: \")\n",
    "\n",
    "while tries < 3:\n",
    "    if guess != \"apple\":\n",
    "        print(\"Incorrect!\")\n",
    "        guess = input(\"Input Password: \")\n",
    "        tries += 1\n",
    "        continue\n",
    "    elif guess == \"apple\":\n",
    "        print(\"Logged in.\")\n",
    "        break\n",
    "    else:\n",
    "        print(\"Locked out.\")\n",
    "        break\n",
    "    "
   ]
  },
  {
   "cell_type": "code",
   "execution_count": 26,
   "id": "f2b32ab1",
   "metadata": {},
   "outputs": [
    {
     "name": "stdout",
     "output_type": "stream",
     "text": [
      "Input Password: apple\n",
      "Logged in.\n"
     ]
    }
   ],
   "source": [
    "#tries = 0\n",
    "#defining factor is the number of tries it takes ebfore lockout occurs\n",
    "tries = 0\n",
    "\n",
    "guess = input(\"Input Password: \")\n",
    "\n",
    "while tries < 3:\n",
    "    if guess != \"apple\":\n",
    "        print(\"Incorrect!\")\n",
    "        guess = input(\"Input Password: \")\n",
    "        tries += 1\n",
    "        continue\n",
    "    else:\n",
    "        print(\"Logged in.\")\n",
    "        break\n",
    "        \n",
    "    if tries == 3:\n",
    "        print(\"Locked out!\")\n",
    "        break\n",
    "    else:\n",
    "        pass"
   ]
  },
  {
   "cell_type": "markdown",
   "id": "d6b605da",
   "metadata": {},
   "source": []
  }
 ],
 "metadata": {
  "kernelspec": {
   "display_name": "Python 3 (ipykernel)",
   "language": "python",
   "name": "python3"
  },
  "language_info": {
   "codemirror_mode": {
    "name": "ipython",
    "version": 3
   },
   "file_extension": ".py",
   "mimetype": "text/x-python",
   "name": "python",
   "nbconvert_exporter": "python",
   "pygments_lexer": "ipython3",
   "version": "3.9.7"
  }
 },
 "nbformat": 4,
 "nbformat_minor": 5
}

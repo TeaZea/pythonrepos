{
 "cells": [
  {
   "cell_type": "code",
   "execution_count": 1,
   "id": "4f151368",
   "metadata": {},
   "outputs": [],
   "source": [
    "x = 25\n",
    "\n",
    "def printer():\n",
    "    x = 50\n",
    "    return x"
   ]
  },
  {
   "cell_type": "code",
   "execution_count": 2,
   "id": "b5ebc572",
   "metadata": {},
   "outputs": [
    {
     "name": "stdout",
     "output_type": "stream",
     "text": [
      "25\n"
     ]
    }
   ],
   "source": [
    "print(x)"
   ]
  },
  {
   "cell_type": "code",
   "execution_count": 3,
   "id": "67c6917d",
   "metadata": {},
   "outputs": [
    {
     "name": "stdout",
     "output_type": "stream",
     "text": [
      "50\n"
     ]
    }
   ],
   "source": [
    "print(printer())"
   ]
  },
  {
   "cell_type": "markdown",
   "id": "4a1bd50a",
   "metadata": {},
   "source": [
    "scope allows python to have a set of rules to decide which variables are being referenced in code.\n",
    "\n",
    "LEGB<br>\n",
    "L:Local - names assigned in any way wthin a function<br>\n",
    "E:Enclosing Function Locals - names in the local scope of any and all enclosing functions<br>\n",
    "G:Golbal(module) - names assigned a tthe top-;eve; of a file<br>\n",
    "B:Built-in(python) - name presassigned in the built-in names module (open, range, etc...)\n"
   ]
  },
  {
   "cell_type": "code",
   "execution_count": 4,
   "id": "b8aa260d",
   "metadata": {},
   "outputs": [],
   "source": [
    "# Local example: lambda num: num**2"
   ]
  },
  {
   "cell_type": "code",
   "execution_count": 7,
   "id": "f4fc2a02",
   "metadata": {},
   "outputs": [],
   "source": [
    "#Enclosing Function Local example: \n",
    "\n",
    "name = \"THIS IS A GLOBAL STRING\"\n",
    "\n",
    "def greet():\n",
    "    \n",
    "    name = \"Sammy\"\n",
    "    \n",
    "    def hello():\n",
    "        print(\"Hello \" + name)\n",
    "        \n",
    "    hello()"
   ]
  },
  {
   "cell_type": "code",
   "execution_count": 8,
   "id": "0fa086f1",
   "metadata": {},
   "outputs": [
    {
     "name": "stdout",
     "output_type": "stream",
     "text": [
      "Hello Sammy\n"
     ]
    }
   ],
   "source": [
    "greet()"
   ]
  },
  {
   "cell_type": "code",
   "execution_count": 11,
   "id": "6219f743",
   "metadata": {},
   "outputs": [],
   "source": [
    "#global\n",
    "name = \"THIS IS A GLOBAL STRING\"\n",
    "\n",
    "def greet():\n",
    "    #enclosing\n",
    "    name = \"Sammy\"\n",
    "    \n",
    "    def hello():\n",
    "        #local\n",
    "        name = \"I AM A LOCAL\"\n",
    "        print(\"Hello \" + name)\n",
    "        \n",
    "    hello()"
   ]
  },
  {
   "cell_type": "code",
   "execution_count": 12,
   "id": "4c1c6f16",
   "metadata": {},
   "outputs": [
    {
     "name": "stdout",
     "output_type": "stream",
     "text": [
      "Hello I AM A LOCAL\n"
     ]
    }
   ],
   "source": [
    "greet()"
   ]
  },
  {
   "cell_type": "markdown",
   "id": "69ef9949",
   "metadata": {},
   "source": [
    "never overwrite built-in variables"
   ]
  },
  {
   "cell_type": "code",
   "execution_count": 15,
   "id": "a47c692b",
   "metadata": {},
   "outputs": [],
   "source": [
    "x = 50\n",
    "\n",
    "def func(x):\n",
    "    print(f'x is {x}')\n",
    "    \n",
    "    #LOCAL REASSIGNMENT!\n",
    "    x = 200\n",
    "    print(f'I JUST LOCALLY CHANGED X TO {x}')"
   ]
  },
  {
   "cell_type": "code",
   "execution_count": 16,
   "id": "7b68ca69",
   "metadata": {},
   "outputs": [
    {
     "name": "stdout",
     "output_type": "stream",
     "text": [
      "x is 50\n",
      "I JUST LOCALLY CHANGED X TO 200\n"
     ]
    }
   ],
   "source": [
    "func(x)"
   ]
  },
  {
   "cell_type": "code",
   "execution_count": 17,
   "id": "8ef1f204",
   "metadata": {},
   "outputs": [
    {
     "name": "stdout",
     "output_type": "stream",
     "text": [
      "50\n"
     ]
    }
   ],
   "source": [
    "print(x)"
   ]
  },
  {
   "cell_type": "markdown",
   "id": "44c019d8",
   "metadata": {},
   "source": [
    "When you declare variables inside a function, they only have a scope local to that function."
   ]
  },
  {
   "cell_type": "code",
   "execution_count": 18,
   "id": "15dd7465",
   "metadata": {},
   "outputs": [],
   "source": [
    "x = 50\n",
    "\n",
    "def func():\n",
    "    #go to the name space, jump to the local level and grab the x variable that is globally declared\n",
    "    global x\n",
    "    print(f'x is {x}')\n",
    "    \n",
    "    #LOCAL REASSIGNMENT on a GLOBAL variable!\n",
    "    x = \"NEW VALUE\"\n",
    "    print(f'I JUST LOCALLY CHANGED GLOBAL X TO {x}')"
   ]
  },
  {
   "cell_type": "code",
   "execution_count": 19,
   "id": "fdc9110e",
   "metadata": {},
   "outputs": [
    {
     "name": "stdout",
     "output_type": "stream",
     "text": [
      "50\n"
     ]
    }
   ],
   "source": [
    "print(x)"
   ]
  },
  {
   "cell_type": "code",
   "execution_count": 20,
   "id": "14b3c4b3",
   "metadata": {},
   "outputs": [
    {
     "name": "stdout",
     "output_type": "stream",
     "text": [
      "x is 50\n",
      "I JUST LOCALLY CHANGED GLOBAL X TO NEW VALUE\n"
     ]
    }
   ],
   "source": [
    "func()"
   ]
  },
  {
   "cell_type": "code",
   "execution_count": 21,
   "id": "c215d1f5",
   "metadata": {},
   "outputs": [
    {
     "name": "stdout",
     "output_type": "stream",
     "text": [
      "NEW VALUE\n"
     ]
    }
   ],
   "source": [
    "print(x)"
   ]
  },
  {
   "cell_type": "markdown",
   "id": "c9a9f52d",
   "metadata": {},
   "source": [
    "avoid using global keyword unless necessary. Take it in as a parameter and return it as an object"
   ]
  },
  {
   "cell_type": "code",
   "execution_count": 32,
   "id": "29de6df4",
   "metadata": {},
   "outputs": [],
   "source": [
    "x = 50\n",
    "\n",
    "def func(x):\n",
    "\n",
    "    print(f'x is {x}')\n",
    "    \n",
    "    #LOCAL REASSIGNMENT on a GLOBAL variable!\n",
    "    x = \"NEW VALUE\"\n",
    "    print(f'I JUST LOCALLY CHANGED X TO {x}')\n",
    "    return x\n",
    "\n",
    "#better to do this because it's safer and clearner"
   ]
  },
  {
   "cell_type": "code",
   "execution_count": 33,
   "id": "0e38f5f7",
   "metadata": {},
   "outputs": [
    {
     "name": "stdout",
     "output_type": "stream",
     "text": [
      "50\n"
     ]
    }
   ],
   "source": [
    "print(x)"
   ]
  },
  {
   "cell_type": "code",
   "execution_count": 34,
   "id": "b74da29b",
   "metadata": {},
   "outputs": [
    {
     "name": "stdout",
     "output_type": "stream",
     "text": [
      "x is 50\n",
      "I JUST LOCALLY CHANGED X TO NEW VALUE\n"
     ]
    }
   ],
   "source": [
    "x = func(x)"
   ]
  },
  {
   "cell_type": "code",
   "execution_count": 35,
   "id": "44fd4156",
   "metadata": {},
   "outputs": [
    {
     "data": {
      "text/plain": [
       "'NEW VALUE'"
      ]
     },
     "execution_count": 35,
     "metadata": {},
     "output_type": "execute_result"
    }
   ],
   "source": [
    "x"
   ]
  },
  {
   "cell_type": "code",
   "execution_count": null,
   "id": "1ada5233",
   "metadata": {},
   "outputs": [],
   "source": []
  }
 ],
 "metadata": {
  "kernelspec": {
   "display_name": "Python 3 (ipykernel)",
   "language": "python",
   "name": "python3"
  },
  "language_info": {
   "codemirror_mode": {
    "name": "ipython",
    "version": 3
   },
   "file_extension": ".py",
   "mimetype": "text/x-python",
   "name": "python",
   "nbconvert_exporter": "python",
   "pygments_lexer": "ipython3",
   "version": "3.9.7"
  }
 },
 "nbformat": 4,
 "nbformat_minor": 5
}

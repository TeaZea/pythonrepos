{
 "cells": [
  {
   "cell_type": "code",
   "execution_count": 1,
   "id": "3ec69e70",
   "metadata": {},
   "outputs": [],
   "source": [
    "import PyPDF2"
   ]
  },
  {
   "cell_type": "code",
   "execution_count": 3,
   "id": "5c8369d9",
   "metadata": {},
   "outputs": [],
   "source": [
    "#open file,reading binary\n",
    "f = open(\"Working_Business_Proposal.pdf\",\"rb\")#rb = read binary"
   ]
  },
  {
   "cell_type": "code",
   "execution_count": 4,
   "id": "d89da46f",
   "metadata": {},
   "outputs": [],
   "source": [
    "#assign variable to pypdf2 and call the open filed as argument\n",
    "pdf_reader = PyPDF2.PdfFileReader(f)"
   ]
  },
  {
   "cell_type": "code",
   "execution_count": 5,
   "id": "e7632447",
   "metadata": {},
   "outputs": [
    {
     "data": {
      "text/plain": [
       "5"
      ]
     },
     "execution_count": 5,
     "metadata": {},
     "output_type": "execute_result"
    }
   ],
   "source": [
    "#how many pages?\n",
    "pdf_reader.numPages"
   ]
  },
  {
   "cell_type": "code",
   "execution_count": 7,
   "id": "801dc4b4",
   "metadata": {},
   "outputs": [],
   "source": [
    "#call page\n",
    "page_one = pdf_reader.getPage(0)"
   ]
  },
  {
   "cell_type": "code",
   "execution_count": 8,
   "id": "9a36734c",
   "metadata": {},
   "outputs": [],
   "source": [
    "#call text\n",
    "page_one_text = page_one.extractText()"
   ]
  },
  {
   "cell_type": "code",
   "execution_count": 9,
   "id": "d234075b",
   "metadata": {},
   "outputs": [
    {
     "data": {
      "text/plain": [
       "'Bus in es s  Propos al\\n \\nThe Revolution is Coming\\n \\nLeverage agile frameworks to provide a robust synopsis for high level \\noverviews. Iterative approaches to corporate strategy foster collaborative \\nthinking to fur ther the overall value proposition. Organically grow the \\nholistic world view of disruptive innovation via workplace diversity and \\nempower ment. \\nBring to the table win-win survival strategies to ensure proactive \\ndomination. At the end of the day, going forward, a new nor mal that has \\nevolved from generation X is on the runway heading towards a streamlined \\ncloud solution. User generated content in real-time will have multiple \\ntouchpoints for offshoring. \\nCapitalize on low hanging fruit to identify a ballpark value added activity to \\nbeta test. Override the digital divide with additional clickthroughs from \\nDevOps. Nanotechnology immersion along the infor mation highway will \\nclose the loop on focusing solely on the bottom line. \\nPodcasting operational change management inside of workßows to \\nestablish a framework. Taking seamless key per for mance indicators ofßine \\nto maximise the long tail. Keeping your eye on the ball while per for ming a \\ndeep dive on the star t-up mentality to derive convergence on cross-\\nplatfor m integration. \\nC o l l a b o r a t i v e l y a d m i n i s t r a t e e m p o w e re d m a r k e t s v i a p l u g - a n d - p l a y \\nnetworks. Dynamically procrastinate B2C users after installed base \\nbeneÞts. Dramatically visualize customer directed convergence without \\nrevolutionar y ROI. \\nEfÞciently unleash cross-media infor mation without cross-media value. \\nQuickly maximize timely deliverables for real-time schemas. Dramatically \\nmaintain clicks-and-mor tar solutions without functional solutions. \\nBUSINESS PROPOSAL\\n!\\n1\\n'"
      ]
     },
     "execution_count": 9,
     "metadata": {},
     "output_type": "execute_result"
    }
   ],
   "source": [
    "page_one_text"
   ]
  },
  {
   "cell_type": "code",
   "execution_count": 11,
   "id": "cc9dba96",
   "metadata": {},
   "outputs": [],
   "source": [
    "#close\n",
    "f.close()"
   ]
  },
  {
   "cell_type": "code",
   "execution_count": 12,
   "id": "3f66be17",
   "metadata": {},
   "outputs": [],
   "source": [
    "#paid programs will allow you to go into the middle of a pdf file\n",
    "#pdfs are not designed to be easily changed"
   ]
  },
  {
   "cell_type": "code",
   "execution_count": 27,
   "id": "6b415d70",
   "metadata": {},
   "outputs": [],
   "source": [
    "f = open(\"Working_Business_Proposal.pdf\",\"rb\")\n",
    "pdf_reader = PyPDF2.PdfFileReader(f)"
   ]
  },
  {
   "cell_type": "code",
   "execution_count": 28,
   "id": "9ef80741",
   "metadata": {},
   "outputs": [],
   "source": [
    "first_page = pdf_reader.getPage(0)"
   ]
  },
  {
   "cell_type": "code",
   "execution_count": 29,
   "id": "513c9264",
   "metadata": {},
   "outputs": [],
   "source": [
    "#create writer object\n",
    "pdf_writer = PyPDF2.PdfFileWriter()"
   ]
  },
  {
   "cell_type": "code",
   "execution_count": 30,
   "id": "1fc6c776",
   "metadata": {},
   "outputs": [],
   "source": [
    "#arguments need to be a PDF reader object\n",
    "pdf_writer.addPage(first_page)"
   ]
  },
  {
   "cell_type": "code",
   "execution_count": 31,
   "id": "fdf16201",
   "metadata": {},
   "outputs": [],
   "source": [
    "pdf_output = open(\"Some_BrandNew_Doc.pdf\",\"wb\")"
   ]
  },
  {
   "cell_type": "code",
   "execution_count": 32,
   "id": "62948761",
   "metadata": {},
   "outputs": [],
   "source": [
    "pdf_writer.write(pdf_output)"
   ]
  },
  {
   "cell_type": "code",
   "execution_count": 33,
   "id": "839777be",
   "metadata": {},
   "outputs": [],
   "source": [
    "#file read closed\n",
    "f.close()"
   ]
  },
  {
   "cell_type": "code",
   "execution_count": 34,
   "id": "ec31f638",
   "metadata": {},
   "outputs": [],
   "source": [
    "#file wrote to closed\n",
    "pdf_output.close()"
   ]
  },
  {
   "cell_type": "code",
   "execution_count": 36,
   "id": "a270bf19",
   "metadata": {},
   "outputs": [],
   "source": [
    "#for loop steps\n",
    "f = open(\"Working_Business_Proposal.pdf\",\"rb\")\n",
    "\n",
    "\n",
    "#placeholder empty list. Index will corrospond to page number\n",
    "pdf_text = []\n",
    "\n",
    "#reader object\n",
    "pdf_reader = PyPDF2.PdfFileReader(f)#pass in open object\n",
    "\n",
    "for num in range(pdf_reader.numPages):\n",
    "    \n",
    "    page = pdf_reader.getPage(num)\n",
    "    \n",
    "    pdf_text.append(page.extractText())"
   ]
  },
  {
   "cell_type": "code",
   "execution_count": 38,
   "id": "cadbb6a9",
   "metadata": {},
   "outputs": [
    {
     "data": {
      "text/plain": [
       "'Completely synergize resource taxing relationships via premier niche \\nmarkets. Professionally cultivate one-to-one customer service with robust \\nideas. Dynamically innovate resource-leveling customer service for state of \\nthe ar t customer service. \\nObjectively innovate empowered manufactured products whereas parallel \\nplatfor ms. Holisticly predominate extensible testing procedures for reliable \\nsupply chains. Dramatically engage top-line web services vis-a-vis \\ncutting-edge deliverables. \\nProactively envisioned multimedia based exper tise and cross-media \\ngrowth strategies. Seamlessly visualize quality intellectual capital without \\nsuperior collaboration and idea-sharing. Holistically pontiÞcate installed \\nbase por tals after maintainable products. \\nPhosßuorescently engage worldwide methodologies with web-enabled \\ntechnology. Interactively coordinate proactive e-commerce via process-\\ncentric \"outside the box\" thinking. Completely pursue scalable customer \\nservice through sustainable potentialities. \\nCollaboratively administrate tur nkey channels whereas vir tual e-tailers. \\nO b j e c t i v e l y s e i z e s c a l a b l e m e t r i c s w h e r e a s p r o a c t i v e e - s e r v i c e s . \\nSeamlessly empower fully researched growth strategies and interoperable \\ninter nal or \"organic\" sources. \\nCredibly innovate granular inter nal or \"organic\" sources whereas high \\ns t a n d a r d s i n w e b - r e a d i n e s s . E n e r g i s t i c a l l y s c a l e f u t u r e - p r o o f c o r e \\ncompetencies vis-a-vis impactful experiences. Dramatically synthesize \\nintegrated schemas with optimal networks. \\nInteractively procrastinate high-payoff content without backward-\\ncompatible data. Quickly cultivate optimal processes and tactical \\narchitectures. Completely iterate covalent strategic theme areas via \\naccurate e-markets. \\nGlobally incubate standards compliant channels before scalable beneÞts. \\nQuickly disseminate superior deliverables whereas web-enabled \\nBUSINESS PROPOSAL\\n!\\n2\\n'"
      ]
     },
     "execution_count": 38,
     "metadata": {},
     "output_type": "execute_result"
    }
   ],
   "source": [
    "pdf_text[1]"
   ]
  },
  {
   "cell_type": "code",
   "execution_count": 39,
   "id": "e2b0b0a2",
   "metadata": {},
   "outputs": [
    {
     "data": {
      "text/plain": [
       "['Bus in es s  Propos al\\n \\nThe Revolution is Coming\\n \\nLeverage agile frameworks to provide a robust synopsis for high level \\noverviews. Iterative approaches to corporate strategy foster collaborative \\nthinking to fur ther the overall value proposition. Organically grow the \\nholistic world view of disruptive innovation via workplace diversity and \\nempower ment. \\nBring to the table win-win survival strategies to ensure proactive \\ndomination. At the end of the day, going forward, a new nor mal that has \\nevolved from generation X is on the runway heading towards a streamlined \\ncloud solution. User generated content in real-time will have multiple \\ntouchpoints for offshoring. \\nCapitalize on low hanging fruit to identify a ballpark value added activity to \\nbeta test. Override the digital divide with additional clickthroughs from \\nDevOps. Nanotechnology immersion along the infor mation highway will \\nclose the loop on focusing solely on the bottom line. \\nPodcasting operational change management inside of workßows to \\nestablish a framework. Taking seamless key per for mance indicators ofßine \\nto maximise the long tail. Keeping your eye on the ball while per for ming a \\ndeep dive on the star t-up mentality to derive convergence on cross-\\nplatfor m integration. \\nC o l l a b o r a t i v e l y a d m i n i s t r a t e e m p o w e re d m a r k e t s v i a p l u g - a n d - p l a y \\nnetworks. Dynamically procrastinate B2C users after installed base \\nbeneÞts. Dramatically visualize customer directed convergence without \\nrevolutionar y ROI. \\nEfÞciently unleash cross-media infor mation without cross-media value. \\nQuickly maximize timely deliverables for real-time schemas. Dramatically \\nmaintain clicks-and-mor tar solutions without functional solutions. \\nBUSINESS PROPOSAL\\n!\\n1\\n',\n",
       " 'Completely synergize resource taxing relationships via premier niche \\nmarkets. Professionally cultivate one-to-one customer service with robust \\nideas. Dynamically innovate resource-leveling customer service for state of \\nthe ar t customer service. \\nObjectively innovate empowered manufactured products whereas parallel \\nplatfor ms. Holisticly predominate extensible testing procedures for reliable \\nsupply chains. Dramatically engage top-line web services vis-a-vis \\ncutting-edge deliverables. \\nProactively envisioned multimedia based exper tise and cross-media \\ngrowth strategies. Seamlessly visualize quality intellectual capital without \\nsuperior collaboration and idea-sharing. Holistically pontiÞcate installed \\nbase por tals after maintainable products. \\nPhosßuorescently engage worldwide methodologies with web-enabled \\ntechnology. Interactively coordinate proactive e-commerce via process-\\ncentric \"outside the box\" thinking. Completely pursue scalable customer \\nservice through sustainable potentialities. \\nCollaboratively administrate tur nkey channels whereas vir tual e-tailers. \\nO b j e c t i v e l y s e i z e s c a l a b l e m e t r i c s w h e r e a s p r o a c t i v e e - s e r v i c e s . \\nSeamlessly empower fully researched growth strategies and interoperable \\ninter nal or \"organic\" sources. \\nCredibly innovate granular inter nal or \"organic\" sources whereas high \\ns t a n d a r d s i n w e b - r e a d i n e s s . E n e r g i s t i c a l l y s c a l e f u t u r e - p r o o f c o r e \\ncompetencies vis-a-vis impactful experiences. Dramatically synthesize \\nintegrated schemas with optimal networks. \\nInteractively procrastinate high-payoff content without backward-\\ncompatible data. Quickly cultivate optimal processes and tactical \\narchitectures. Completely iterate covalent strategic theme areas via \\naccurate e-markets. \\nGlobally incubate standards compliant channels before scalable beneÞts. \\nQuickly disseminate superior deliverables whereas web-enabled \\nBUSINESS PROPOSAL\\n!\\n2\\n',\n",
       " 'applications. Quickly drive clicks-and-mor tar catalysts for change before \\nver tical architectures. \\nCredibly reintermediate backend ideas for cross-platform models. \\nContinually reinter mediate integrated processes through technically sound \\nintellectual capital. Holistically foster superior methodologies without \\nmarket-driven best practices. \\nDistinctively exploit optimal alignments for intuitive bandwidth. Quickly \\ncoordinate e-business applications through revolutionar y catalysts for \\nchange. Seamlessly underwhelm optimal testing procedures whereas \\nbricks-and-clicks processes. \\nSynergistically evolve 2.0 technologies rather than just in time initiatives. \\nQuickly deploy strategic networks with compelling e-business. Credibly \\npontiÞcate highly efÞcient manufactured products and enabled data. \\nDynamically target high-payoff intellectual capital for customized \\ntechnologies. Objectively integrate emerging core competencies before \\nprocess-centric communities. Dramatically evisculate holistic innovation \\nrather than client-centric data. \\nProgressively maintain extensive infomediaries via extensible niches. \\nDramatically disseminate standardized metrics after resource-leveling \\nprocesses. Objectively pursue diverse catalysts for change for \\ninteroperable meta-services. \\nProactively fabricate one-to-one materials via effective e-business. \\nCompletely synergize scalable e-commerce rather than high standards in \\ne-services. Asser tively iterate resource maximizing products after leading-\\nedge intellectual capital. \\nDistinctively re-engineer revolutionary meta-services and premium \\narchitectures. Intrinsically incubate intuitive oppor tunities and real-time \\npotentialities. Appropriately communicate one-to-one technology after \\nplug-and-play networks. \\nQuickly aggregate B2B users and worldwide potentialities. Progressively \\nplagiarize resource-leveling e-commerce through resource-leveling core \\nBUSINESS PROPOSAL\\n!\\n3\\n',\n",
       " 'competencies. Dramatically mesh low-risk high-yield alignments before \\ntransparent e-tailers. \\nAppropriately empower dynamic leadership skills after business por tals. \\nGlobally myocardinate interactive supply chains with distinctive quality \\nvectors. Globally revolutionize global sources through interoperable \\nservices. \\nEnthusiastically mesh long-term high-impact infrastructures vis-a-vis \\nefÞcient customer service. Professionally fashion wireless leadership rather \\nthan prospective experiences. Energistically myocardinate clicks-and-\\nmortar testing procedures whereas next-generation manufactured \\nproducts. \\nDynamically reinvent market-driven opportunities and ubiquitous \\ninter faces. Energistically fabricate an expanded array of niche markets \\nthrough robust products. Appropriately implement visionar y e-services vis-\\na-vis strategic web-readiness. \\nCompellingly embrace empowered e-business after user friendly \\ni n t e l l e c t u a l c a p i t a l . I n t e r a c t i v e l y a c t u a l i z e f ro n t - e n d p ro c e s s e s w i t h \\neffective convergence. Synergistically deliver performance based \\nmethods of empower ment whereas distributed exper tise. \\nEfÞciently enable enabled sources and cost effective products. \\nCompletely synthesize principle-centered information after ethical \\ncommunities. EfÞciently innovate open-source infrastructures via \\ninexpensive materials. \\nObjectively integrate enterprise-wide strategic theme areas with \\nf u n c t i o n a l i z e d i n f r a s t r u c t u r e s . I n t e r a c t i v e l y p r o d u c t i z e p r e m i u m \\ntechnologies whereas interdependent quality vectors. Rapaciously utilize \\nenterprise experiences via 24/7 markets. \\nUniquely matrix economically sound value through cooperative \\ntechnology. Competently parallel task fully researched data and enterprise \\nprocess improvements. Collaboratively expedite quality manufactured \\nproducts via client-focused results. \\nBUSINESS PROPOSAL\\n!\\n4\\n',\n",
       " 'Quickly communicate enabled technology and tur nkey leadership skills. \\nU n i q u e l y e n a b l e a c c u r a t e s u p p l y c h a i n s r a t h e r t h a n f r i c t i o n l e s s \\ntechnology. Globally network focused materials vis-a-vis cost effective \\nmanufactured products. \\nBUSINESS PROPOSAL\\n!\\n5\\n']"
      ]
     },
     "execution_count": 39,
     "metadata": {},
     "output_type": "execute_result"
    }
   ],
   "source": [
    "pdf_text"
   ]
  },
  {
   "cell_type": "code",
   "execution_count": 40,
   "id": "6848dc95",
   "metadata": {},
   "outputs": [
    {
     "name": "stdout",
     "output_type": "stream",
     "text": [
      "Completely synergize resource taxing relationships via premier niche \n",
      "markets. Professionally cultivate one-to-one customer service with robust \n",
      "ideas. Dynamically innovate resource-leveling customer service for state of \n",
      "the ar t customer service. \n",
      "Objectively innovate empowered manufactured products whereas parallel \n",
      "platfor ms. Holisticly predominate extensible testing procedures for reliable \n",
      "supply chains. Dramatically engage top-line web services vis-a-vis \n",
      "cutting-edge deliverables. \n",
      "Proactively envisioned multimedia based exper tise and cross-media \n",
      "growth strategies. Seamlessly visualize quality intellectual capital without \n",
      "superior collaboration and idea-sharing. Holistically pontiÞcate installed \n",
      "base por tals after maintainable products. \n",
      "Phosßuorescently engage worldwide methodologies with web-enabled \n",
      "technology. Interactively coordinate proactive e-commerce via process-\n",
      "centric \"outside the box\" thinking. Completely pursue scalable customer \n",
      "service through sustainable potentialities. \n",
      "Collaboratively administrate tur nkey channels whereas vir tual e-tailers. \n",
      "O b j e c t i v e l y s e i z e s c a l a b l e m e t r i c s w h e r e a s p r o a c t i v e e - s e r v i c e s . \n",
      "Seamlessly empower fully researched growth strategies and interoperable \n",
      "inter nal or \"organic\" sources. \n",
      "Credibly innovate granular inter nal or \"organic\" sources whereas high \n",
      "s t a n d a r d s i n w e b - r e a d i n e s s . E n e r g i s t i c a l l y s c a l e f u t u r e - p r o o f c o r e \n",
      "competencies vis-a-vis impactful experiences. Dramatically synthesize \n",
      "integrated schemas with optimal networks. \n",
      "Interactively procrastinate high-payoff content without backward-\n",
      "compatible data. Quickly cultivate optimal processes and tactical \n",
      "architectures. Completely iterate covalent strategic theme areas via \n",
      "accurate e-markets. \n",
      "Globally incubate standards compliant channels before scalable beneÞts. \n",
      "Quickly disseminate superior deliverables whereas web-enabled \n",
      "BUSINESS PROPOSAL\n",
      "!\n",
      "2\n",
      "\n"
     ]
    }
   ],
   "source": [
    "print(pdf_text[1])"
   ]
  },
  {
   "cell_type": "code",
   "execution_count": null,
   "id": "d485fb06",
   "metadata": {},
   "outputs": [],
   "source": []
  }
 ],
 "metadata": {
  "kernelspec": {
   "display_name": "Python 3 (ipykernel)",
   "language": "python",
   "name": "python3"
  },
  "language_info": {
   "codemirror_mode": {
    "name": "ipython",
    "version": 3
   },
   "file_extension": ".py",
   "mimetype": "text/x-python",
   "name": "python",
   "nbconvert_exporter": "python",
   "pygments_lexer": "ipython3",
   "version": "3.9.7"
  }
 },
 "nbformat": 4,
 "nbformat_minor": 5
}

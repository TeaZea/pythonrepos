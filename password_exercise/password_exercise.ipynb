{
 "cells": [
  {
   "cell_type": "code",
   "execution_count": 1,
   "id": "0d1e6825",
   "metadata": {},
   "outputs": [],
   "source": [
    "#ask for a password 3 times. On the fourth time, lockout user.\n",
    "\n",
    "#create a password varriable\n",
    "\n",
    "#get input from user asking for password\n",
    "\n",
    "#check if password is correct\n",
    "#have a message for successful login\n",
    "\n",
    "#check if password attempts is <= 3. If True, continue, if False, break\n",
    "#have a message to try again\n",
    "\n"
   ]
  },
  {
   "cell_type": "code",
   "execution_count": 2,
   "id": "b905dbb8",
   "metadata": {},
   "outputs": [],
   "source": [
    "#password\n",
    "password = \"apple\""
   ]
  },
  {
   "cell_type": "code",
   "execution_count": 15,
   "id": "d68c16ff",
   "metadata": {},
   "outputs": [],
   "source": [
    "#user input for password\n",
    "\n",
    "def login():\n",
    "    user_login = input(\"what's the password: \")\n",
    "        \n",
    "    return user_login"
   ]
  },
  {
   "cell_type": "code",
   "execution_count": 16,
   "id": "2fbd5653",
   "metadata": {},
   "outputs": [
    {
     "name": "stdout",
     "output_type": "stream",
     "text": [
      "what's the password: cherry\n"
     ]
    },
    {
     "data": {
      "text/plain": [
       "'cherry'"
      ]
     },
     "execution_count": 16,
     "metadata": {},
     "output_type": "execute_result"
    }
   ],
   "source": [
    "login()"
   ]
  },
  {
   "cell_type": "code",
   "execution_count": 1,
   "id": "ea6e923b",
   "metadata": {},
   "outputs": [],
   "source": [
    "#check if password is correct\n",
    "\n",
    "def check_password():\n",
    "    \n",
    "    password = \"\"\n",
    "    \n",
    "    while password != \"apple\":\n",
    "        login = input(\"What's the password: \")\n",
    "        if password == \"apple\":\n",
    "            print(\"Correct!\")\n"
   ]
  },
  {
   "cell_type": "code",
   "execution_count": null,
   "id": "4517566d",
   "metadata": {},
   "outputs": [
    {
     "name": "stdout",
     "output_type": "stream",
     "text": [
      "What's the password: cherry\n",
      "What's the password: apple\n"
     ]
    }
   ],
   "source": [
    "check_password()"
   ]
  },
  {
   "cell_type": "code",
   "execution_count": 4,
   "id": "4a72f6a0",
   "metadata": {},
   "outputs": [
    {
     "ename": "IndentationError",
     "evalue": "expected an indented block (14939379.py, line 7)",
     "output_type": "error",
     "traceback": [
      "\u001b[0;36m  File \u001b[0;32m\"/tmp/ipykernel_2751/14939379.py\"\u001b[0;36m, line \u001b[0;32m7\u001b[0m\n\u001b[0;31m    continue\u001b[0m\n\u001b[0m    ^\u001b[0m\n\u001b[0;31mIndentationError\u001b[0m\u001b[0;31m:\u001b[0m expected an indented block\n"
     ]
    }
   ],
   "source": [
    "#three tries\n",
    "\n",
    "def three_tries():\n",
    "    flag = 0\n"
   ]
  },
  {
   "cell_type": "code",
   "execution_count": null,
   "id": "17440c71",
   "metadata": {},
   "outputs": [],
   "source": [
    "three_tries()"
   ]
  },
  {
   "cell_type": "code",
   "execution_count": null,
   "id": "f827c548",
   "metadata": {},
   "outputs": [],
   "source": []
  },
  {
   "cell_type": "code",
   "execution_count": null,
   "id": "009ac06f",
   "metadata": {},
   "outputs": [],
   "source": []
  },
  {
   "cell_type": "code",
   "execution_count": null,
   "id": "b4ebade3",
   "metadata": {},
   "outputs": [],
   "source": []
  },
  {
   "cell_type": "code",
   "execution_count": null,
   "id": "5b317164",
   "metadata": {},
   "outputs": [],
   "source": []
  },
  {
   "cell_type": "code",
   "execution_count": null,
   "id": "1538d75d",
   "metadata": {},
   "outputs": [],
   "source": []
  },
  {
   "cell_type": "code",
   "execution_count": null,
   "id": "2cf23582",
   "metadata": {},
   "outputs": [],
   "source": []
  },
  {
   "cell_type": "code",
   "execution_count": null,
   "id": "d4530ed9",
   "metadata": {},
   "outputs": [],
   "source": []
  },
  {
   "cell_type": "code",
   "execution_count": null,
   "id": "655852ba",
   "metadata": {},
   "outputs": [],
   "source": []
  },
  {
   "cell_type": "code",
   "execution_count": null,
   "id": "8f8ce3fc",
   "metadata": {},
   "outputs": [],
   "source": []
  },
  {
   "cell_type": "code",
   "execution_count": null,
   "id": "7bb04760",
   "metadata": {},
   "outputs": [],
   "source": []
  },
  {
   "cell_type": "code",
   "execution_count": null,
   "id": "cb67b025",
   "metadata": {},
   "outputs": [],
   "source": []
  },
  {
   "cell_type": "code",
   "execution_count": null,
   "id": "9a9fd661",
   "metadata": {},
   "outputs": [],
   "source": []
  },
  {
   "cell_type": "code",
   "execution_count": null,
   "id": "0051afb8",
   "metadata": {},
   "outputs": [],
   "source": []
  },
  {
   "cell_type": "code",
   "execution_count": 6,
   "id": "c6ebc190",
   "metadata": {},
   "outputs": [
    {
     "name": "stdout",
     "output_type": "stream",
     "text": [
      "Input Password: cherry\n",
      "Incorrect!\n",
      "Input Password: apple\n"
     ]
    }
   ],
   "source": [
    "tries = 0\n",
    "\n",
    "guess = input(\"Input Password: \")\n",
    "\n",
    "while guess != \"apple\" and tries != 3:\n",
    "    if guess == \"apple\" and tries != 3:\n",
    "        print(\"Logged in.\")\n",
    "    elif guess != \"apple\" and tries < 3:\n",
    "        print(\"Incorrect!\")\n",
    "        guess = input(\"Input Password: \")\n",
    "        tries += 1\n",
    "    else:\n",
    "        print(\"Locked out!\")\n",
    "        break\n",
    "    "
   ]
  },
  {
   "cell_type": "code",
   "execution_count": null,
   "id": "b163eaf9",
   "metadata": {},
   "outputs": [],
   "source": []
  }
 ],
 "metadata": {
  "kernelspec": {
   "display_name": "Python 3 (ipykernel)",
   "language": "python",
   "name": "python3"
  },
  "language_info": {
   "codemirror_mode": {
    "name": "ipython",
    "version": 3
   },
   "file_extension": ".py",
   "mimetype": "text/x-python",
   "name": "python",
   "nbconvert_exporter": "python",
   "pygments_lexer": "ipython3",
   "version": "3.9.7"
  }
 },
 "nbformat": 4,
 "nbformat_minor": 5
}
